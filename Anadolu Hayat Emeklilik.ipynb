{
 "cells": [
  {
   "cell_type": "code",
   "execution_count": 1,
   "metadata": {},
   "outputs": [
    {
     "name": "stderr",
     "output_type": "stream",
     "text": [
      "c:\\Users\\Pc\\anaconda3\\Lib\\site-packages\\pandas\\core\\arrays\\masked.py:60: UserWarning: Pandas requires version '1.3.6' or newer of 'bottleneck' (version '1.3.5' currently installed).\n",
      "  from pandas.core import (\n"
     ]
    }
   ],
   "source": [
    "import pandas as pd\n",
    "import numpy as np\n",
    "import seaborn as sns\n",
    "import matplotlib.pyplot as plt\n",
    "from sklearn.preprocessing import OneHotEncoder\n",
    "from sklearn.feature_selection import RFE\n",
    "from sklearn.model_selection import train_test_split\n",
    "from sklearn.metrics import accuracy_score\n",
    "import lightgbm as lgb\n",
    "from sklearn.model_selection import GridSearchCV\n",
    "from lightgbm import LGBMClassifier\n",
    "from lightgbm import LGBMRegressor\n",
    "from sklearn.metrics import accuracy_score, confusion_matrix, classification_report, mean_squared_error\n",
    "from sklearn.preprocessing import StandardScaler\n",
    "from sklearn.feature_selection import RFECV\n",
    "from sklearn.model_selection import StratifiedKFold\n",
    "from sklearn.impute import KNNImputer\n",
    "from sklearn.preprocessing import MinMaxScaler\n",
    "from sklearn.preprocessing import LabelEncoder\n",
    "from sklearn.neighbors import LocalOutlierFactor\n",
    "from sklearn.model_selection import cross_val_score\n",
    "from sklearn.neighbors import LocalOutlierFactor\n",
    "from sklearn.feature_selection import mutual_info_classif\n",
    "from sklearn.feature_selection import mutual_info_regression\n",
    "from sklearn.model_selection import KFold\n",
    "from optuna.samplers import TPESampler\n",
    "import optuna\n",
    "import statsmodels.api as sm\n",
    "from statsmodels.graphics.tsaplots import plot_acf\n",
    "from statsmodels.tsa.stattools import adfuller\n",
    "from statsmodels.graphics.tsaplots import plot_pacf\n",
    "from sklearn.feature_selection import RFE\n",
    "from sklearn.inspection import permutation_importance\n",
    "from imblearn.over_sampling import SMOTE\n",
    "from sklearn.metrics import f1_score\n",
    "from sklearn.preprocessing import OrdinalEncoder"
   ]
  },
  {
   "cell_type": "code",
   "execution_count": 93,
   "metadata": {},
   "outputs": [
    {
     "name": "stderr",
     "output_type": "stream",
     "text": [
      "C:\\Users\\Pc\\AppData\\Local\\Temp\\ipykernel_16784\\1419671901.py:1: DtypeWarning: Columns (15) have mixed types. Specify dtype option on import or set low_memory=False.\n",
      "  df = pd.read_csv(r'C:\\Users\\Pc\\Desktop\\anadolu-hayat-emeklilik-datathon-2024\\train.csv')\n"
     ]
    }
   ],
   "source": [
    "df = pd.read_csv(r'C:\\Users\\Pc\\Desktop\\anadolu-hayat-emeklilik-datathon-2024\\train.csv')"
   ]
  },
  {
   "cell_type": "markdown",
   "metadata": {},
   "source": [
    "# EKSİK VERİ TESPİTİ"
   ]
  },
  {
   "cell_type": "code",
   "execution_count": 94,
   "metadata": {},
   "outputs": [
    {
     "name": "stdout",
     "output_type": "stream",
     "text": [
      "Eksik veri tespit edildi: SORU_YATIRIM_KARAKTERI_CVP\n",
      "Eksik Veri Sayısı: 720021\n",
      "Eksik veri tespit edildi: SORU_YATIRIM_KARAKTERI_RG\n",
      "Eksik Veri Sayısı: 720021\n",
      "Eksik veri tespit edildi: SON_AY_KATKI_MIKTARI\n",
      "Eksik Veri Sayısı: 851739\n",
      "Eksik veri tespit edildi: SON_AY_KATKI_ADET\n",
      "Eksik Veri Sayısı: 851739\n",
      "Eksik veri tespit edildi: SON_CEYREK_KATKI_MIKTARI\n",
      "Eksik Veri Sayısı: 847099\n",
      "Eksik veri tespit edildi: SON_CEYREK_KATKI_ADET\n",
      "Eksik Veri Sayısı: 847099\n",
      "Eksik veri tespit edildi: SON_SENE_KATKI_MIKTARI\n",
      "Eksik Veri Sayısı: 837713\n",
      "Eksik veri tespit edildi: SON_SENE_KATKI_ADET\n",
      "Eksik Veri Sayısı: 837713\n"
     ]
    }
   ],
   "source": [
    "# verinin yarısından fazlası eksik olanları sildim\n",
    "silinen_colunmlar = []\n",
    "for i in df.columns:\n",
    "    if df[i].isnull().sum() > (df.shape[0] * 0.5):\n",
    "        print('Eksik veri tespit edildi:', end = \" \")\n",
    "        print(i)\n",
    "        silinen_colunmlar.append(i)\n",
    "        print('Eksik Veri Sayısı:', end = \" \")\n",
    "        print(df[i].isnull().sum())\n",
    "        df.drop(columns=i, inplace = True)"
   ]
  },
  {
   "cell_type": "code",
   "execution_count": 95,
   "metadata": {},
   "outputs": [
    {
     "name": "stdout",
     "output_type": "stream",
     "text": [
      "Eksik veri tespit edildi: SORU_COCUK_SAYISI_CVP\n",
      "Eksik Veri Sayısı: 416560\n",
      "Eksik veri tespit edildi: SORU_COCUK_SAYISI_RG\n",
      "Eksik Veri Sayısı: 416560\n"
     ]
    }
   ],
   "source": [
    "# Verinin 0.4'ü ve 0.5'i arasında kalanları tek tek inceledim\n",
    "for i in df.columns:\n",
    "    if df[i].isnull().sum() > (df.shape[0] * 0.4):\n",
    "        print('Eksik veri tespit edildi:', end = \" \")\n",
    "        print(i)\n",
    "        print('Eksik Veri Sayısı:', end = \" \")\n",
    "        print(df[i].isnull().sum())"
   ]
  },
  {
   "cell_type": "code",
   "execution_count": 96,
   "metadata": {},
   "outputs": [],
   "source": [
    "value_counts = df['SORU_COCUK_SAYISI_CVP'].value_counts(normalize=True)\n",
    "# value counts oranlarına göre yeni değerleri koydum\n",
    "df['SORU_COCUK_SAYISI_CVP'] = df['SORU_COCUK_SAYISI_CVP'].apply(lambda x: np.random.choice(value_counts.index, p=value_counts.values) if pd.isna(x) else x)"
   ]
  },
  {
   "cell_type": "code",
   "execution_count": 97,
   "metadata": {},
   "outputs": [],
   "source": [
    "value_counts_2 = df['SORU_COCUK_SAYISI_RG'].value_counts(normalize = True)\n",
    "# value counts oranlarına göre yeni değerleri koydum\n",
    "df['SORU_COCUK_SAYISI_RG'] = df['SORU_COCUK_SAYISI_RG'].apply(lambda x: np.random.choice(value_counts_2.index, p=value_counts_2.values) if pd.isna(x) else x)"
   ]
  },
  {
   "cell_type": "code",
   "execution_count": 98,
   "metadata": {},
   "outputs": [
    {
     "name": "stdout",
     "output_type": "stream",
     "text": [
      "Eksik veri tespit edildi: SORU_GELIR_CVP\n",
      "Eksik Veri Sayısı: 277902\n",
      "Eksik veri tespit edildi: SORU_GELIR_RG\n",
      "Eksik Veri Sayısı: 277902\n"
     ]
    }
   ],
   "source": [
    "# 0.3-0.4 arasındakilere de bir baktım\n",
    "for i in df.columns:\n",
    "    if df[i].isnull().sum() > (df.shape[0] * 0.3):\n",
    "        print('Eksik veri tespit edildi:', end = \" \")\n",
    "        print(i)\n",
    "        print('Eksik Veri Sayısı:', end = \" \")\n",
    "        print(df[i].isnull().sum())"
   ]
  },
  {
   "cell_type": "code",
   "execution_count": 16,
   "metadata": {},
   "outputs": [],
   "source": [
    "# df['SORU_GELIR_CVP'] = df['SORU_GELIR_CVP'].astype('float64') hata veriyor çünkü 'nokta' yerine 'virgül' var veride"
   ]
  },
  {
   "cell_type": "code",
   "execution_count": 99,
   "metadata": {},
   "outputs": [],
   "source": [
    "if df['SORU_GELIR_CVP'].dtype == 'object':\n",
    "    df['SORU_GELIR_CVP'] = df['SORU_GELIR_CVP'].str.replace(',', '.').astype(float)"
   ]
  },
  {
   "cell_type": "code",
   "execution_count": 19,
   "metadata": {},
   "outputs": [
    {
     "data": {
      "text/plain": [
       "SORU_GELIR_CVP\n",
       "0.0          68975\n",
       "2000.0       40299\n",
       "5000.0       39428\n",
       "3000.0       38332\n",
       "1000.0       29212\n",
       "             ...  \n",
       "1058670.0        1\n",
       "157000.0         1\n",
       "3335.0           1\n",
       "4891.0           1\n",
       "65.0             1\n",
       "Name: count, Length: 2392, dtype: int64"
      ]
     },
     "execution_count": 19,
     "metadata": {},
     "output_type": "execute_result"
    }
   ],
   "source": [
    "# bunu KNN ile doldurmak daha doğru olabilir\n",
    "df['SORU_GELIR_CVP'].value_counts()"
   ]
  },
  {
   "cell_type": "code",
   "execution_count": 20,
   "metadata": {},
   "outputs": [
    {
     "data": {
      "image/png": "[encoded data removed]",
      "text/plain": [
       "<Figure size 1000x600 with 1 Axes>"
      ]
     },
     "metadata": {},
     "output_type": "display_data"
    }
   ],
   "source": [
    "# Değerlerin sayısını hesapla\n",
    "value_counts = df['SORU_GELIR_CVP'].value_counts().head(20)\n",
    "\n",
    "# Log ölçekli grafik çizme\n",
    "plt.figure(figsize=(10, 6))\n",
    "plt.bar(value_counts.index.astype(str), value_counts.values)\n",
    "plt.xlabel('Değerler')\n",
    "plt.ylabel('Frekans (Log Ölçeği)')\n",
    "plt.title('Değerlerin Frekans Dağılımı')\n",
    "plt.xticks(rotation=90)\n",
    "plt.show()"
   ]
  },
  {
   "cell_type": "code",
   "execution_count": 21,
   "metadata": {},
   "outputs": [
    {
     "data": {
      "text/plain": [
       "SORU_GELIR_CVP\n",
       "0.0        68975\n",
       "2000.0     40299\n",
       "5000.0     39428\n",
       "3000.0     38332\n",
       "1000.0     29212\n",
       "10000.0    24636\n",
       "4000.0     19842\n",
       "1500.0     15524\n",
       "2500.0     14408\n",
       "15000.0    11169\n",
       "Name: count, dtype: int64"
      ]
     },
     "execution_count": 21,
     "metadata": {},
     "output_type": "execute_result"
    }
   ],
   "source": [
    "df['SORU_GELIR_CVP'].value_counts().head(10)"
   ]
  },
  {
   "cell_type": "code",
   "execution_count": 100,
   "metadata": {},
   "outputs": [],
   "source": [
    "value_counts_3 = df['SORU_GELIR_CVP'].value_counts().head(10)\n",
    "value_counts_3 = df['SORU_GELIR_CVP'].value_counts(normalize = True)\n",
    "# value counts oranlarına göre yeni değerleri koydum\n",
    "df['SORU_GELIR_CVP'] = df['SORU_GELIR_CVP'].apply(lambda x: np.random.choice(value_counts_3.index, p=value_counts_3.values) if pd.isna(x) else x)"
   ]
  },
  {
   "cell_type": "code",
   "execution_count": 101,
   "metadata": {},
   "outputs": [],
   "source": [
    "value_counts_4 = df['SORU_GELIR_RG'].value_counts(normalize = True)\n",
    "# value counts oranlarına göre yeni değerleri koydum\n",
    "df['SORU_GELIR_RG'] = df['SORU_GELIR_RG'].apply(lambda x: np.random.choice(value_counts_4.index, p=value_counts_4.values) if pd.isna(x) else x)"
   ]
  },
  {
   "cell_type": "code",
   "execution_count": 102,
   "metadata": {},
   "outputs": [
    {
     "name": "stdout",
     "output_type": "stream",
     "text": [
      "Eksik veri tespit edildi: PP_MESLEK\n",
      "Eksik Veri Sayısı: 88620\n",
      "Eksik veri tespit edildi: SORU_MEDENI_HAL_CVP\n",
      "Eksik Veri Sayısı: 1780\n",
      "Eksik veri tespit edildi: SORU_MEDENI_HAL_RG\n",
      "Eksik Veri Sayısı: 1780\n",
      "Eksik veri tespit edildi: SORU_EGITIM_CVP\n",
      "Eksik Veri Sayısı: 127095\n",
      "Eksik veri tespit edildi: SORU_EGITIM_RG\n",
      "Eksik Veri Sayısı: 127095\n"
     ]
    }
   ],
   "source": [
    "for i in df.columns:\n",
    "    if df[i].isnull().sum() > 0:\n",
    "        print('Eksik veri tespit edildi:', end = \" \")\n",
    "        print(i)\n",
    "        print('Eksik Veri Sayısı:', end = \" \")\n",
    "        print(df[i].isnull().sum())"
   ]
  },
  {
   "cell_type": "code",
   "execution_count": 103,
   "metadata": {},
   "outputs": [],
   "source": [
    "df['PP_MESLEK'] = df['PP_MESLEK'].fillna('Bilinmiyor')"
   ]
  },
  {
   "cell_type": "code",
   "execution_count": 104,
   "metadata": {},
   "outputs": [],
   "source": [
    "value_counts_5 = df['SORU_MEDENI_HAL_CVP'].value_counts(normalize = True)\n",
    "# value counts oranlarına göre yeni değerleri koydum\n",
    "df['SORU_MEDENI_HAL_CVP'] = df['SORU_MEDENI_HAL_CVP'].apply(lambda x: np.random.choice(value_counts_5.index, p=value_counts_5.values) if pd.isna(x) else x)"
   ]
  },
  {
   "cell_type": "code",
   "execution_count": 105,
   "metadata": {},
   "outputs": [],
   "source": [
    "df.drop(columns = 'SORU_MEDENI_HAL_RG', inplace = True)"
   ]
  },
  {
   "cell_type": "code",
   "execution_count": 106,
   "metadata": {},
   "outputs": [],
   "source": [
    "value_counts_6 = df['SORU_EGITIM_CVP'].value_counts(normalize = True)\n",
    "# value counts oranlarına göre yeni değerleri koydum\n",
    "df['SORU_EGITIM_CVP'] = df['SORU_EGITIM_CVP'].apply(lambda x: np.random.choice(value_counts_6.index, p=value_counts_6.values) if pd.isna(x) else x)"
   ]
  },
  {
   "cell_type": "code",
   "execution_count": 107,
   "metadata": {},
   "outputs": [],
   "source": [
    "value_counts_7 = df['SORU_EGITIM_RG'].value_counts(normalize = True)\n",
    "# value counts oranlarına göre yeni değerleri koydum\n",
    "df['SORU_EGITIM_RG'] = df['SORU_EGITIM_RG'].apply(lambda x: np.random.choice(value_counts_7.index, p=value_counts_7.values) if pd.isna(x) else x)"
   ]
  },
  {
   "cell_type": "code",
   "execution_count": 2,
   "metadata": {},
   "outputs": [],
   "source": [
    "Object_olacaklar = [\n",
    "    'PP_CINSIYET', 'PP_MUSTERI_SEGMENTI', 'PP_UYRUK' \n",
    "]                      # BUNLAR INT64 VERI TIPINDA"
   ]
  },
  {
   "cell_type": "code",
   "execution_count": 110,
   "metadata": {},
   "outputs": [],
   "source": [
    "for i in Object_olacaklar:\n",
    "    df[i] = df[i].astype('object')"
   ]
  },
  {
   "cell_type": "code",
   "execution_count": 111,
   "metadata": {},
   "outputs": [
    {
     "data": {
      "text/html": [
       "<div>\n",
       "<style scoped>\n",
       "    .dataframe tbody tr th:only-of-type {\n",
       "        vertical-align: middle;\n",
       "    }\n",
       "\n",
       "    .dataframe tbody tr th {\n",
       "        vertical-align: top;\n",
       "    }\n",
       "\n",
       "    .dataframe thead th {\n",
       "        text-align: right;\n",
       "    }\n",
       "</style>\n",
       "<table border=\"1\" class=\"dataframe\">\n",
       "  <thead>\n",
       "    <tr style=\"text-align: right;\">\n",
       "      <th></th>\n",
       "      <th>MUSTERI_ID</th>\n",
       "      <th>LABEL</th>\n",
       "      <th>FLAG</th>\n",
       "      <th>PP_CINSIYET</th>\n",
       "      <th>PP_MESLEK</th>\n",
       "      <th>PP_MUSTERI_SEGMENTI</th>\n",
       "      <th>PP_UYRUK</th>\n",
       "      <th>SORU_MEDENI_HAL_CVP</th>\n",
       "      <th>SORU_EGITIM_CVP</th>\n",
       "    </tr>\n",
       "  </thead>\n",
       "  <tbody>\n",
       "    <tr>\n",
       "      <th>0</th>\n",
       "      <td>61921038d5c39a821cfed2e5e3ad88740decd1fbd6f34b...</td>\n",
       "      <td>UA</td>\n",
       "      <td>HAZIRAN</td>\n",
       "      <td>2</td>\n",
       "      <td>Öğretmen</td>\n",
       "      <td>105</td>\n",
       "      <td>1</td>\n",
       "      <td>Single</td>\n",
       "      <td>(Diğer)</td>\n",
       "    </tr>\n",
       "    <tr>\n",
       "      <th>1</th>\n",
       "      <td>8cd400d3897e5ff130e8e942ee1906d17531a8253d26a4...</td>\n",
       "      <td>UA</td>\n",
       "      <td>HAZIRAN</td>\n",
       "      <td>2</td>\n",
       "      <td>Emekli (Sosyal Güvenlik Kurumu Bilinmiyor)</td>\n",
       "      <td>102</td>\n",
       "      <td>1</td>\n",
       "      <td>Married</td>\n",
       "      <td>İlköğretim</td>\n",
       "    </tr>\n",
       "    <tr>\n",
       "      <th>2</th>\n",
       "      <td>6af95ba9ebe2362a0b31b4443fb2405b11d588780c01ad...</td>\n",
       "      <td>HU19</td>\n",
       "      <td>HAZIRAN</td>\n",
       "      <td>2</td>\n",
       "      <td>Muhasebe</td>\n",
       "      <td>104</td>\n",
       "      <td>1</td>\n",
       "      <td>Single</td>\n",
       "      <td>Lisans</td>\n",
       "    </tr>\n",
       "    <tr>\n",
       "      <th>3</th>\n",
       "      <td>fe33e7873368d603d2a49a982619e8d61a964d7a0ef68e...</td>\n",
       "      <td>UA</td>\n",
       "      <td>MAYIS</td>\n",
       "      <td>2</td>\n",
       "      <td>Diğer</td>\n",
       "      <td>106</td>\n",
       "      <td>1</td>\n",
       "      <td>Married</td>\n",
       "      <td>Lise</td>\n",
       "    </tr>\n",
       "    <tr>\n",
       "      <th>4</th>\n",
       "      <td>aae8411e2c335e94922290314abe1fcc81044e8071e1c8...</td>\n",
       "      <td>UA</td>\n",
       "      <td>EYLUL</td>\n",
       "      <td>2</td>\n",
       "      <td>İşçi</td>\n",
       "      <td>103</td>\n",
       "      <td>1</td>\n",
       "      <td>Married</td>\n",
       "      <td>Lisans</td>\n",
       "    </tr>\n",
       "    <tr>\n",
       "      <th>...</th>\n",
       "      <td>...</td>\n",
       "      <td>...</td>\n",
       "      <td>...</td>\n",
       "      <td>...</td>\n",
       "      <td>...</td>\n",
       "      <td>...</td>\n",
       "      <td>...</td>\n",
       "      <td>...</td>\n",
       "      <td>...</td>\n",
       "    </tr>\n",
       "    <tr>\n",
       "      <th>852714</th>\n",
       "      <td>4a245f1a49af39319faa41668d6ee425fb71c7a75e8b22...</td>\n",
       "      <td>UA</td>\n",
       "      <td>MAYIS</td>\n",
       "      <td>1</td>\n",
       "      <td>İşçi</td>\n",
       "      <td>105</td>\n",
       "      <td>1</td>\n",
       "      <td>Married</td>\n",
       "      <td>Lisans</td>\n",
       "    </tr>\n",
       "    <tr>\n",
       "      <th>852715</th>\n",
       "      <td>2087a8e5f1f98d143011df1cccaa0331e3427b1a1e642e...</td>\n",
       "      <td>UA</td>\n",
       "      <td>HAZIRAN</td>\n",
       "      <td>2</td>\n",
       "      <td>Ev Hanımı</td>\n",
       "      <td>104</td>\n",
       "      <td>1</td>\n",
       "      <td>Married</td>\n",
       "      <td>Lisans</td>\n",
       "    </tr>\n",
       "    <tr>\n",
       "      <th>852716</th>\n",
       "      <td>8d4dccb1bd4763e909476935805d99b84e7f2098b646b7...</td>\n",
       "      <td>UA</td>\n",
       "      <td>MAYIS</td>\n",
       "      <td>1</td>\n",
       "      <td>İşçi</td>\n",
       "      <td>106</td>\n",
       "      <td>1</td>\n",
       "      <td>Single</td>\n",
       "      <td>Lise</td>\n",
       "    </tr>\n",
       "    <tr>\n",
       "      <th>852717</th>\n",
       "      <td>e33a48c42db1da438d54da64cf59ef4acae4583bd4effc...</td>\n",
       "      <td>UA</td>\n",
       "      <td>MAYIS</td>\n",
       "      <td>2</td>\n",
       "      <td>Bilinmiyor</td>\n",
       "      <td>106</td>\n",
       "      <td>1</td>\n",
       "      <td>Single</td>\n",
       "      <td>(Diğer)</td>\n",
       "    </tr>\n",
       "    <tr>\n",
       "      <th>852718</th>\n",
       "      <td>59fd829fc435bf3ed0aa832ca0c89397e5197d8cc13518...</td>\n",
       "      <td>UA</td>\n",
       "      <td>MAYIS</td>\n",
       "      <td>2</td>\n",
       "      <td>Ev Hanımı</td>\n",
       "      <td>106</td>\n",
       "      <td>1</td>\n",
       "      <td>Married</td>\n",
       "      <td>Lise</td>\n",
       "    </tr>\n",
       "  </tbody>\n",
       "</table>\n",
       "<p>852719 rows × 9 columns</p>\n",
       "</div>"
      ],
      "text/plain": [
       "                                               MUSTERI_ID LABEL     FLAG  \\\n",
       "0       61921038d5c39a821cfed2e5e3ad88740decd1fbd6f34b...    UA  HAZIRAN   \n",
       "1       8cd400d3897e5ff130e8e942ee1906d17531a8253d26a4...    UA  HAZIRAN   \n",
       "2       6af95ba9ebe2362a0b31b4443fb2405b11d588780c01ad...  HU19  HAZIRAN   \n",
       "3       fe33e7873368d603d2a49a982619e8d61a964d7a0ef68e...    UA    MAYIS   \n",
       "4       aae8411e2c335e94922290314abe1fcc81044e8071e1c8...    UA    EYLUL   \n",
       "...                                                   ...   ...      ...   \n",
       "852714  4a245f1a49af39319faa41668d6ee425fb71c7a75e8b22...    UA    MAYIS   \n",
       "852715  2087a8e5f1f98d143011df1cccaa0331e3427b1a1e642e...    UA  HAZIRAN   \n",
       "852716  8d4dccb1bd4763e909476935805d99b84e7f2098b646b7...    UA    MAYIS   \n",
       "852717  e33a48c42db1da438d54da64cf59ef4acae4583bd4effc...    UA    MAYIS   \n",
       "852718  59fd829fc435bf3ed0aa832ca0c89397e5197d8cc13518...    UA    MAYIS   \n",
       "\n",
       "       PP_CINSIYET                                   PP_MESLEK  \\\n",
       "0                2                                    Öğretmen   \n",
       "1                2  Emekli (Sosyal Güvenlik Kurumu Bilinmiyor)   \n",
       "2                2                                    Muhasebe   \n",
       "3                2                                       Diğer   \n",
       "4                2                                        İşçi   \n",
       "...            ...                                         ...   \n",
       "852714           1                                        İşçi   \n",
       "852715           2                                   Ev Hanımı   \n",
       "852716           1                                        İşçi   \n",
       "852717           2                                  Bilinmiyor   \n",
       "852718           2                                   Ev Hanımı   \n",
       "\n",
       "       PP_MUSTERI_SEGMENTI PP_UYRUK SORU_MEDENI_HAL_CVP SORU_EGITIM_CVP  \n",
       "0                      105        1              Single         (Diğer)  \n",
       "1                      102        1             Married      İlköğretim  \n",
       "2                      104        1              Single          Lisans  \n",
       "3                      106        1             Married            Lise  \n",
       "4                      103        1             Married          Lisans  \n",
       "...                    ...      ...                 ...             ...  \n",
       "852714                 105        1             Married          Lisans  \n",
       "852715                 104        1             Married          Lisans  \n",
       "852716                 106        1              Single            Lise  \n",
       "852717                 106        1              Single         (Diğer)  \n",
       "852718                 106        1             Married            Lise  \n",
       "\n",
       "[852719 rows x 9 columns]"
      ]
     },
     "execution_count": 111,
     "metadata": {},
     "output_type": "execute_result"
    }
   ],
   "source": [
    "df.select_dtypes('object')"
   ]
  },
  {
   "cell_type": "code",
   "execution_count": 112,
   "metadata": {},
   "outputs": [],
   "source": [
    "MUSTERI_ID = df['MUSTERI_ID']\n",
    "\n",
    "df.drop(columns = 'MUSTERI_ID', inplace = True)"
   ]
  },
  {
   "cell_type": "code",
   "execution_count": 102,
   "metadata": {},
   "outputs": [],
   "source": [
    "def explore_data_types(df):\n",
    "  numeric_columns = df.select_dtypes(include=['int64','float64']).columns\n",
    "  print(\"\\nNumeric Columns:\")\n",
    "  print(numeric_columns)\n",
    "  categorical_columns = df.select_dtypes(include=['object']).columns\n",
    "  print(\"\\nCategorical Columns:\")\n",
    "  print(categorical_columns)\n",
    "  cardinal_columns = [column for column in df.columns if df[column].nunique() == len(df)]\n",
    "  print('\\nCardinal Columns:')\n",
    "  print(cardinal_columns)\n",
    "  binary_columns = [column for column in df.columns if df[column].nunique() == 2]\n",
    "  print('\\nBinary Columns')\n",
    "  print(binary_columns)\n",
    "  return numeric_columns, categorical_columns, cardinal_columns, binary_columns"
   ]
  },
  {
   "cell_type": "code",
   "execution_count": 103,
   "metadata": {},
   "outputs": [
    {
     "name": "stdout",
     "output_type": "stream",
     "text": [
      "\n",
      "Numeric Columns:\n",
      "Index(['PP_CINSIYET', 'PP_YAS', 'PP_MUSTERI_SEGMENTI', 'PP_UYRUK', 'IL',\n",
      "       'SORU_EGITIM_RG', 'SORU_GELIR_CVP', 'SORU_GELIR_RG',\n",
      "       'SORU_COCUK_SAYISI_CVP', 'SORU_COCUK_SAYISI_RG',\n",
      "       'BES_AYRILMA_TALEP_ADET', 'ODEMEME_TALEP_ADET',\n",
      "       'HAYAT_AYRILMA_TALEP_ADET', 'BILGI_TALEP_ADET', 'VADE_TUTAR_0',\n",
      "       'ODEME_TUTAR_0', 'VADE_TUTAR_1', 'ODEME_TUTAR_1', 'VADE_TUTAR_2',\n",
      "       'ODEME_TUTAR_2', 'VADE_TUTAR_3', 'ODEME_TUTAR_3', 'VADE_TUTAR_4',\n",
      "       'ODEME_TUTAR_4', 'VADE_TUTAR_5', 'ODEME_TUTAR_5', 'VADE_TUTAR_6',\n",
      "       'ODEME_TUTAR_6', 'VADE_TUTAR_7', 'ODEME_TUTAR_7', 'VADE_TUTAR_8',\n",
      "       'ODEME_TUTAR_8', 'VADE_TUTAR_9', 'ODEME_TUTAR_9', 'VADE_TUTAR_10',\n",
      "       'ODEME_TUTAR_10', 'VADE_TUTAR_11', 'ODEME_TUTAR_11', 'ANAPARA',\n",
      "       'GETIRI', 'BU01', 'BU02', 'BU03', 'BU04', 'BU05', 'BU06', 'BU07',\n",
      "       'BU08', 'BU09', 'BU10', 'BU11', 'BU12', 'BU13', 'BU14', 'BU15', 'BU16',\n",
      "       'BU17', 'BU18', 'BU19', 'BU20', 'BU21', 'BU22', 'BU23', 'BU24', 'HU01',\n",
      "       'HU02', 'HU03', 'HU04', 'HU05', 'HU06', 'HU07', 'HU10', 'HU11', 'HU12',\n",
      "       'HU13', 'HU14', 'HU15', 'HU16', 'HU17', 'HU18', 'HU19',\n",
      "       'AKTIF_ILK_POLICE_RG'],\n",
      "      dtype='object')\n",
      "\n",
      "Categorical Columns:\n",
      "Index(['MUSTERI_ID', 'LABEL', 'FLAG', 'PP_MESLEK', 'SORU_MEDENI_HAL_CVP',\n",
      "       'SORU_EGITIM_CVP'],\n",
      "      dtype='object')\n",
      "\n",
      "Cardinal Columns:\n",
      "['MUSTERI_ID']\n",
      "\n",
      "Binary Columns\n",
      "['PP_CINSIYET', 'BU06', 'BU14', 'HU04', 'HU07', 'HU13', 'HU15']\n"
     ]
    }
   ],
   "source": [
    "numeric_columns, categorical_columns, cardinal_columns, binary_columns = explore_data_types(df)"
   ]
  },
  {
   "cell_type": "code",
   "execution_count": 124,
   "metadata": {},
   "outputs": [],
   "source": [
    "df.to_csv('data_analytics.csv', index=False)"
   ]
  },
  {
   "cell_type": "code",
   "execution_count": 381,
   "metadata": {},
   "outputs": [],
   "source": [
    "df = pd.read_csv(r'C:\\Users\\Pc\\Desktop\\python çalışmaları\\data_analytics.csv')"
   ]
  },
  {
   "cell_type": "code",
   "execution_count": 382,
   "metadata": {},
   "outputs": [],
   "source": [
    "df['EGITIM_RG'] = df['SORU_EGITIM_RG'].apply(lambda x: 0 if x > 60 else 1)"
   ]
  },
  {
   "cell_type": "code",
   "execution_count": 383,
   "metadata": {},
   "outputs": [],
   "source": [
    "df.drop(columns= 'SORU_EGITIM_RG', inplace = True)"
   ]
  },
  {
   "cell_type": "code",
   "execution_count": 384,
   "metadata": {},
   "outputs": [
    {
     "data": {
      "text/plain": [
       "0         0\n",
       "1         1\n",
       "2         1\n",
       "3         1\n",
       "4         1\n",
       "         ..\n",
       "852714    1\n",
       "852715    0\n",
       "852716    1\n",
       "852717    0\n",
       "852718    0\n",
       "Length: 852719, dtype: int64"
      ]
     },
     "execution_count": 384,
     "metadata": {},
     "output_type": "execute_result"
    }
   ],
   "source": [
    "df['BU_TOPLAM'] = df['BU01'] + df['BU02'] + df['BU03'] + df['BU04'] + df['BU05'] + df['BU06'] + df['BU07'] + df['BU08'] + df['BU09'] + df['BU10'] + df['BU11'] + df['BU12']\n",
    "+ df['BU13'] + df['BU14'] + df['BU15'] + df['BU16'] + df['BU17'] + df['BU18'] + df['BU19'] + df['BU20'] + df['BU21'] + df['BU22'] + df['BU23'] + df['BU24']"
   ]
  },
  {
   "cell_type": "code",
   "execution_count": 385,
   "metadata": {},
   "outputs": [],
   "source": [
    "df.drop(columns = ['BU01', 'BU02', 'BU03', 'BU04', 'BU05', 'BU06', 'BU07',\n",
    "       'BU08', 'BU09', 'BU10', 'BU11', 'BU12', 'BU13', 'BU14', 'BU15', 'BU16',\n",
    "       'BU17', 'BU18', 'BU19', 'BU20', 'BU21', 'BU22', 'BU23', 'BU24'], inplace = True)"
   ]
  },
  {
   "cell_type": "markdown",
   "metadata": {},
   "source": [
    "# OUTLIER"
   ]
  },
  {
   "cell_type": "code",
   "execution_count": 15,
   "metadata": {},
   "outputs": [],
   "source": [
    "from sklearn.neighbors import NearestNeighbors\n",
    "\n",
    "features_1 = df[['PP_MESLEK', 'SORU_GELIR_CVP']] "
   ]
  },
  {
   "cell_type": "code",
   "execution_count": 16,
   "metadata": {},
   "outputs": [
    {
     "data": {
      "text/html": [
       "<style>#sk-container-id-1 {color: black;background-color: white;}#sk-container-id-1 pre{padding: 0;}#sk-container-id-1 div.sk-toggleable {background-color: white;}#sk-container-id-1 label.sk-toggleable__label {cursor: pointer;display: block;width: 100%;margin-bottom: 0;padding: 0.3em;box-sizing: border-box;text-align: center;}#sk-container-id-1 label.sk-toggleable__label-arrow:before {content: \"▸\";float: left;margin-right: 0.25em;color: #696969;}#sk-container-id-1 label.sk-toggleable__label-arrow:hover:before {color: black;}#sk-container-id-1 div.sk-estimator:hover label.sk-toggleable__label-arrow:before {color: black;}#sk-container-id-1 div.sk-toggleable__content {max-height: 0;max-width: 0;overflow: hidden;text-align: left;background-color: #f0f8ff;}#sk-container-id-1 div.sk-toggleable__content pre {margin: 0.2em;color: black;border-radius: 0.25em;background-color: #f0f8ff;}#sk-container-id-1 input.sk-toggleable__control:checked~div.sk-toggleable__content {max-height: 200px;max-width: 100%;overflow: auto;}#sk-container-id-1 input.sk-toggleable__control:checked~label.sk-toggleable__label-arrow:before {content: \"▾\";}#sk-container-id-1 div.sk-estimator input.sk-toggleable__control:checked~label.sk-toggleable__label {background-color: #d4ebff;}#sk-container-id-1 div.sk-label input.sk-toggleable__control:checked~label.sk-toggleable__label {background-color: #d4ebff;}#sk-container-id-1 input.sk-hidden--visually {border: 0;clip: rect(1px 1px 1px 1px);clip: rect(1px, 1px, 1px, 1px);height: 1px;margin: -1px;overflow: hidden;padding: 0;position: absolute;width: 1px;}#sk-container-id-1 div.sk-estimator {font-family: monospace;background-color: #f0f8ff;border: 1px dotted black;border-radius: 0.25em;box-sizing: border-box;margin-bottom: 0.5em;}#sk-container-id-1 div.sk-estimator:hover {background-color: #d4ebff;}#sk-container-id-1 div.sk-parallel-item::after {content: \"\";width: 100%;border-bottom: 1px solid gray;flex-grow: 1;}#sk-container-id-1 div.sk-label:hover label.sk-toggleable__label {background-color: #d4ebff;}#sk-container-id-1 div.sk-serial::before {content: \"\";position: absolute;border-left: 1px solid gray;box-sizing: border-box;top: 0;bottom: 0;left: 50%;z-index: 0;}#sk-container-id-1 div.sk-serial {display: flex;flex-direction: column;align-items: center;background-color: white;padding-right: 0.2em;padding-left: 0.2em;position: relative;}#sk-container-id-1 div.sk-item {position: relative;z-index: 1;}#sk-container-id-1 div.sk-parallel {display: flex;align-items: stretch;justify-content: center;background-color: white;position: relative;}#sk-container-id-1 div.sk-item::before, #sk-container-id-1 div.sk-parallel-item::before {content: \"\";position: absolute;border-left: 1px solid gray;box-sizing: border-box;top: 0;bottom: 0;left: 50%;z-index: -1;}#sk-container-id-1 div.sk-parallel-item {display: flex;flex-direction: column;z-index: 1;position: relative;background-color: white;}#sk-container-id-1 div.sk-parallel-item:first-child::after {align-self: flex-end;width: 50%;}#sk-container-id-1 div.sk-parallel-item:last-child::after {align-self: flex-start;width: 50%;}#sk-container-id-1 div.sk-parallel-item:only-child::after {width: 0;}#sk-container-id-1 div.sk-dashed-wrapped {border: 1px dashed gray;margin: 0 0.4em 0.5em 0.4em;box-sizing: border-box;padding-bottom: 0.4em;background-color: white;}#sk-container-id-1 div.sk-label label {font-family: monospace;font-weight: bold;display: inline-block;line-height: 1.2em;}#sk-container-id-1 div.sk-label-container {text-align: center;}#sk-container-id-1 div.sk-container {/* jupyter's `normalize.less` sets `[hidden] { display: none; }` but bootstrap.min.css set `[hidden] { display: none !important; }` so we also need the `!important` here to be able to override the default hidden behavior on the sphinx rendered scikit-learn.org. See: https://github.com/scikit-learn/scikit-learn/issues/21755 */display: inline-block !important;position: relative;}#sk-container-id-1 div.sk-text-repr-fallback {display: none;}</style><div id=\"sk-container-id-1\" class=\"sk-top-container\"><div class=\"sk-text-repr-fallback\"><pre>NearestNeighbors(n_neighbors=20)</pre><b>In a Jupyter environment, please rerun this cell to show the HTML representation or trust the notebook. <br />On GitHub, the HTML representation is unable to render, please try loading this page with nbviewer.org.</b></div><div class=\"sk-container\" hidden><div class=\"sk-item\"><div class=\"sk-estimator sk-toggleable\"><input class=\"sk-toggleable__control sk-hidden--visually\" id=\"sk-estimator-id-1\" type=\"checkbox\" checked><label for=\"sk-estimator-id-1\" class=\"sk-toggleable__label sk-toggleable__label-arrow\">NearestNeighbors</label><div class=\"sk-toggleable__content\"><pre>NearestNeighbors(n_neighbors=20)</pre></div></div></div></div></div>"
      ],
      "text/plain": [
       "NearestNeighbors(n_neighbors=20)"
      ]
     },
     "execution_count": 16,
     "metadata": {},
     "output_type": "execute_result"
    }
   ],
   "source": [
    "# KNN modelini oluşturma\n",
    "knn_1 = NearestNeighbors(n_neighbors=20)  # Burada n_neighbors parametresi komşu sayısını belirler\n",
    "knn_1.fit(features_1)\n"
   ]
  },
  {
   "cell_type": "code",
   "execution_count": 17,
   "metadata": {},
   "outputs": [],
   "source": [
    "# Her veri noktasının komşuluk uzaklıklarını hesaplama\n",
    "distances_1, _1 = knn_1.kneighbors(features_1)"
   ]
  },
  {
   "cell_type": "code",
   "execution_count": 18,
   "metadata": {},
   "outputs": [],
   "source": [
    "threshold_1 = np.percentile(distances_1[:, -1], 98)  "
   ]
  },
  {
   "cell_type": "code",
   "execution_count": 19,
   "metadata": {},
   "outputs": [],
   "source": [
    "outliers_1 = distances_1[:,-1] > threshold_1"
   ]
  },
  {
   "cell_type": "code",
   "execution_count": 20,
   "metadata": {},
   "outputs": [],
   "source": [
    "son_hali_1 = distances_1[:, -1] <= threshold_1"
   ]
  },
  {
   "cell_type": "code",
   "execution_count": 21,
   "metadata": {},
   "outputs": [
    {
     "data": {
      "text/plain": [
       "(835777, 64)"
      ]
     },
     "execution_count": 21,
     "metadata": {},
     "output_type": "execute_result"
    }
   ],
   "source": [
    "df = df[son_hali_1]\n",
    "\n",
    "df.shape"
   ]
  },
  {
   "cell_type": "code",
   "execution_count": 22,
   "metadata": {},
   "outputs": [
    {
     "data": {
      "text/html": [
       "<style>#sk-container-id-2 {color: black;background-color: white;}#sk-container-id-2 pre{padding: 0;}#sk-container-id-2 div.sk-toggleable {background-color: white;}#sk-container-id-2 label.sk-toggleable__label {cursor: pointer;display: block;width: 100%;margin-bottom: 0;padding: 0.3em;box-sizing: border-box;text-align: center;}#sk-container-id-2 label.sk-toggleable__label-arrow:before {content: \"▸\";float: left;margin-right: 0.25em;color: #696969;}#sk-container-id-2 label.sk-toggleable__label-arrow:hover:before {color: black;}#sk-container-id-2 div.sk-estimator:hover label.sk-toggleable__label-arrow:before {color: black;}#sk-container-id-2 div.sk-toggleable__content {max-height: 0;max-width: 0;overflow: hidden;text-align: left;background-color: #f0f8ff;}#sk-container-id-2 div.sk-toggleable__content pre {margin: 0.2em;color: black;border-radius: 0.25em;background-color: #f0f8ff;}#sk-container-id-2 input.sk-toggleable__control:checked~div.sk-toggleable__content {max-height: 200px;max-width: 100%;overflow: auto;}#sk-container-id-2 input.sk-toggleable__control:checked~label.sk-toggleable__label-arrow:before {content: \"▾\";}#sk-container-id-2 div.sk-estimator input.sk-toggleable__control:checked~label.sk-toggleable__label {background-color: #d4ebff;}#sk-container-id-2 div.sk-label input.sk-toggleable__control:checked~label.sk-toggleable__label {background-color: #d4ebff;}#sk-container-id-2 input.sk-hidden--visually {border: 0;clip: rect(1px 1px 1px 1px);clip: rect(1px, 1px, 1px, 1px);height: 1px;margin: -1px;overflow: hidden;padding: 0;position: absolute;width: 1px;}#sk-container-id-2 div.sk-estimator {font-family: monospace;background-color: #f0f8ff;border: 1px dotted black;border-radius: 0.25em;box-sizing: border-box;margin-bottom: 0.5em;}#sk-container-id-2 div.sk-estimator:hover {background-color: #d4ebff;}#sk-container-id-2 div.sk-parallel-item::after {content: \"\";width: 100%;border-bottom: 1px solid gray;flex-grow: 1;}#sk-container-id-2 div.sk-label:hover label.sk-toggleable__label {background-color: #d4ebff;}#sk-container-id-2 div.sk-serial::before {content: \"\";position: absolute;border-left: 1px solid gray;box-sizing: border-box;top: 0;bottom: 0;left: 50%;z-index: 0;}#sk-container-id-2 div.sk-serial {display: flex;flex-direction: column;align-items: center;background-color: white;padding-right: 0.2em;padding-left: 0.2em;position: relative;}#sk-container-id-2 div.sk-item {position: relative;z-index: 1;}#sk-container-id-2 div.sk-parallel {display: flex;align-items: stretch;justify-content: center;background-color: white;position: relative;}#sk-container-id-2 div.sk-item::before, #sk-container-id-2 div.sk-parallel-item::before {content: \"\";position: absolute;border-left: 1px solid gray;box-sizing: border-box;top: 0;bottom: 0;left: 50%;z-index: -1;}#sk-container-id-2 div.sk-parallel-item {display: flex;flex-direction: column;z-index: 1;position: relative;background-color: white;}#sk-container-id-2 div.sk-parallel-item:first-child::after {align-self: flex-end;width: 50%;}#sk-container-id-2 div.sk-parallel-item:last-child::after {align-self: flex-start;width: 50%;}#sk-container-id-2 div.sk-parallel-item:only-child::after {width: 0;}#sk-container-id-2 div.sk-dashed-wrapped {border: 1px dashed gray;margin: 0 0.4em 0.5em 0.4em;box-sizing: border-box;padding-bottom: 0.4em;background-color: white;}#sk-container-id-2 div.sk-label label {font-family: monospace;font-weight: bold;display: inline-block;line-height: 1.2em;}#sk-container-id-2 div.sk-label-container {text-align: center;}#sk-container-id-2 div.sk-container {/* jupyter's `normalize.less` sets `[hidden] { display: none; }` but bootstrap.min.css set `[hidden] { display: none !important; }` so we also need the `!important` here to be able to override the default hidden behavior on the sphinx rendered scikit-learn.org. See: https://github.com/scikit-learn/scikit-learn/issues/21755 */display: inline-block !important;position: relative;}#sk-container-id-2 div.sk-text-repr-fallback {display: none;}</style><div id=\"sk-container-id-2\" class=\"sk-top-container\"><div class=\"sk-text-repr-fallback\"><pre>NearestNeighbors(n_neighbors=20)</pre><b>In a Jupyter environment, please rerun this cell to show the HTML representation or trust the notebook. <br />On GitHub, the HTML representation is unable to render, please try loading this page with nbviewer.org.</b></div><div class=\"sk-container\" hidden><div class=\"sk-item\"><div class=\"sk-estimator sk-toggleable\"><input class=\"sk-toggleable__control sk-hidden--visually\" id=\"sk-estimator-id-2\" type=\"checkbox\" checked><label for=\"sk-estimator-id-2\" class=\"sk-toggleable__label sk-toggleable__label-arrow\">NearestNeighbors</label><div class=\"sk-toggleable__content\"><pre>NearestNeighbors(n_neighbors=20)</pre></div></div></div></div></div>"
      ],
      "text/plain": [
       "NearestNeighbors(n_neighbors=20)"
      ]
     },
     "execution_count": 22,
     "metadata": {},
     "output_type": "execute_result"
    }
   ],
   "source": [
    "features_2 = df[['PP_YAS', 'SORU_COCUK_SAYISI_CVP']] \n",
    "\n",
    "knn_2 = NearestNeighbors(n_neighbors=20)  # Burada n_neighbors parametresi komşu sayısını belirler\n",
    "knn_2.fit(features_2)"
   ]
  },
  {
   "cell_type": "code",
   "execution_count": 23,
   "metadata": {},
   "outputs": [
    {
     "data": {
      "text/plain": [
       "(833134, 64)"
      ]
     },
     "execution_count": 23,
     "metadata": {},
     "output_type": "execute_result"
    }
   ],
   "source": [
    "distances_2, _2= knn_2.kneighbors(features_2)\n",
    "\n",
    "threshold_2 = np.percentile(distances_2[:, -1], 98)  \n",
    "\n",
    "son_hali_2 = distances_2[:, -1] <= threshold_2\n",
    "\n",
    "df = df[son_hali_2]\n",
    "\n",
    "df.shape"
   ]
  },
  {
   "cell_type": "code",
   "execution_count": 211,
   "metadata": {},
   "outputs": [
    {
     "data": {
      "text/plain": [
       "(828043, 64)"
      ]
     },
     "execution_count": 211,
     "metadata": {},
     "output_type": "execute_result"
    }
   ],
   "source": [
    "df.shape"
   ]
  },
  {
   "cell_type": "code",
   "execution_count": 64,
   "metadata": {},
   "outputs": [
    {
     "data": {
      "text/plain": [
       "Index(['LABEL', 'FLAG', 'PP_CINSIYET', 'PP_YAS', 'PP_MESLEK',\n",
       "       'PP_MUSTERI_SEGMENTI', 'PP_UYRUK', 'IL', 'SORU_MEDENI_HAL_CVP',\n",
       "       'SORU_EGITIM_CVP', 'SORU_EGITIM_RG', 'SORU_GELIR_CVP', 'SORU_GELIR_RG',\n",
       "       'SORU_COCUK_SAYISI_CVP', 'SORU_COCUK_SAYISI_RG',\n",
       "       'BES_AYRILMA_TALEP_ADET', 'ODEMEME_TALEP_ADET',\n",
       "       'HAYAT_AYRILMA_TALEP_ADET', 'BILGI_TALEP_ADET', 'VADE_TUTAR_0',\n",
       "       'ODEME_TUTAR_0', 'VADE_TUTAR_1', 'ODEME_TUTAR_1', 'VADE_TUTAR_2',\n",
       "       'ODEME_TUTAR_2', 'VADE_TUTAR_3', 'ODEME_TUTAR_3', 'VADE_TUTAR_4',\n",
       "       'ODEME_TUTAR_4', 'VADE_TUTAR_5', 'ODEME_TUTAR_5', 'VADE_TUTAR_6',\n",
       "       'ODEME_TUTAR_6', 'VADE_TUTAR_7', 'ODEME_TUTAR_7', 'VADE_TUTAR_8',\n",
       "       'ODEME_TUTAR_8', 'VADE_TUTAR_9', 'ODEME_TUTAR_9', 'VADE_TUTAR_10',\n",
       "       'ODEME_TUTAR_10', 'VADE_TUTAR_11', 'ODEME_TUTAR_11', 'ANAPARA',\n",
       "       'GETIRI', 'HU01', 'HU02', 'HU03', 'HU04', 'HU05', 'HU06', 'HU07',\n",
       "       'HU10', 'HU11', 'HU12', 'HU13', 'HU14', 'HU15', 'HU16', 'HU17', 'HU18',\n",
       "       'HU19', 'AKTIF_ILK_POLICE_RG', 'BU_TOPLAM'],\n",
       "      dtype='object')"
      ]
     },
     "execution_count": 64,
     "metadata": {},
     "output_type": "execute_result"
    }
   ],
   "source": [
    "df.columns"
   ]
  },
  {
   "cell_type": "markdown",
   "metadata": {},
   "source": [
    "# LABEL ENCODE"
   ]
  },
  {
   "cell_type": "code",
   "execution_count": 386,
   "metadata": {},
   "outputs": [],
   "source": [
    "df['PP_CINSIYET'] = df['PP_CINSIYET'].astype('int64')\n",
    "df['PP_MUSTERI_SEGMENTI'] = df['PP_MUSTERI_SEGMENTI'].astype('int64')\n",
    "df['PP_UYRUK'] = df['PP_UYRUK'].astype('int64')"
   ]
  },
  {
   "cell_type": "code",
   "execution_count": 387,
   "metadata": {},
   "outputs": [],
   "source": [
    "eğitim_sıra = ['(Diğer)', 'İlköğretim', 'Lise', 'Önlisans', 'Lisans', 'Yüksek Lisans', 'Doktora']"
   ]
  },
  {
   "cell_type": "code",
   "execution_count": 388,
   "metadata": {},
   "outputs": [],
   "source": [
    "label_encode_label=LabelEncoder()\n",
    "label_encode_FLAG=LabelEncoder()\n",
    "label_encode_PP_MESLEK=LabelEncoder()\n",
    "label_encode_SORU_MEDENI_HAL_CVP=LabelEncoder()\n",
    "label_encode_SORU_EGITIM_CVP = OrdinalEncoder(categories=[eğitim_sıra])\n",
    "\n",
    "df['LABEL']=label_encode_label.fit_transform(df['LABEL'])\n",
    "df['FLAG']=label_encode_FLAG.fit_transform(df['FLAG'])\n",
    "df['PP_MESLEK']=label_encode_PP_MESLEK.fit_transform(df['PP_MESLEK'])\n",
    "df['SORU_MEDENI_HAL_CVP']=label_encode_SORU_MEDENI_HAL_CVP.fit_transform(df['SORU_MEDENI_HAL_CVP'])\n",
    "df['SORU_EGITIM_CVP']=label_encode_SORU_EGITIM_CVP.fit_transform(df[['SORU_EGITIM_CVP']])"
   ]
  },
  {
   "cell_type": "code",
   "execution_count": 73,
   "metadata": {},
   "outputs": [
    {
     "name": "stdout",
     "output_type": "stream",
     "text": [
      "Kategori:  ['HU06' 'HU07' 'HU11' 'HU12' 'HU14' 'HU15' 'HU19' 'UA']\n",
      "Sayısal Değerler:  [0, 1, 2, 3, 4, 5, 6, 7]\n"
     ]
    }
   ],
   "source": [
    "print(\"Kategori: \", label_encode_label.classes_)\n",
    "print(\"Sayısal Değerler: \", list(range(len(label_encode_label.classes_))))"
   ]
  },
  {
   "cell_type": "code",
   "execution_count": 71,
   "metadata": {},
   "outputs": [
    {
     "data": {
      "text/plain": [
       "[array(['(Diğer)', 'İlköğretim', 'Lise', 'Önlisans', 'Lisans',\n",
       "        'Yüksek Lisans', 'Doktora'], dtype=object)]"
      ]
     },
     "execution_count": 71,
     "metadata": {},
     "output_type": "execute_result"
    }
   ],
   "source": [
    "label_encode_SORU_EGITIM_CVP.categories_"
   ]
  },
  {
   "cell_type": "code",
   "execution_count": 72,
   "metadata": {},
   "outputs": [
    {
     "name": "stdout",
     "output_type": "stream",
     "text": [
      "Kategori:  ['AGUSTOS' 'EKIM' 'EYLUL' 'HAZIRAN' 'MAYIS' 'TEMMUZ']\n",
      "Sayısal Değerler:  [0, 1, 2, 3, 4, 5]\n"
     ]
    }
   ],
   "source": [
    "print(\"Kategori: \", label_encode_FLAG.classes_)\n",
    "print(\"Sayısal Değerler: \", list(range(len(label_encode_FLAG.classes_))))"
   ]
  },
  {
   "cell_type": "markdown",
   "metadata": {},
   "source": [
    "# OUTLIER"
   ]
  },
  {
   "cell_type": "code",
   "execution_count": 10,
   "metadata": {},
   "outputs": [
    {
     "data": {
      "text/plain": [
       "Index(['LABEL', 'FLAG', 'PP_CINSIYET', 'PP_YAS', 'PP_MESLEK',\n",
       "       'PP_MUSTERI_SEGMENTI', 'PP_UYRUK', 'IL', 'SORU_MEDENI_HAL_CVP',\n",
       "       'SORU_EGITIM_CVP', 'SORU_GELIR_CVP', 'SORU_GELIR_RG',\n",
       "       'SORU_COCUK_SAYISI_CVP', 'SORU_COCUK_SAYISI_RG',\n",
       "       'BES_AYRILMA_TALEP_ADET', 'ODEMEME_TALEP_ADET',\n",
       "       'HAYAT_AYRILMA_TALEP_ADET', 'BILGI_TALEP_ADET', 'VADE_TUTAR_0',\n",
       "       'ODEME_TUTAR_0', 'VADE_TUTAR_1', 'ODEME_TUTAR_1', 'VADE_TUTAR_2',\n",
       "       'ODEME_TUTAR_2', 'VADE_TUTAR_3', 'ODEME_TUTAR_3', 'VADE_TUTAR_4',\n",
       "       'ODEME_TUTAR_4', 'VADE_TUTAR_5', 'ODEME_TUTAR_5', 'VADE_TUTAR_6',\n",
       "       'ODEME_TUTAR_6', 'VADE_TUTAR_7', 'ODEME_TUTAR_7', 'VADE_TUTAR_8',\n",
       "       'ODEME_TUTAR_8', 'VADE_TUTAR_9', 'ODEME_TUTAR_9', 'VADE_TUTAR_10',\n",
       "       'ODEME_TUTAR_10', 'VADE_TUTAR_11', 'ODEME_TUTAR_11', 'ANAPARA',\n",
       "       'GETIRI', 'HU01', 'HU02', 'HU03', 'HU04', 'HU05', 'HU06', 'HU07',\n",
       "       'HU10', 'HU11', 'HU12', 'HU13', 'HU14', 'HU15', 'HU16', 'HU17', 'HU18',\n",
       "       'HU19', 'AKTIF_ILK_POLICE_RG', 'EGITIM_RG', 'BU_TOPLAM'],\n",
       "      dtype='object')"
      ]
     },
     "execution_count": 10,
     "metadata": {},
     "output_type": "execute_result"
    }
   ],
   "source": [
    "df.columns"
   ]
  },
  {
   "cell_type": "code",
   "execution_count": 389,
   "metadata": {},
   "outputs": [],
   "source": [
    "numeric_columns = [\n",
    "       'SORU_GELIR_CVP','SORU_COCUK_SAYISI_CVP','ANAPARA',\n",
    "       'GETIRI']"
   ]
  },
  {
   "cell_type": "code",
   "execution_count": 390,
   "metadata": {},
   "outputs": [],
   "source": [
    "for columns in numeric_columns:\n",
    "    Q1=df[columns].quantile(0.02)\n",
    "    Q3=df[columns].quantile(0.98)\n",
    "    IQR=Q3-Q1\n",
    "    lower_bound=Q1-1.5*IQR\n",
    "    upper_bound=Q3+1.5*IQR\n",
    "    df = df[(df[columns]>=lower_bound) & (df[columns]<=upper_bound)]"
   ]
  },
  {
   "cell_type": "code",
   "execution_count": 276,
   "metadata": {},
   "outputs": [
    {
     "data": {
      "text/plain": [
       "Index(['LABEL', 'FLAG', 'PP_CINSIYET', 'PP_YAS', 'PP_MESLEK',\n",
       "       'PP_MUSTERI_SEGMENTI', 'PP_UYRUK', 'IL', 'SORU_MEDENI_HAL_CVP',\n",
       "       'SORU_EGITIM_CVP', 'SORU_GELIR_CVP', 'SORU_GELIR_RG',\n",
       "       'SORU_COCUK_SAYISI_CVP', 'SORU_COCUK_SAYISI_RG',\n",
       "       'BES_AYRILMA_TALEP_ADET', 'ODEMEME_TALEP_ADET',\n",
       "       'HAYAT_AYRILMA_TALEP_ADET', 'BILGI_TALEP_ADET', 'VADE_TUTAR_0',\n",
       "       'ODEME_TUTAR_0', 'VADE_TUTAR_1', 'ODEME_TUTAR_1', 'VADE_TUTAR_2',\n",
       "       'ODEME_TUTAR_2', 'VADE_TUTAR_3', 'ODEME_TUTAR_3', 'VADE_TUTAR_4',\n",
       "       'ODEME_TUTAR_4', 'VADE_TUTAR_5', 'ODEME_TUTAR_5', 'VADE_TUTAR_6',\n",
       "       'ODEME_TUTAR_6', 'VADE_TUTAR_7', 'ODEME_TUTAR_7', 'VADE_TUTAR_8',\n",
       "       'ODEME_TUTAR_8', 'VADE_TUTAR_9', 'ODEME_TUTAR_9', 'VADE_TUTAR_10',\n",
       "       'ODEME_TUTAR_10', 'VADE_TUTAR_11', 'ODEME_TUTAR_11', 'ANAPARA',\n",
       "       'GETIRI', 'HU01', 'HU02', 'HU03', 'HU04', 'HU05', 'HU06', 'HU07',\n",
       "       'HU10', 'HU11', 'HU12', 'HU13', 'HU14', 'HU15', 'HU16', 'HU17', 'HU18',\n",
       "       'HU19', 'AKTIF_ILK_POLICE_RG', 'EGITIM_RG', 'BU_TOPLAM'],\n",
       "      dtype='object')"
      ]
     },
     "execution_count": 276,
     "metadata": {},
     "output_type": "execute_result"
    }
   ],
   "source": [
    "df.columns"
   ]
  },
  {
   "cell_type": "code",
   "execution_count": 26,
   "metadata": {},
   "outputs": [
    {
     "data": {
      "text/plain": [
       "(826790, 64)"
      ]
     },
     "execution_count": 26,
     "metadata": {},
     "output_type": "execute_result"
    }
   ],
   "source": [
    "df.shape"
   ]
  },
  {
   "cell_type": "code",
   "execution_count": 322,
   "metadata": {},
   "outputs": [],
   "source": [
    "df = df[df['SORU_GELIR_CVP'] >= 0]"
   ]
  },
  {
   "cell_type": "code",
   "execution_count": 326,
   "metadata": {},
   "outputs": [],
   "source": [
    "df['SORU_COCUK_SAYISI_CVP'] = df['SORU_COCUK_SAYISI_CVP'].replace({2.0 : 1.0})"
   ]
  },
  {
   "cell_type": "code",
   "execution_count": 162,
   "metadata": {},
   "outputs": [
    {
     "data": {
      "text/plain": [
       "BES_AYRILMA_TALEP_ADET\n",
       "0    836752\n",
       "1      6736\n",
       "2       775\n",
       "3        96\n",
       "4        24\n",
       "5         3\n",
       "7         1\n",
       "8         1\n",
       "Name: count, dtype: int64"
      ]
     },
     "execution_count": 162,
     "metadata": {},
     "output_type": "execute_result"
    }
   ],
   "source": [
    "df['BES_AYRILMA_TALEP_ADET'].value_counts()"
   ]
  },
  {
   "cell_type": "code",
   "execution_count": 329,
   "metadata": {},
   "outputs": [],
   "source": [
    "df.drop(columns = 'BES_AYRILMA_TALEP_ADET', inplace = True)"
   ]
  },
  {
   "cell_type": "code",
   "execution_count": 331,
   "metadata": {},
   "outputs": [],
   "source": [
    "df.drop(columns = 'ODEMEME_TALEP_ADET', inplace = True)"
   ]
  },
  {
   "cell_type": "code",
   "execution_count": 333,
   "metadata": {},
   "outputs": [],
   "source": [
    "df.drop(columns = 'HAYAT_AYRILMA_TALEP_ADET', inplace = True)"
   ]
  },
  {
   "cell_type": "code",
   "execution_count": 335,
   "metadata": {},
   "outputs": [],
   "source": [
    "df.drop(columns = 'BILGI_TALEP_ADET', inplace = True)"
   ]
  },
  {
   "cell_type": "code",
   "execution_count": 319,
   "metadata": {},
   "outputs": [
    {
     "data": {
      "text/plain": [
       "Index(['LABEL', 'FLAG', 'PP_CINSIYET', 'PP_YAS', 'PP_MESLEK',\n",
       "       'PP_MUSTERI_SEGMENTI', 'PP_UYRUK', 'IL', 'SORU_MEDENI_HAL_CVP',\n",
       "       'SORU_EGITIM_CVP', 'SORU_GELIR_CVP', 'SORU_GELIR_RG',\n",
       "       'SORU_COCUK_SAYISI_CVP', 'SORU_COCUK_SAYISI_RG',\n",
       "       'BES_AYRILMA_TALEP_ADET', 'ODEMEME_TALEP_ADET',\n",
       "       'HAYAT_AYRILMA_TALEP_ADET', 'BILGI_TALEP_ADET', 'VADE_TUTAR_0',\n",
       "       'ODEME_TUTAR_0', 'VADE_TUTAR_1', 'ODEME_TUTAR_1', 'VADE_TUTAR_2',\n",
       "       'ODEME_TUTAR_2', 'VADE_TUTAR_3', 'ODEME_TUTAR_3', 'VADE_TUTAR_4',\n",
       "       'ODEME_TUTAR_4', 'VADE_TUTAR_5', 'ODEME_TUTAR_5', 'VADE_TUTAR_6',\n",
       "       'ODEME_TUTAR_6', 'VADE_TUTAR_7', 'ODEME_TUTAR_7', 'VADE_TUTAR_8',\n",
       "       'ODEME_TUTAR_8', 'VADE_TUTAR_9', 'ODEME_TUTAR_9', 'VADE_TUTAR_10',\n",
       "       'ODEME_TUTAR_10', 'VADE_TUTAR_11', 'ODEME_TUTAR_11', 'ANAPARA',\n",
       "       'GETIRI', 'HU01', 'HU02', 'HU03', 'HU04', 'HU05', 'HU06', 'HU07',\n",
       "       'HU10', 'HU11', 'HU12', 'HU13', 'HU14', 'HU15', 'HU16', 'HU17', 'HU18',\n",
       "       'HU19', 'AKTIF_ILK_POLICE_RG', 'EGITIM_RG', 'BU_TOPLAM'],\n",
       "      dtype='object')"
      ]
     },
     "execution_count": 319,
     "metadata": {},
     "output_type": "execute_result"
    }
   ],
   "source": [
    "df.columns"
   ]
  },
  {
   "cell_type": "code",
   "execution_count": 391,
   "metadata": {},
   "outputs": [],
   "source": [
    "# Log10 dönüşümü uygulayacağınız sütunların adları\n",
    "columns_to_transform = ['SORU_GELIR_CVP', 'SORU_GELIR_RG', 'SORU_COCUK_SAYISI_RG','ANAPARA','GETIRI','AKTIF_ILK_POLICE_RG']\n",
    "\n",
    "# Dönüşüm fonksiyonunu tanımlama\n",
    "def apply_log10(df, columns):\n",
    "    df_transformed = df.copy()\n",
    "    for col in columns:\n",
    "        # Negatif sonsuz ve NaN değerlerini sıfır ile değiştirme\n",
    "        df_transformed[col] = df_transformed[col].replace(-np.inf, np.nan)  # -inf'yi NaN ile değiştirir\n",
    "        df_transformed[col] = df_transformed[col].replace(np.nan, 0)      # NaN'yi 0 ile değiştirir\n",
    "        \n",
    "        # Log10 dönüşümü uygulama\n",
    "        df_transformed[col] = df_transformed[col].apply(lambda x: np.log10(x) if x > 0 else 0)\n",
    "    \n",
    "    return df_transformed\n",
    "\n",
    "# Dönüşümü uygula\n",
    "df = apply_log10(df, columns_to_transform)"
   ]
  },
  {
   "cell_type": "code",
   "execution_count": 392,
   "metadata": {},
   "outputs": [],
   "source": [
    "df_mayıs_haziran = df[((df['FLAG'] == 3) | (df['FLAG'] == 4))].sample(frac = 0.4, random_state = 42)"
   ]
  },
  {
   "cell_type": "code",
   "execution_count": 393,
   "metadata": {},
   "outputs": [],
   "source": [
    "df = pd.concat([df.loc[df_mayıs_haziran.index], df[~((df['FLAG'] == 3) | (df['FLAG'] == 4))]], axis = 0)"
   ]
  },
  {
   "cell_type": "markdown",
   "metadata": {},
   "source": [
    "# TRAIN - TEST - SPLIT"
   ]
  },
  {
   "cell_type": "markdown",
   "metadata": {},
   "source": [
    "# HU14"
   ]
  },
  {
   "cell_type": "code",
   "execution_count": 24,
   "metadata": {},
   "outputs": [
    {
     "name": "stdout",
     "output_type": "stream",
     "text": [
      "Kategori:  ['HU06' 'HU07' 'HU11' 'HU12' 'HU14' 'HU15' 'HU19' 'UA']\n",
      "Sayısal Değerler:  [0, 1, 2, 3, 4, 5, 6, 7]\n"
     ]
    }
   ],
   "source": [
    "import warnings\n",
    "\n",
    "warnings.filterwarnings(\"ignore\")\n",
    "\n",
    "print(\"Kategori: \", label_encode_label.classes_)\n",
    "print(\"Sayısal Değerler: \", list(range(len(label_encode_label.classes_))))"
   ]
  },
  {
   "cell_type": "code",
   "execution_count": 394,
   "metadata": {},
   "outputs": [],
   "source": [
    "df_test_14 = df[df['FLAG'] ==  1]\n",
    "\n",
    "df_test_14['LABEL'].replace({7:0, 1:0, 6:0, 3:0, 2:0, 5:0, 4:1}, inplace= True)\n",
    "\n",
    "df_train_14 = df[df['FLAG'] !=  1]\n",
    "\n",
    "df_train_14['LABEL'].replace({7:0, 1:0, 6:0, 3:0, 2:0, 5:0, 4:1}, inplace= True)\n",
    "\n",
    "X_train_14 = df_train_14.drop(columns = 'LABEL')\n",
    "y_train_14 = df_train_14['LABEL']\n",
    "\n",
    "X_test_14 = df_test_14.drop(columns = 'LABEL')\n",
    "y_test_14 = df_test_14['LABEL']"
   ]
  },
  {
   "cell_type": "markdown",
   "metadata": {},
   "source": [
    "# HU06"
   ]
  },
  {
   "cell_type": "code",
   "execution_count": 395,
   "metadata": {},
   "outputs": [],
   "source": [
    "df_test_06 = df[df['FLAG'] ==  1]\n",
    "\n",
    "df_test_06['LABEL'].replace({7:0, 1:0, 6:0, 3:0, 2:0, 5:0, 4:0, 0:1}, inplace= True)\n",
    "\n",
    "df_train_06 = df[df['FLAG'] !=  1]\n",
    "\n",
    "df_train_06['LABEL'].replace({7:0, 1:0, 6:0, 3:0, 2:0, 5:0, 4:0, 0:1}, inplace= True)\n",
    "\n",
    "X_train_06 = df_train_06.drop(columns = 'LABEL')\n",
    "y_train_06 = df_train_06['LABEL']\n",
    "\n",
    "X_test_06 = df_test_06.drop(columns = 'LABEL')\n",
    "y_test_06 = df_test_06['LABEL']"
   ]
  },
  {
   "cell_type": "markdown",
   "metadata": {},
   "source": [
    "# HU07"
   ]
  },
  {
   "cell_type": "code",
   "execution_count": 396,
   "metadata": {},
   "outputs": [],
   "source": [
    "df_test_07 = df[df['FLAG'] ==  1]\n",
    "\n",
    "df_test_07['LABEL'].replace({7:0, 6:0, 3:0, 2:0, 5:0, 4:0}, inplace= True)\n",
    "\n",
    "df_train_07 = df[df['FLAG'] !=  1]\n",
    "\n",
    "df_train_07['LABEL'].replace({7:0, 6:0, 3:0, 2:0, 5:0, 4:0}, inplace= True)\n",
    "\n",
    "X_train_07 = df_train_07.drop(columns = 'LABEL')\n",
    "y_train_07 = df_train_07['LABEL']\n",
    "\n",
    "X_test_07 = df_test_07.drop(columns = 'LABEL')\n",
    "y_test_07 = df_test_07['LABEL']"
   ]
  },
  {
   "cell_type": "markdown",
   "metadata": {},
   "source": [
    "# HU11"
   ]
  },
  {
   "cell_type": "code",
   "execution_count": 397,
   "metadata": {},
   "outputs": [],
   "source": [
    "df_test_11 = df[df['FLAG'] ==  1]\n",
    "\n",
    "df_test_11['LABEL'].replace({7:0, 1:0, 6:0, 3:0, 2:1, 5:0, 4:0}, inplace= True)\n",
    "\n",
    "df_train_11 = df[df['FLAG'] !=  1]\n",
    "\n",
    "df_train_11['LABEL'].replace({7:0, 1:0, 6:0, 3:0, 2:1, 5:0, 4:0}, inplace= True)\n",
    "\n",
    "X_train_11 = df_train_11.drop(columns = 'LABEL')\n",
    "y_train_11 = df_train_11['LABEL']\n",
    "\n",
    "X_test_11 = df_test_11.drop(columns = 'LABEL')\n",
    "y_test_11 = df_test_11['LABEL']"
   ]
  },
  {
   "cell_type": "markdown",
   "metadata": {},
   "source": [
    "# HU12"
   ]
  },
  {
   "cell_type": "code",
   "execution_count": 398,
   "metadata": {},
   "outputs": [],
   "source": [
    "df_test_12 = df[df['FLAG'] ==  0]\n",
    "\n",
    "df_test_12['LABEL'].replace({7:0, 0:0, 6:0, 3:1, 2:0, 5:0, 4:0, 1:0}, inplace= True)\n",
    "\n",
    "df_train_12 = df[df['FLAG'] !=  0]\n",
    "\n",
    "df_train_12['LABEL'].replace({7:0, 0:0, 6:0, 3:1, 2:0, 5:0, 4:0, 1:0}, inplace= True)\n",
    "\n",
    "X_train_12 = df_train_12.drop(columns = 'LABEL')\n",
    "y_train_12 = df_train_12['LABEL']\n",
    "\n",
    "X_test_12 = df_test_12.drop(columns = 'LABEL')\n",
    "y_test_12 = df_test_12['LABEL']"
   ]
  },
  {
   "cell_type": "markdown",
   "metadata": {},
   "source": [
    "# HU15"
   ]
  },
  {
   "cell_type": "code",
   "execution_count": 399,
   "metadata": {},
   "outputs": [],
   "source": [
    "df_test_15 = df[df['FLAG'] ==  0]\n",
    "\n",
    "df_test_15['LABEL'].replace({7:0, 0:0, 6:0, 3:0, 2:0, 5:1, 4:0, 1:0}, inplace= True)\n",
    "\n",
    "df_train_15 = df[df['FLAG'] !=  0]\n",
    "\n",
    "df_train_15['LABEL'].replace({7:0, 0:0, 6:0, 3:0, 2:0, 5:1, 4:0, 1:0}, inplace= True)\n",
    "\n",
    "X_train_15 = df_train_15.drop(columns = 'LABEL')\n",
    "y_train_15 = df_train_15['LABEL']\n",
    "\n",
    "X_test_15 = df_test_15.drop(columns = 'LABEL')\n",
    "y_test_15 = df_test_15['LABEL']"
   ]
  },
  {
   "cell_type": "markdown",
   "metadata": {},
   "source": [
    "# HU19"
   ]
  },
  {
   "cell_type": "code",
   "execution_count": 400,
   "metadata": {},
   "outputs": [],
   "source": [
    "df_test_19 = df[df['FLAG'] ==  0]\n",
    "\n",
    "df_test_19['LABEL'].replace({7:0, 0:0, 6:1, 3:0, 2:0, 5:0, 4:0, 1:0}, inplace= True)\n",
    "\n",
    "df_train_19 = df[df['FLAG'] !=  0]\n",
    "\n",
    "df_train_19['LABEL'].replace({7:0, 0:0, 6:1, 3:0, 2:0, 5:0, 4:0, 1:0}, inplace= True)\n",
    "\n",
    "X_train_19 = df_train_19.drop(columns = 'LABEL')\n",
    "y_train_19 = df_train_19['LABEL']\n",
    "\n",
    "X_test_19 = df_test_19.drop(columns = 'LABEL')\n",
    "y_test_19 = df_test_19['LABEL']"
   ]
  },
  {
   "cell_type": "code",
   "execution_count": 401,
   "metadata": {},
   "outputs": [],
   "source": [
    "X_train_dict = {6: X_train_06, 7: X_train_07, 11: X_train_11, 12: X_train_12, 14: X_train_14, 15: X_train_15, 19: X_train_19}\n",
    "\n",
    "X_test_dict = {6: X_test_06, 7: X_test_07, 11: X_test_11, 12: X_test_12, 14: X_test_14, 15: X_test_15, 19: X_test_19}\n",
    "\n",
    "y_train_dict = {6: y_train_06, 7: y_train_07, 11: y_train_11, 12: y_train_12, 14: y_train_14, 15: y_train_15, 19: y_train_19}\n",
    "\n",
    "y_test_dict = {6: y_test_06, 7: y_test_07, 11: y_test_11, 12: y_test_12, 14: y_test_14, 15: y_test_15, 19: y_test_19}"
   ]
  },
  {
   "cell_type": "markdown",
   "metadata": {},
   "source": [
    "# SMOTE"
   ]
  },
  {
   "cell_type": "code",
   "execution_count": 287,
   "metadata": {},
   "outputs": [],
   "source": [
    "object_features = ['PP_CINSIYET','PP_MUSTERI_SEGMENTI','PP_UYRUK','IL','FLAG', 'PP_MESLEK', 'SORU_MEDENI_HAL_CVP', 'SORU_EGITIM_CVP']"
   ]
  },
  {
   "cell_type": "code",
   "execution_count": 104,
   "metadata": {},
   "outputs": [
    {
     "name": "stdout",
     "output_type": "stream",
     "text": [
      "(5480,)\n",
      "(6328,)\n",
      "(698,)\n",
      "(1120,)\n",
      "(18128,)\n",
      "(716,)\n",
      "(1252,)\n",
      "y_train_dict[6].shape: (5480,)\n",
      "X_train_dict[6].shape: (5480, 63)\n",
      "y_train_dict[7].shape: (6328,)\n",
      "X_train_dict[7].shape: (6328, 63)\n",
      "y_train_dict[11].shape: (698,)\n",
      "X_train_dict[11].shape: (698, 63)\n",
      "y_train_dict[12].shape: (1120,)\n",
      "X_train_dict[12].shape: (1120, 63)\n",
      "y_train_dict[14].shape: (18128,)\n",
      "X_train_dict[14].shape: (18128, 63)\n",
      "y_train_dict[15].shape: (716,)\n",
      "X_train_dict[15].shape: (716, 63)\n",
      "y_train_dict[19].shape: (1252,)\n",
      "X_train_dict[19].shape: (1252, 63)\n"
     ]
    }
   ],
   "source": [
    "for i in [6, 7, 11, 12, 14, 15, 19]:\n",
    "    # İlk önce y_train_dict[i] içindeki değerlerin sayımını yap\n",
    "    value_counts = y_train_dict[i].value_counts()\n",
    "    \n",
    "    # Eğer 1 sınıfı mevcutsa ve 0 sınıfından azsa\n",
    "    if 1 in value_counts and value_counts[1] < value_counts[0]:\n",
    "        # 0 sınıfından 1 sınıfı kadar örnek al\n",
    "        y_train_0_sampled = y_train_dict[i][y_train_dict[i] == 0].sample(n=value_counts[1], random_state=42)\n",
    "        # 1 sınıfını ekle\n",
    "        y_train_dict[i] = pd.concat([y_train_0_sampled, y_train_dict[i][y_train_dict[i] == 1]])\n",
    "\n",
    "        index = y_train_dict[i].index\n",
    "\n",
    "        print(y_train_dict[i].shape)\n",
    "        \n",
    "        # X_train_dict[i] ile uyumlu hale getirme\n",
    "        X_train_dict[i] = X_train_dict[i].loc[index]\n",
    "        \n",
    "    else:\n",
    "        print(f\"Warning: 1 sınıfı {i} için mevcut değil ya da 0 sınıfından fazla.\")\n",
    "\n",
    "# Ayrıca, y_train_dict ve X_train_dict içindeki güncellenmiş veri çerçevelerini kontrol edin\n",
    "for key in [6, 7, 11, 12, 14, 15, 19]:\n",
    "    print(f\"y_train_dict[{key}].shape:\", y_train_dict[key].shape)\n",
    "    print(f\"X_train_dict[{key}].shape:\", X_train_dict[key].shape)"
   ]
  },
  {
   "cell_type": "code",
   "execution_count": null,
   "metadata": {},
   "outputs": [],
   "source": [
    "smote = SMOTE(sampling_strategy={1: 5000}, random_state=42)\n",
    "X_train_smote , y_train_smote = smote.fit_resample(X_train_dict[6], y_train_dict[6])"
   ]
  },
  {
   "cell_type": "code",
   "execution_count": 231,
   "metadata": {},
   "outputs": [
    {
     "data": {
      "text/html": [
       "<div>\n",
       "<style scoped>\n",
       "    .dataframe tbody tr th:only-of-type {\n",
       "        vertical-align: middle;\n",
       "    }\n",
       "\n",
       "    .dataframe tbody tr th {\n",
       "        vertical-align: top;\n",
       "    }\n",
       "\n",
       "    .dataframe thead th {\n",
       "        text-align: right;\n",
       "    }\n",
       "</style>\n",
       "<table border=\"1\" class=\"dataframe\">\n",
       "  <thead>\n",
       "    <tr style=\"text-align: right;\">\n",
       "      <th></th>\n",
       "      <th>FLAG</th>\n",
       "      <th>PP_CINSIYET</th>\n",
       "      <th>PP_YAS</th>\n",
       "      <th>PP_MESLEK</th>\n",
       "      <th>PP_MUSTERI_SEGMENTI</th>\n",
       "      <th>PP_UYRUK</th>\n",
       "      <th>IL</th>\n",
       "      <th>SORU_MEDENI_HAL_CVP</th>\n",
       "      <th>SORU_EGITIM_CVP</th>\n",
       "      <th>SORU_GELIR_CVP</th>\n",
       "      <th>...</th>\n",
       "      <th>HU13</th>\n",
       "      <th>HU14</th>\n",
       "      <th>HU15</th>\n",
       "      <th>HU16</th>\n",
       "      <th>HU17</th>\n",
       "      <th>HU18</th>\n",
       "      <th>HU19</th>\n",
       "      <th>AKTIF_ILK_POLICE_RG</th>\n",
       "      <th>EGITIM_RG</th>\n",
       "      <th>BU_TOPLAM</th>\n",
       "    </tr>\n",
       "  </thead>\n",
       "  <tbody>\n",
       "    <tr>\n",
       "      <th>203229</th>\n",
       "      <td>3</td>\n",
       "      <td>2</td>\n",
       "      <td>28</td>\n",
       "      <td>21</td>\n",
       "      <td>106</td>\n",
       "      <td>1</td>\n",
       "      <td>80</td>\n",
       "      <td>5</td>\n",
       "      <td>0.000000</td>\n",
       "      <td>3000.000000</td>\n",
       "      <td>...</td>\n",
       "      <td>0</td>\n",
       "      <td>0</td>\n",
       "      <td>0</td>\n",
       "      <td>0</td>\n",
       "      <td>0</td>\n",
       "      <td>0</td>\n",
       "      <td>0</td>\n",
       "      <td>23</td>\n",
       "      <td>1</td>\n",
       "      <td>0</td>\n",
       "    </tr>\n",
       "    <tr>\n",
       "      <th>206743</th>\n",
       "      <td>3</td>\n",
       "      <td>2</td>\n",
       "      <td>375</td>\n",
       "      <td>58</td>\n",
       "      <td>104</td>\n",
       "      <td>1</td>\n",
       "      <td>35</td>\n",
       "      <td>3</td>\n",
       "      <td>4.000000</td>\n",
       "      <td>35000.000000</td>\n",
       "      <td>...</td>\n",
       "      <td>0</td>\n",
       "      <td>0</td>\n",
       "      <td>0</td>\n",
       "      <td>0</td>\n",
       "      <td>0</td>\n",
       "      <td>0</td>\n",
       "      <td>0</td>\n",
       "      <td>1</td>\n",
       "      <td>1</td>\n",
       "      <td>1</td>\n",
       "    </tr>\n",
       "    <tr>\n",
       "      <th>346839</th>\n",
       "      <td>2</td>\n",
       "      <td>1</td>\n",
       "      <td>428</td>\n",
       "      <td>102</td>\n",
       "      <td>102</td>\n",
       "      <td>1</td>\n",
       "      <td>6</td>\n",
       "      <td>3</td>\n",
       "      <td>4.000000</td>\n",
       "      <td>3000.000000</td>\n",
       "      <td>...</td>\n",
       "      <td>0</td>\n",
       "      <td>0</td>\n",
       "      <td>0</td>\n",
       "      <td>0</td>\n",
       "      <td>0</td>\n",
       "      <td>0</td>\n",
       "      <td>0</td>\n",
       "      <td>92</td>\n",
       "      <td>0</td>\n",
       "      <td>2</td>\n",
       "    </tr>\n",
       "    <tr>\n",
       "      <th>335741</th>\n",
       "      <td>3</td>\n",
       "      <td>1</td>\n",
       "      <td>365</td>\n",
       "      <td>110</td>\n",
       "      <td>102</td>\n",
       "      <td>1</td>\n",
       "      <td>54</td>\n",
       "      <td>3</td>\n",
       "      <td>4.000000</td>\n",
       "      <td>0.000000</td>\n",
       "      <td>...</td>\n",
       "      <td>0</td>\n",
       "      <td>0</td>\n",
       "      <td>0</td>\n",
       "      <td>0</td>\n",
       "      <td>0</td>\n",
       "      <td>0</td>\n",
       "      <td>0</td>\n",
       "      <td>0</td>\n",
       "      <td>0</td>\n",
       "      <td>0</td>\n",
       "    </tr>\n",
       "    <tr>\n",
       "      <th>260318</th>\n",
       "      <td>4</td>\n",
       "      <td>1</td>\n",
       "      <td>754</td>\n",
       "      <td>77</td>\n",
       "      <td>103</td>\n",
       "      <td>1</td>\n",
       "      <td>77</td>\n",
       "      <td>3</td>\n",
       "      <td>1.000000</td>\n",
       "      <td>5000.000000</td>\n",
       "      <td>...</td>\n",
       "      <td>0</td>\n",
       "      <td>0</td>\n",
       "      <td>0</td>\n",
       "      <td>0</td>\n",
       "      <td>0</td>\n",
       "      <td>0</td>\n",
       "      <td>0</td>\n",
       "      <td>157</td>\n",
       "      <td>0</td>\n",
       "      <td>1</td>\n",
       "    </tr>\n",
       "    <tr>\n",
       "      <th>...</th>\n",
       "      <td>...</td>\n",
       "      <td>...</td>\n",
       "      <td>...</td>\n",
       "      <td>...</td>\n",
       "      <td>...</td>\n",
       "      <td>...</td>\n",
       "      <td>...</td>\n",
       "      <td>...</td>\n",
       "      <td>...</td>\n",
       "      <td>...</td>\n",
       "      <td>...</td>\n",
       "      <td>...</td>\n",
       "      <td>...</td>\n",
       "      <td>...</td>\n",
       "      <td>...</td>\n",
       "      <td>...</td>\n",
       "      <td>...</td>\n",
       "      <td>...</td>\n",
       "      <td>...</td>\n",
       "      <td>...</td>\n",
       "      <td>...</td>\n",
       "    </tr>\n",
       "    <tr>\n",
       "      <th>754115</th>\n",
       "      <td>2</td>\n",
       "      <td>2</td>\n",
       "      <td>224</td>\n",
       "      <td>54</td>\n",
       "      <td>102</td>\n",
       "      <td>1</td>\n",
       "      <td>34</td>\n",
       "      <td>5</td>\n",
       "      <td>2.822933</td>\n",
       "      <td>2647.133368</td>\n",
       "      <td>...</td>\n",
       "      <td>0</td>\n",
       "      <td>0</td>\n",
       "      <td>0</td>\n",
       "      <td>0</td>\n",
       "      <td>0</td>\n",
       "      <td>0</td>\n",
       "      <td>0</td>\n",
       "      <td>8</td>\n",
       "      <td>1</td>\n",
       "      <td>0</td>\n",
       "    </tr>\n",
       "    <tr>\n",
       "      <th>754116</th>\n",
       "      <td>3</td>\n",
       "      <td>1</td>\n",
       "      <td>618</td>\n",
       "      <td>93</td>\n",
       "      <td>102</td>\n",
       "      <td>1</td>\n",
       "      <td>32</td>\n",
       "      <td>3</td>\n",
       "      <td>4.000000</td>\n",
       "      <td>9426.015364</td>\n",
       "      <td>...</td>\n",
       "      <td>0</td>\n",
       "      <td>0</td>\n",
       "      <td>0</td>\n",
       "      <td>0</td>\n",
       "      <td>0</td>\n",
       "      <td>0</td>\n",
       "      <td>0</td>\n",
       "      <td>12</td>\n",
       "      <td>1</td>\n",
       "      <td>0</td>\n",
       "    </tr>\n",
       "    <tr>\n",
       "      <th>754117</th>\n",
       "      <td>3</td>\n",
       "      <td>1</td>\n",
       "      <td>602</td>\n",
       "      <td>102</td>\n",
       "      <td>102</td>\n",
       "      <td>1</td>\n",
       "      <td>9</td>\n",
       "      <td>3</td>\n",
       "      <td>3.766132</td>\n",
       "      <td>2704.634814</td>\n",
       "      <td>...</td>\n",
       "      <td>0</td>\n",
       "      <td>0</td>\n",
       "      <td>0</td>\n",
       "      <td>0</td>\n",
       "      <td>0</td>\n",
       "      <td>0</td>\n",
       "      <td>0</td>\n",
       "      <td>154</td>\n",
       "      <td>0</td>\n",
       "      <td>1</td>\n",
       "    </tr>\n",
       "    <tr>\n",
       "      <th>754118</th>\n",
       "      <td>2</td>\n",
       "      <td>1</td>\n",
       "      <td>643</td>\n",
       "      <td>11</td>\n",
       "      <td>102</td>\n",
       "      <td>1</td>\n",
       "      <td>28</td>\n",
       "      <td>2</td>\n",
       "      <td>2.431588</td>\n",
       "      <td>3215.793826</td>\n",
       "      <td>...</td>\n",
       "      <td>0</td>\n",
       "      <td>0</td>\n",
       "      <td>0</td>\n",
       "      <td>0</td>\n",
       "      <td>0</td>\n",
       "      <td>0</td>\n",
       "      <td>0</td>\n",
       "      <td>70</td>\n",
       "      <td>0</td>\n",
       "      <td>0</td>\n",
       "    </tr>\n",
       "    <tr>\n",
       "      <th>754119</th>\n",
       "      <td>0</td>\n",
       "      <td>1</td>\n",
       "      <td>293</td>\n",
       "      <td>45</td>\n",
       "      <td>105</td>\n",
       "      <td>1</td>\n",
       "      <td>12</td>\n",
       "      <td>4</td>\n",
       "      <td>2.000000</td>\n",
       "      <td>7000.000000</td>\n",
       "      <td>...</td>\n",
       "      <td>0</td>\n",
       "      <td>0</td>\n",
       "      <td>0</td>\n",
       "      <td>0</td>\n",
       "      <td>0</td>\n",
       "      <td>0</td>\n",
       "      <td>0</td>\n",
       "      <td>23</td>\n",
       "      <td>1</td>\n",
       "      <td>1</td>\n",
       "    </tr>\n",
       "  </tbody>\n",
       "</table>\n",
       "<p>10000 rows × 63 columns</p>\n",
       "</div>"
      ],
      "text/plain": [
       "        FLAG  PP_CINSIYET  PP_YAS  PP_MESLEK  PP_MUSTERI_SEGMENTI  PP_UYRUK  \\\n",
       "203229     3            2      28         21                  106         1   \n",
       "206743     3            2     375         58                  104         1   \n",
       "346839     2            1     428        102                  102         1   \n",
       "335741     3            1     365        110                  102         1   \n",
       "260318     4            1     754         77                  103         1   \n",
       "...      ...          ...     ...        ...                  ...       ...   \n",
       "754115     2            2     224         54                  102         1   \n",
       "754116     3            1     618         93                  102         1   \n",
       "754117     3            1     602        102                  102         1   \n",
       "754118     2            1     643         11                  102         1   \n",
       "754119     0            1     293         45                  105         1   \n",
       "\n",
       "        IL  SORU_MEDENI_HAL_CVP  SORU_EGITIM_CVP  SORU_GELIR_CVP  ...  HU13  \\\n",
       "203229  80                    5         0.000000     3000.000000  ...     0   \n",
       "206743  35                    3         4.000000    35000.000000  ...     0   \n",
       "346839   6                    3         4.000000     3000.000000  ...     0   \n",
       "335741  54                    3         4.000000        0.000000  ...     0   \n",
       "260318  77                    3         1.000000     5000.000000  ...     0   \n",
       "...     ..                  ...              ...             ...  ...   ...   \n",
       "754115  34                    5         2.822933     2647.133368  ...     0   \n",
       "754116  32                    3         4.000000     9426.015364  ...     0   \n",
       "754117   9                    3         3.766132     2704.634814  ...     0   \n",
       "754118  28                    2         2.431588     3215.793826  ...     0   \n",
       "754119  12                    4         2.000000     7000.000000  ...     0   \n",
       "\n",
       "        HU14  HU15  HU16  HU17  HU18  HU19  AKTIF_ILK_POLICE_RG  EGITIM_RG  \\\n",
       "203229     0     0     0     0     0     0                   23          1   \n",
       "206743     0     0     0     0     0     0                    1          1   \n",
       "346839     0     0     0     0     0     0                   92          0   \n",
       "335741     0     0     0     0     0     0                    0          0   \n",
       "260318     0     0     0     0     0     0                  157          0   \n",
       "...      ...   ...   ...   ...   ...   ...                  ...        ...   \n",
       "754115     0     0     0     0     0     0                    8          1   \n",
       "754116     0     0     0     0     0     0                   12          1   \n",
       "754117     0     0     0     0     0     0                  154          0   \n",
       "754118     0     0     0     0     0     0                   70          0   \n",
       "754119     0     0     0     0     0     0                   23          1   \n",
       "\n",
       "        BU_TOPLAM  \n",
       "203229          0  \n",
       "206743          1  \n",
       "346839          2  \n",
       "335741          0  \n",
       "260318          1  \n",
       "...           ...  \n",
       "754115          0  \n",
       "754116          0  \n",
       "754117          1  \n",
       "754118          0  \n",
       "754119          1  \n",
       "\n",
       "[10000 rows x 63 columns]"
      ]
     },
     "execution_count": 231,
     "metadata": {},
     "output_type": "execute_result"
    }
   ],
   "source": [
    "X_train_dict[6]"
   ]
  },
  {
   "cell_type": "code",
   "execution_count": 402,
   "metadata": {},
   "outputs": [],
   "source": [
    "for i in [6, 7, 11, 12, 14, 15, 19]:\n",
    "    if y_train_dict[i].value_counts()[1] <= 5000:\n",
    "        smote = SMOTE(sampling_strategy={1: 5000}, random_state=42)\n",
    "        X_train_smote , y_train_smote = smote.fit_resample(X_train_dict[i], y_train_dict[i])\n",
    "        \n",
    "        # 0 sınıfını 3.000'e düşürmek için random undersampling\n",
    "        X_0_i = X_train_smote[y_train_smote == 0].sample(5000, random_state=42)\n",
    "        X_1_i = X_train_smote[y_train_smote == 1]\n",
    "        y_0_i = y_train_smote[y_train_smote == 0].sample(5000, random_state=42)\n",
    "        y_1_i = y_train_smote[y_train_smote == 1]\n",
    "    \n",
    "    else:\n",
    "        # 0 sınıfını 3.000'e düşürmek için random undersampling\n",
    "        X_0_i = X_train_dict[i][y_train_dict[i] == 0].sample(y_train_dict[i].value_counts()[1], random_state=42)\n",
    "        X_1_i = X_train_dict[i][y_train_dict[i] == 1]\n",
    "        y_0_i = y_train_dict[i][y_train_dict[i] == 0].sample(y_train_dict[i].value_counts()[1], random_state=42)\n",
    "        y_1_i = y_train_dict[i][y_train_dict[i] == 1]\n",
    "\n",
    "    # Yeni veri setini birleştirme\n",
    "    X_train_i = pd.concat([X_0_i, X_1_i], axis=0)\n",
    "    y_train_i = pd.concat([y_0_i, y_1_i], axis=0)\n",
    "\n",
    "    # Sonuçları sözlükte sakla\n",
    "    X_train_dict[i] = X_train_i\n",
    "    y_train_dict[i] = y_train_i"
   ]
  },
  {
   "cell_type": "code",
   "execution_count": 377,
   "metadata": {},
   "outputs": [
    {
     "name": "stdout",
     "output_type": "stream",
     "text": [
      "LABEL\n",
      "0    5000\n",
      "1    5000\n",
      "Name: count, dtype: int64\n",
      "LABEL\n",
      "0    5000\n",
      "1    5000\n",
      "Name: count, dtype: int64\n",
      "LABEL\n",
      "0    5000\n",
      "1    5000\n",
      "Name: count, dtype: int64\n",
      "LABEL\n",
      "0    5000\n",
      "1    5000\n",
      "Name: count, dtype: int64\n",
      "LABEL\n",
      "0    6845\n",
      "1    6845\n",
      "Name: count, dtype: int64\n",
      "LABEL\n",
      "0    5000\n",
      "1    5000\n",
      "Name: count, dtype: int64\n",
      "LABEL\n",
      "0    5000\n",
      "1    5000\n",
      "Name: count, dtype: int64\n"
     ]
    }
   ],
   "source": [
    "for i in [6, 7, 11, 12, 14, 15, 19]:\n",
    "    print(y_train_dict[i].value_counts())"
   ]
  },
  {
   "cell_type": "code",
   "execution_count": 378,
   "metadata": {},
   "outputs": [
    {
     "name": "stdout",
     "output_type": "stream",
     "text": [
      "(10000, 63)\n",
      "(10000, 63)\n",
      "(10000, 63)\n",
      "(10000, 63)\n",
      "(13690, 63)\n",
      "(10000, 63)\n",
      "(10000, 63)\n"
     ]
    }
   ],
   "source": [
    "for i in [6, 7, 11, 12, 14, 15, 19]:\n",
    "    print(X_train_dict[i].shape)"
   ]
  },
  {
   "cell_type": "code",
   "execution_count": null,
   "metadata": {},
   "outputs": [],
   "source": [
    "X_train_dict[6].shape"
   ]
  },
  {
   "cell_type": "markdown",
   "metadata": {},
   "source": [
    "# MODEL DENEME"
   ]
  },
  {
   "cell_type": "code",
   "execution_count": 288,
   "metadata": {},
   "outputs": [
    {
     "name": "stderr",
     "output_type": "stream",
     "text": [
      "[I 2024-08-30 18:55:57,566] A new study created in memory with name: no-name-3760d86c-2f47-4510-b5b1-9a4931808e27\n",
      "[I 2024-08-30 18:56:02,567] Trial 0 finished with value: 0.06689199464476807 and parameters: {'num_leaves': 221, 'max_depth': 3, 'learning_rate': 0.027107915717394383, 'n_estimators': 1338, 'min_child_samples': 54, 'lambda_l1': 95.93696403110616, 'lambda_l2': 69.61606650487974, 'min_gain_to_split': 7.57737942517495, 'bagging_fraction': 0.5393873224593313, 'feature_fraction': 0.573029031154931, 'importance_type': 'gain'}. Best is trial 0 with value: 0.06689199464476807.\n",
      "[I 2024-08-30 18:56:06,481] Trial 1 finished with value: 0.07659642440611478 and parameters: {'num_leaves': 176, 'max_depth': 8, 'learning_rate': 0.17975805571708672, 'n_estimators': 786, 'min_child_samples': 99, 'lambda_l1': 24.358944190829025, 'lambda_l2': 98.2547586156368, 'min_gain_to_split': 5.196544480222349, 'bagging_fraction': 0.6391354190681894, 'feature_fraction': 0.28352272530521305, 'importance_type': 'split'}. Best is trial 1 with value: 0.07659642440611478.\n",
      "[I 2024-08-30 18:56:42,549] Trial 2 finished with value: 0.07986014792788279 and parameters: {'num_leaves': 308, 'max_depth': 6, 'learning_rate': 0.012394958387416088, 'n_estimators': 1265, 'min_child_samples': 19, 'lambda_l1': 5.847256388465705, 'lambda_l2': 76.70857845645907, 'min_gain_to_split': 1.863270471161349, 'bagging_fraction': 0.40618508767945893, 'feature_fraction': 0.8589028082317663, 'importance_type': 'split'}. Best is trial 2 with value: 0.07986014792788279.\n",
      "[I 2024-08-30 18:56:49,350] Trial 3 finished with value: 0.0805311509058034 and parameters: {'num_leaves': 288, 'max_depth': 10, 'learning_rate': 0.05311921080349829, 'n_estimators': 1248, 'min_child_samples': 10, 'lambda_l1': 20.09283137860949, 'lambda_l2': 21.612097068685276, 'min_gain_to_split': 6.3594353114053535, 'bagging_fraction': 0.6186008535928903, 'feature_fraction': 0.8869485841873874, 'importance_type': 'split'}. Best is trial 3 with value: 0.0805311509058034.\n",
      "[I 2024-08-30 18:56:56,384] Trial 4 finished with value: 0.06652071886608565 and parameters: {'num_leaves': 140, 'max_depth': 12, 'learning_rate': 0.022270252705642486, 'n_estimators': 1961, 'min_child_samples': 30, 'lambda_l1': 63.207492500099164, 'lambda_l2': 72.51853031303679, 'min_gain_to_split': 12.996409102028988, 'bagging_fraction': 0.49261337142849937, 'feature_fraction': 0.29229533371899097, 'importance_type': 'gain'}. Best is trial 3 with value: 0.0805311509058034.\n",
      "[I 2024-08-30 18:56:58,548] Trial 5 finished with value: 0.06522818208560316 and parameters: {'num_leaves': 171, 'max_depth': 5, 'learning_rate': 0.08914090688998813, 'n_estimators': 1214, 'min_child_samples': 77, 'lambda_l1': 95.1224737117976, 'lambda_l2': 10.836184346592647, 'min_gain_to_split': 5.97835765550738, 'bagging_fraction': 0.5775377734214122, 'feature_fraction': 0.6226337567438527, 'importance_type': 'split'}. Best is trial 3 with value: 0.0805311509058034.\n",
      "[I 2024-08-30 18:57:00,437] Trial 6 finished with value: 0.06852543900458564 and parameters: {'num_leaves': 159, 'max_depth': 8, 'learning_rate': 0.02970982786177661, 'n_estimators': 1458, 'min_child_samples': 56, 'lambda_l1': 92.5564513444548, 'lambda_l2': 83.74663935632906, 'min_gain_to_split': 7.82933307861849, 'bagging_fraction': 0.13765810770365564, 'feature_fraction': 0.32980978992386684, 'importance_type': 'split'}. Best is trial 3 with value: 0.0805311509058034.\n",
      "[I 2024-08-30 18:57:03,135] Trial 7 finished with value: 0.08234846183449034 and parameters: {'num_leaves': 386, 'max_depth': 9, 'learning_rate': 0.14675943051666238, 'n_estimators': 1804, 'min_child_samples': 67, 'lambda_l1': 26.041514597862847, 'lambda_l2': 21.860134179224854, 'min_gain_to_split': 1.231672227548164, 'bagging_fraction': 0.9533915545021661, 'feature_fraction': 0.21704778464571886, 'importance_type': 'gain'}. Best is trial 7 with value: 0.08234846183449034.\n",
      "[I 2024-08-30 18:57:04,286] Trial 8 finished with value: 0.06808644978218936 and parameters: {'num_leaves': 277, 'max_depth': 5, 'learning_rate': 0.19585195393037041, 'n_estimators': 1735, 'min_child_samples': 32, 'lambda_l1': 92.86394874232857, 'lambda_l2': 2.8951966702181253, 'min_gain_to_split': 3.539120759075794, 'bagging_fraction': 0.10199357951470267, 'feature_fraction': 0.4031684993883935, 'importance_type': 'gain'}. Best is trial 7 with value: 0.08234846183449034.\n",
      "[I 2024-08-30 18:57:11,629] Trial 9 finished with value: 0.09126766078136508 and parameters: {'num_leaves': 313, 'max_depth': 4, 'learning_rate': 0.028689494052552847, 'n_estimators': 663, 'min_child_samples': 64, 'lambda_l1': 22.3427957702356, 'lambda_l2': 16.275457853640685, 'min_gain_to_split': 0.4001976063673718, 'bagging_fraction': 0.1430338873781608, 'feature_fraction': 0.7580909556702587, 'importance_type': 'split'}. Best is trial 9 with value: 0.09126766078136508.\n",
      "[I 2024-08-30 18:57:13,777] Trial 10 finished with value: 0.0713958305807453 and parameters: {'num_leaves': 27, 'max_depth': 3, 'learning_rate': 0.09141283676384353, 'n_estimators': 164, 'min_child_samples': 91, 'lambda_l1': 50.62577832487757, 'lambda_l2': 42.01205033360478, 'min_gain_to_split': 12.672349326983653, 'bagging_fraction': 0.2914989683740761, 'feature_fraction': 0.7506698239607408, 'importance_type': 'split'}. Best is trial 9 with value: 0.09126766078136508.\n",
      "[I 2024-08-30 18:57:16,771] Trial 11 finished with value: 0.08805364420243564 and parameters: {'num_leaves': 384, 'max_depth': 10, 'learning_rate': 0.14938778730030744, 'n_estimators': 676, 'min_child_samples': 72, 'lambda_l1': 30.397204106893298, 'lambda_l2': 32.239880100035435, 'min_gain_to_split': 0.5306083449853845, 'bagging_fraction': 0.9799515981869555, 'feature_fraction': 0.16180582576176628, 'importance_type': 'gain'}. Best is trial 9 with value: 0.09126766078136508.\n",
      "[I 2024-08-30 18:57:20,575] Trial 12 finished with value: 0.0829986050435344 and parameters: {'num_leaves': 396, 'max_depth': 11, 'learning_rate': 0.13462819142777344, 'n_estimators': 691, 'min_child_samples': 78, 'lambda_l1': 40.90277619943573, 'lambda_l2': 38.30280780920822, 'min_gain_to_split': 0.34864809368142424, 'bagging_fraction': 0.9814514630362022, 'feature_fraction': 0.13822837974653568, 'importance_type': 'gain'}. Best is trial 9 with value: 0.09126766078136508.\n",
      "[I 2024-08-30 18:57:24,876] Trial 13 finished with value: 0.08781958984330077 and parameters: {'num_leaves': 340, 'max_depth': 6, 'learning_rate': 0.12733714776463506, 'n_estimators': 415, 'min_child_samples': 44, 'lambda_l1': 2.0842110017609627, 'lambda_l2': 53.1472214387866, 'min_gain_to_split': 2.9784976153249403, 'bagging_fraction': 0.7863815849827837, 'feature_fraction': 0.7315349414488282, 'importance_type': 'gain'}. Best is trial 9 with value: 0.09126766078136508.\n",
      "[I 2024-08-30 18:57:33,598] Trial 14 finished with value: 0.0787253088970275 and parameters: {'num_leaves': 349, 'max_depth': 10, 'learning_rate': 0.06613358318072798, 'n_estimators': 847, 'min_child_samples': 72, 'lambda_l1': 41.69406653883158, 'lambda_l2': 28.09512261024221, 'min_gain_to_split': 0.014536215586894663, 'bagging_fraction': 0.7977733259026176, 'feature_fraction': 0.45021184042210644, 'importance_type': 'split'}. Best is trial 9 with value: 0.09126766078136508.\n",
      "[I 2024-08-30 18:57:35,690] Trial 15 finished with value: 0.07458561647792217 and parameters: {'num_leaves': 255, 'max_depth': 7, 'learning_rate': 0.15287980821072528, 'n_estimators': 434, 'min_child_samples': 64, 'lambda_l1': 65.14914894904176, 'lambda_l2': 50.06022078816554, 'min_gain_to_split': 10.020588650527138, 'bagging_fraction': 0.29772753925914125, 'feature_fraction': 0.9825190137377231, 'importance_type': 'gain'}. Best is trial 9 with value: 0.09126766078136508.\n",
      "[I 2024-08-30 18:57:39,132] Trial 16 finished with value: 0.08172758354117701 and parameters: {'num_leaves': 355, 'max_depth': 12, 'learning_rate': 0.11172042591812735, 'n_estimators': 599, 'min_child_samples': 87, 'lambda_l1': 15.646241131030296, 'lambda_l2': 8.98055226701143, 'min_gain_to_split': 3.697946826717738, 'bagging_fraction': 0.712892131701434, 'feature_fraction': 0.6691377899371185, 'importance_type': 'gain'}. Best is trial 9 with value: 0.09126766078136508.\n",
      "[I 2024-08-30 18:57:40,639] Trial 17 finished with value: 0.07208462375093447 and parameters: {'num_leaves': 93, 'max_depth': 4, 'learning_rate': 0.1672068803797961, 'n_estimators': 981, 'min_child_samples': 42, 'lambda_l1': 31.856588525351036, 'lambda_l2': 32.76270370382072, 'min_gain_to_split': 10.261977175724422, 'bagging_fraction': 0.25223179557267733, 'feature_fraction': 0.49180851221327815, 'importance_type': 'split'}. Best is trial 9 with value: 0.09126766078136508.\n",
      "[I 2024-08-30 18:57:44,331] Trial 18 finished with value: 0.0753416801580314 and parameters: {'num_leaves': 323, 'max_depth': 9, 'learning_rate': 0.060980303128541524, 'n_estimators': 157, 'min_child_samples': 63, 'lambda_l1': 12.328151141979566, 'lambda_l2': 58.568445887802795, 'min_gain_to_split': 2.100238473381411, 'bagging_fraction': 0.8719653868382793, 'feature_fraction': 0.14400917061136673, 'importance_type': 'gain'}. Best is trial 9 with value: 0.09126766078136508.\n",
      "[I 2024-08-30 18:57:46,424] Trial 19 finished with value: 0.06831093659930514 and parameters: {'num_leaves': 237, 'max_depth': 7, 'learning_rate': 0.11427771009637036, 'n_estimators': 994, 'min_child_samples': 84, 'lambda_l1': 60.47148686365894, 'lambda_l2': 21.683464434343417, 'min_gain_to_split': 4.764583034886805, 'bagging_fraction': 0.40525989040932664, 'feature_fraction': 0.7772981968584207, 'importance_type': 'split'}. Best is trial 9 with value: 0.09126766078136508.\n",
      "[I 2024-08-30 18:57:48,774] Trial 20 finished with value: 0.07846555268654565 and parameters: {'num_leaves': 370, 'max_depth': 10, 'learning_rate': 0.08101255772066221, 'n_estimators': 441, 'min_child_samples': 44, 'lambda_l1': 37.77588770828092, 'lambda_l2': 13.12530743280793, 'min_gain_to_split': 10.056450114448978, 'bagging_fraction': 0.20961925927256192, 'feature_fraction': 0.5388534379298218, 'importance_type': 'split'}. Best is trial 9 with value: 0.09126766078136508.\n",
      "[I 2024-08-30 18:57:52,969] Trial 21 finished with value: 0.09062841569222715 and parameters: {'num_leaves': 331, 'max_depth': 5, 'learning_rate': 0.12896747721906918, 'n_estimators': 409, 'min_child_samples': 40, 'lambda_l1': 0.6443313533834214, 'lambda_l2': 55.18772889162575, 'min_gain_to_split': 2.781544169752956, 'bagging_fraction': 0.8333895392891886, 'feature_fraction': 0.7170907665647985, 'importance_type': 'gain'}. Best is trial 9 with value: 0.09126766078136508.\n",
      "[I 2024-08-30 18:57:56,418] Trial 22 finished with value: 0.08946660971709511 and parameters: {'num_leaves': 306, 'max_depth': 4, 'learning_rate': 0.15922264126661845, 'n_estimators': 567, 'min_child_samples': 58, 'lambda_l1': 10.594965623013243, 'lambda_l2': 43.45221605086575, 'min_gain_to_split': 1.2059018941235156, 'bagging_fraction': 0.8592649121111737, 'feature_fraction': 0.6669407157979793, 'importance_type': 'gain'}. Best is trial 9 with value: 0.09126766078136508.\n",
      "[I 2024-08-30 18:58:00,288] Trial 23 finished with value: 0.09317714066040048 and parameters: {'num_leaves': 299, 'max_depth': 4, 'learning_rate': 0.16677090475385756, 'n_estimators': 323, 'min_child_samples': 35, 'lambda_l1': 0.8442940955661022, 'lambda_l2': 62.02010688692115, 'min_gain_to_split': 2.502915261646414, 'bagging_fraction': 0.8640260957375697, 'feature_fraction': 0.6748353072963059, 'importance_type': 'gain'}. Best is trial 23 with value: 0.09317714066040048.\n",
      "[I 2024-08-30 18:58:03,506] Trial 24 finished with value: 0.08764645918891431 and parameters: {'num_leaves': 256, 'max_depth': 4, 'learning_rate': 0.18509684596907677, 'n_estimators': 255, 'min_child_samples': 27, 'lambda_l1': 2.1001035811201803, 'lambda_l2': 58.71290600556176, 'min_gain_to_split': 2.774623607093397, 'bagging_fraction': 0.7135292266788001, 'feature_fraction': 0.8217578565098294, 'importance_type': 'gain'}. Best is trial 23 with value: 0.09317714066040048.\n",
      "[I 2024-08-30 18:58:05,666] Trial 25 finished with value: 0.0823812539621744 and parameters: {'num_leaves': 289, 'max_depth': 5, 'learning_rate': 0.1285288212338171, 'n_estimators': 334, 'min_child_samples': 38, 'lambda_l1': 16.51636493419364, 'lambda_l2': 64.28630828995269, 'min_gain_to_split': 4.352179092719199, 'bagging_fraction': 0.8869538842022751, 'feature_fraction': 0.9320223933131608, 'importance_type': 'gain'}. Best is trial 23 with value: 0.09317714066040048.\n",
      "[I 2024-08-30 18:58:07,887] Trial 26 finished with value: 0.07126024759765351 and parameters: {'num_leaves': 327, 'max_depth': 3, 'learning_rate': 0.044401164217664796, 'n_estimators': 107, 'min_child_samples': 19, 'lambda_l1': 0.9444064043027893, 'lambda_l2': 84.09368657231352, 'min_gain_to_split': 14.60095925106046, 'bagging_fraction': 0.7587545949833796, 'feature_fraction': 0.6732047306924498, 'importance_type': 'gain'}. Best is trial 23 with value: 0.09317714066040048.\n",
      "[I 2024-08-30 18:58:10,669] Trial 27 finished with value: 0.08039515095959111 and parameters: {'num_leaves': 204, 'max_depth': 6, 'learning_rate': 0.17393825622405323, 'n_estimators': 530, 'min_child_samples': 52, 'lambda_l1': 10.032584752719348, 'lambda_l2': 58.68291335158389, 'min_gain_to_split': 2.2982881696874555, 'bagging_fraction': 0.42628328483665234, 'feature_fraction': 0.8039961841907152, 'importance_type': 'gain'}. Best is trial 23 with value: 0.09317714066040048.\n",
      "[I 2024-08-30 18:58:12,983] Trial 28 finished with value: 0.07007766688581378 and parameters: {'num_leaves': 262, 'max_depth': 4, 'learning_rate': 0.09855390233174718, 'n_estimators': 296, 'min_child_samples': 50, 'lambda_l1': 79.83552362388357, 'lambda_l2': 52.604599666912705, 'min_gain_to_split': 1.5485429888963331, 'bagging_fraction': 0.6522251111354622, 'feature_fraction': 0.5961811811184403, 'importance_type': 'split'}. Best is trial 23 with value: 0.09317714066040048.\n",
      "[I 2024-08-30 18:58:15,620] Trial 29 finished with value: 0.07459292385924907 and parameters: {'num_leaves': 209, 'max_depth': 3, 'learning_rate': 0.07487378962972714, 'n_estimators': 818, 'min_child_samples': 36, 'lambda_l1': 20.384721920821015, 'lambda_l2': 66.65021448688456, 'min_gain_to_split': 7.900315415304522, 'bagging_fraction': 0.5128265924343915, 'feature_fraction': 0.7188238818731306, 'importance_type': 'gain'}. Best is trial 23 with value: 0.09317714066040048.\n",
      "[I 2024-08-30 18:58:18,175] Trial 30 finished with value: 0.07901435654762531 and parameters: {'num_leaves': 309, 'max_depth': 5, 'learning_rate': 0.13818814462633117, 'n_estimators': 701, 'min_child_samples': 22, 'lambda_l1': 7.5375049989711265, 'lambda_l2': 44.47256998404831, 'min_gain_to_split': 6.764899030780754, 'bagging_fraction': 0.8323404214982701, 'feature_fraction': 0.5242262441720059, 'importance_type': 'gain'}. Best is trial 23 with value: 0.09317714066040048.\n",
      "[I 2024-08-30 18:58:21,331] Trial 31 finished with value: 0.09295222369170361 and parameters: {'num_leaves': 304, 'max_depth': 4, 'learning_rate': 0.16214929413243265, 'n_estimators': 549, 'min_child_samples': 60, 'lambda_l1': 10.304658392385107, 'lambda_l2': 43.76534519260523, 'min_gain_to_split': 1.1163533644423884, 'bagging_fraction': 0.9328268654215364, 'feature_fraction': 0.6568739807254694, 'importance_type': 'gain'}. Best is trial 23 with value: 0.09317714066040048.\n",
      "[I 2024-08-30 18:58:23,821] Trial 32 finished with value: 0.0877288183935382 and parameters: {'num_leaves': 237, 'max_depth': 4, 'learning_rate': 0.16525080929714034, 'n_estimators': 486, 'min_child_samples': 47, 'lambda_l1': 6.525166138698717, 'lambda_l2': 98.1490863544403, 'min_gain_to_split': 3.573789728454895, 'bagging_fraction': 0.9147531918477629, 'feature_fraction': 0.6045698642612001, 'importance_type': 'gain'}. Best is trial 23 with value: 0.09317714066040048.\n",
      "[I 2024-08-30 18:58:29,781] Trial 33 finished with value: 0.09947067899656768 and parameters: {'num_leaves': 360, 'max_depth': 3, 'learning_rate': 0.11991554675696935, 'n_estimators': 343, 'min_child_samples': 59, 'lambda_l1': 0.057755130366775376, 'lambda_l2': 78.54714352878419, 'min_gain_to_split': 0.7983743225110869, 'bagging_fraction': 0.9161570045585213, 'feature_fraction': 0.7036317911648572, 'importance_type': 'gain'}. Best is trial 33 with value: 0.09947067899656768.\n",
      "[I 2024-08-30 18:58:32,330] Trial 34 finished with value: 0.08277722310451022 and parameters: {'num_leaves': 357, 'max_depth': 3, 'learning_rate': 0.19696048532993282, 'n_estimators': 293, 'min_child_samples': 57, 'lambda_l1': 20.19777690543073, 'lambda_l2': 88.18684832992737, 'min_gain_to_split': 1.0395261743500983, 'bagging_fraction': 0.7202836965405903, 'feature_fraction': 0.8720635260304489, 'importance_type': 'gain'}. Best is trial 33 with value: 0.09947067899656768.\n",
      "[I 2024-08-30 18:58:36,176] Trial 35 finished with value: 0.09453460826283264 and parameters: {'num_leaves': 292, 'max_depth': 3, 'learning_rate': 0.18170062723605676, 'n_estimators': 889, 'min_child_samples': 70, 'lambda_l1': 14.170956408061667, 'lambda_l2': 77.7403854796153, 'min_gain_to_split': 0.12061748339986988, 'bagging_fraction': 0.9224892147256881, 'feature_fraction': 0.6426290588792464, 'importance_type': 'split'}. Best is trial 33 with value: 0.09947067899656768.\n",
      "[I 2024-08-30 18:58:38,656] Trial 36 finished with value: 0.08748449034929633 and parameters: {'num_leaves': 279, 'max_depth': 3, 'learning_rate': 0.18432464317956457, 'n_estimators': 1127, 'min_child_samples': 100, 'lambda_l1': 15.794468905655403, 'lambda_l2': 74.26770436826843, 'min_gain_to_split': 1.8424121203052801, 'bagging_fraction': 0.9245179659880643, 'feature_fraction': 0.6387114525865772, 'importance_type': 'gain'}. Best is trial 33 with value: 0.09947067899656768.\n",
      "[I 2024-08-30 18:58:40,848] Trial 37 finished with value: 0.08402460448955104 and parameters: {'num_leaves': 298, 'max_depth': 3, 'learning_rate': 0.17679657328854118, 'n_estimators': 1404, 'min_child_samples': 12, 'lambda_l1': 7.879822847097469, 'lambda_l2': 81.10835668198968, 'min_gain_to_split': 5.523584069416533, 'bagging_fraction': 0.92332993262063, 'feature_fraction': 0.5702744425071677, 'importance_type': 'split'}. Best is trial 33 with value: 0.09947067899656768.\n",
      "[I 2024-08-30 18:58:44,986] Trial 38 finished with value: 0.07856699792258155 and parameters: {'num_leaves': 131, 'max_depth': 6, 'learning_rate': 0.19031673521976464, 'n_estimators': 869, 'min_child_samples': 75, 'lambda_l1': 25.7602994263699, 'lambda_l2': 92.43816104294177, 'min_gain_to_split': 0.8258301463661986, 'bagging_fraction': 0.942744505790817, 'feature_fraction': 0.46157078474892566, 'importance_type': 'gain'}. Best is trial 33 with value: 0.09947067899656768.\n",
      "[I 2024-08-30 18:58:48,099] Trial 39 finished with value: 0.08482275503562707 and parameters: {'num_leaves': 364, 'max_depth': 4, 'learning_rate': 0.16705591208146348, 'n_estimators': 951, 'min_child_samples': 59, 'lambda_l1': 13.388676918629502, 'lambda_l2': 69.58914183640547, 'min_gain_to_split': 4.1153559416347445, 'bagging_fraction': 0.9892516136274466, 'feature_fraction': 0.6963172381359458, 'importance_type': 'split'}. Best is trial 33 with value: 0.09947067899656768.\n",
      "[I 2024-08-30 18:59:02,212] Trial 40 finished with value: 0.10158636737234253 and parameters: {'num_leaves': 227, 'max_depth': 5, 'learning_rate': 0.14344291273931317, 'n_estimators': 1142, 'min_child_samples': 49, 'lambda_l1': 5.2393188025557675, 'lambda_l2': 79.81806032133079, 'min_gain_to_split': 0.0015128719452005834, 'bagging_fraction': 0.6664123279084768, 'feature_fraction': 0.6366499402151867, 'importance_type': 'gain'}. Best is trial 40 with value: 0.10158636737234253.\n",
      "[I 2024-08-30 18:59:12,177] Trial 41 finished with value: 0.0970337656335376 and parameters: {'num_leaves': 193, 'max_depth': 5, 'learning_rate': 0.14321194567732767, 'n_estimators': 1109, 'min_child_samples': 51, 'lambda_l1': 5.4437330934913435, 'lambda_l2': 77.59681691781655, 'min_gain_to_split': 0.14873800468982895, 'bagging_fraction': 0.8149162650929764, 'feature_fraction': 0.6257223086202209, 'importance_type': 'gain'}. Best is trial 40 with value: 0.10158636737234253.\n",
      "[I 2024-08-30 18:59:27,405] Trial 42 finished with value: 0.09971473652357102 and parameters: {'num_leaves': 182, 'max_depth': 6, 'learning_rate': 0.14170572895108294, 'n_estimators': 1164, 'min_child_samples': 49, 'lambda_l1': 4.7686132380214925, 'lambda_l2': 76.4121965127106, 'min_gain_to_split': 0.005331581708292243, 'bagging_fraction': 0.6686218493018695, 'feature_fraction': 0.5837842652252563, 'importance_type': 'gain'}. Best is trial 40 with value: 0.10158636737234253.\n",
      "[I 2024-08-30 18:59:41,026] Trial 43 finished with value: 0.09585315071033228 and parameters: {'num_leaves': 188, 'max_depth': 6, 'learning_rate': 0.11967288426714924, 'n_estimators': 1131, 'min_child_samples': 51, 'lambda_l1': 5.464753466047224, 'lambda_l2': 80.13735731720531, 'min_gain_to_split': 0.07009711480192812, 'bagging_fraction': 0.6128160044066224, 'feature_fraction': 0.5710261605824468, 'importance_type': 'gain'}. Best is trial 40 with value: 0.10158636737234253.\n",
      "[I 2024-08-30 18:59:46,429] Trial 44 finished with value: 0.08605151942107703 and parameters: {'num_leaves': 190, 'max_depth': 7, 'learning_rate': 0.12071725304518449, 'n_estimators': 1572, 'min_child_samples': 52, 'lambda_l1': 5.758088624470643, 'lambda_l2': 89.17669125415294, 'min_gain_to_split': 1.6701187382928655, 'bagging_fraction': 0.5931024758716669, 'feature_fraction': 0.38390056054808913, 'importance_type': 'gain'}. Best is trial 40 with value: 0.10158636737234253.\n",
      "[I 2024-08-30 18:59:52,545] Trial 45 finished with value: 0.09168104122988298 and parameters: {'num_leaves': 151, 'max_depth': 6, 'learning_rate': 0.1439428014194733, 'n_estimators': 1134, 'min_child_samples': 48, 'lambda_l1': 5.248390115876155, 'lambda_l2': 78.8789788132885, 'min_gain_to_split': 0.7192325225823016, 'bagging_fraction': 0.6568712053574391, 'feature_fraction': 0.5142793781659386, 'importance_type': 'gain'}. Best is trial 40 with value: 0.10158636737234253.\n",
      "[I 2024-08-30 18:59:57,812] Trial 46 finished with value: 0.08005498115028684 and parameters: {'num_leaves': 109, 'max_depth': 5, 'learning_rate': 0.10136137258823712, 'n_estimators': 1280, 'min_child_samples': 54, 'lambda_l1': 30.60822831629674, 'lambda_l2': 70.78572807783239, 'min_gain_to_split': 0.14134816851162046, 'bagging_fraction': 0.5310191452375735, 'feature_fraction': 0.569125811869307, 'importance_type': 'gain'}. Best is trial 40 with value: 0.10158636737234253.\n",
      "[I 2024-08-30 19:00:03,486] Trial 47 finished with value: 0.07896951203780059 and parameters: {'num_leaves': 171, 'max_depth': 7, 'learning_rate': 0.11027450392594998, 'n_estimators': 1097, 'min_child_samples': 47, 'lambda_l1': 19.601386553780344, 'lambda_l2': 99.8688862877057, 'min_gain_to_split': 1.5492929088734186, 'bagging_fraction': 0.5727797196692381, 'feature_fraction': 0.5939950867461589, 'importance_type': 'gain'}. Best is trial 40 with value: 0.10158636737234253.\n",
      "[I 2024-08-30 19:00:06,296] Trial 48 finished with value: 0.07155019098666968 and parameters: {'num_leaves': 187, 'max_depth': 8, 'learning_rate': 0.140013191266759, 'n_estimators': 1509, 'min_child_samples': 66, 'lambda_l1': 80.56107092882695, 'lambda_l2': 84.24164748281476, 'min_gain_to_split': 0.5999140075633221, 'bagging_fraction': 0.682096316438972, 'feature_fraction': 0.4083659354720538, 'importance_type': 'gain'}. Best is trial 40 with value: 0.10158636737234253.\n",
      "[I 2024-08-30 19:00:08,723] Trial 49 finished with value: 0.07605825719309064 and parameters: {'num_leaves': 77, 'max_depth': 6, 'learning_rate': 0.12204814551411923, 'n_estimators': 1236, 'min_child_samples': 32, 'lambda_l1': 24.624795803438015, 'lambda_l2': 93.59702575066103, 'min_gain_to_split': 9.171762914130925, 'bagging_fraction': 0.7474253578428698, 'feature_fraction': 0.4768412117693165, 'importance_type': 'gain'}. Best is trial 40 with value: 0.10158636737234253.\n",
      "[I 2024-08-30 19:00:11,941] Trial 50 finished with value: 0.07404112279946931 and parameters: {'num_leaves': 226, 'max_depth': 5, 'learning_rate': 0.15469556188847575, 'n_estimators': 1365, 'min_child_samples': 55, 'lambda_l1': 49.632043792044946, 'lambda_l2': 74.58461525264485, 'min_gain_to_split': 0.11872577444223173, 'bagging_fraction': 0.4592306791477617, 'feature_fraction': 0.5594257810468612, 'importance_type': 'gain'}. Best is trial 40 with value: 0.10158636737234253.\n",
      "[I 2024-08-30 19:00:22,241] Trial 51 finished with value: 0.09731169053219334 and parameters: {'num_leaves': 205, 'max_depth': 6, 'learning_rate': 0.13437092875667347, 'n_estimators': 1189, 'min_child_samples': 71, 'lambda_l1': 4.555671197092223, 'lambda_l2': 79.58444701296779, 'min_gain_to_split': 0.06414854303779283, 'bagging_fraction': 0.6374108742833606, 'feature_fraction': 0.6064136599151914, 'importance_type': 'split'}. Best is trial 40 with value: 0.10158636737234253.\n",
      "[I 2024-08-30 19:00:27,997] Trial 52 finished with value: 0.09048888563290149 and parameters: {'num_leaves': 139, 'max_depth': 6, 'learning_rate': 0.1448563917556234, 'n_estimators': 1193, 'min_child_samples': 62, 'lambda_l1': 3.841236038548407, 'lambda_l2': 82.08058692375948, 'min_gain_to_split': 0.8345547333485431, 'bagging_fraction': 0.6058496389357056, 'feature_fraction': 0.6228990951876799, 'importance_type': 'gain'}. Best is trial 40 with value: 0.10158636737234253.\n",
      "[I 2024-08-30 19:00:32,491] Trial 53 finished with value: 0.08141427736468405 and parameters: {'num_leaves': 205, 'max_depth': 7, 'learning_rate': 0.13292489028665183, 'n_estimators': 1031, 'min_child_samples': 69, 'lambda_l1': 8.326181987494424, 'lambda_l2': 68.92246579245428, 'min_gain_to_split': 1.9121374444313477, 'bagging_fraction': 0.5668017890082867, 'feature_fraction': 0.7687945120560308, 'importance_type': 'split'}. Best is trial 40 with value: 0.10158636737234253.\n",
      "[I 2024-08-30 19:00:39,115] Trial 54 finished with value: 0.08644154365978132 and parameters: {'num_leaves': 166, 'max_depth': 6, 'learning_rate': 0.11979731684699792, 'n_estimators': 1314, 'min_child_samples': 79, 'lambda_l1': 4.756357813724321, 'lambda_l2': 87.51269624252899, 'min_gain_to_split': 1.2771649875012574, 'bagging_fraction': 0.6269954281293773, 'feature_fraction': 0.5130739242641281, 'importance_type': 'gain'}. Best is trial 40 with value: 0.10158636737234253.\n",
      "[I 2024-08-30 19:00:43,128] Trial 55 finished with value: 0.08715789350537498 and parameters: {'num_leaves': 185, 'max_depth': 8, 'learning_rate': 0.1508295100690093, 'n_estimators': 1191, 'min_child_samples': 46, 'lambda_l1': 0.08068381189329532, 'lambda_l2': 76.68698372756984, 'min_gain_to_split': 3.2115264426594563, 'bagging_fraction': 0.6840873732485085, 'feature_fraction': 0.701767092301216, 'importance_type': 'split'}. Best is trial 40 with value: 0.10158636737234253.\n",
      "[I 2024-08-30 19:00:51,484] Trial 56 finished with value: 0.08662621106893353 and parameters: {'num_leaves': 219, 'max_depth': 5, 'learning_rate': 0.10823100888250864, 'n_estimators': 946, 'min_child_samples': 42, 'lambda_l1': 18.721374023253944, 'lambda_l2': 73.18267840646922, 'min_gain_to_split': 0.059712147332809926, 'bagging_fraction': 0.7822863767626016, 'feature_fraction': 0.43064287350758934, 'importance_type': 'gain'}. Best is trial 40 with value: 0.10158636737234253.\n",
      "[I 2024-08-30 19:00:57,887] Trial 57 finished with value: 0.08259823225702313 and parameters: {'num_leaves': 123, 'max_depth': 9, 'learning_rate': 0.09138510815223164, 'n_estimators': 1076, 'min_child_samples': 61, 'lambda_l1': 10.077280768124858, 'lambda_l2': 93.52177255927684, 'min_gain_to_split': 2.2991854069631574, 'bagging_fraction': 0.6847983064624468, 'feature_fraction': 0.5972738837200914, 'importance_type': 'gain'}. Best is trial 40 with value: 0.10158636737234253.\n",
      "[I 2024-08-30 19:01:02,805] Trial 58 finished with value: 0.08447489888880497 and parameters: {'num_leaves': 156, 'max_depth': 7, 'learning_rate': 0.13950692788184008, 'n_estimators': 760, 'min_child_samples': 66, 'lambda_l1': 12.514165337796456, 'lambda_l2': 79.4163480582083, 'min_gain_to_split': 0.7616248573030212, 'bagging_fraction': 0.7438836195413602, 'feature_fraction': 0.5494650684234021, 'importance_type': 'split'}. Best is trial 40 with value: 0.10158636737234253.\n",
      "[I 2024-08-30 19:01:10,760] Trial 59 finished with value: 0.0936709295073908 and parameters: {'num_leaves': 54, 'max_depth': 6, 'learning_rate': 0.1154607327102503, 'n_estimators': 1576, 'min_child_samples': 94, 'lambda_l1': 4.4079810923345875, 'lambda_l2': 63.34140113551598, 'min_gain_to_split': 0.6013082101368973, 'bagging_fraction': 0.817708434915479, 'feature_fraction': 0.740897598670796, 'importance_type': 'gain'}. Best is trial 40 with value: 0.10158636737234253.\n",
      "[I 2024-08-30 19:01:15,136] Trial 60 finished with value: 0.0826309530711554 and parameters: {'num_leaves': 242, 'max_depth': 5, 'learning_rate': 0.12608596838586053, 'n_estimators': 1422, 'min_child_samples': 50, 'lambda_l1': 16.206023723035457, 'lambda_l2': 85.41373155876784, 'min_gain_to_split': 1.4186250973807364, 'bagging_fraction': 0.5448779088757594, 'feature_fraction': 0.3478996292371004, 'importance_type': 'gain'}. Best is trial 40 with value: 0.10158636737234253.\n",
      "[I 2024-08-30 19:01:23,411] Trial 61 finished with value: 0.08551599481633747 and parameters: {'num_leaves': 197, 'max_depth': 5, 'learning_rate': 0.13490508214046448, 'n_estimators': 1150, 'min_child_samples': 80, 'lambda_l1': 13.485167589130006, 'lambda_l2': 77.43171023661458, 'min_gain_to_split': 0.16538144840848545, 'bagging_fraction': 0.6132099382828009, 'feature_fraction': 0.6336345527279045, 'importance_type': 'split'}. Best is trial 40 with value: 0.10158636737234253.\n",
      "[I 2024-08-30 19:01:33,001] Trial 62 finished with value: 0.0998152880428839 and parameters: {'num_leaves': 219, 'max_depth': 3, 'learning_rate': 0.1564652591196558, 'n_estimators': 889, 'min_child_samples': 70, 'lambda_l1': 3.3982210712878427, 'lambda_l2': 76.50087429533065, 'min_gain_to_split': 0.10305589606245487, 'bagging_fraction': 0.6529900919041427, 'feature_fraction': 0.6425017414385795, 'importance_type': 'split'}. Best is trial 40 with value: 0.10158636737234253.\n",
      "[I 2024-08-30 19:01:36,156] Trial 63 finished with value: 0.07588780909924422 and parameters: {'num_leaves': 229, 'max_depth': 5, 'learning_rate': 0.14800640202651358, 'n_estimators': 1044, 'min_child_samples': 74, 'lambda_l1': 3.9349389103565766, 'lambda_l2': 66.58155941152481, 'min_gain_to_split': 12.20706373413291, 'bagging_fraction': 0.489319197749947, 'feature_fraction': 0.6825201832699607, 'importance_type': 'split'}. Best is trial 40 with value: 0.10158636737234253.\n",
      "[I 2024-08-30 19:01:43,398] Trial 64 finished with value: 0.0885922518697235 and parameters: {'num_leaves': 180, 'max_depth': 6, 'learning_rate': 0.1314345845287348, 'n_estimators': 1991, 'min_child_samples': 56, 'lambda_l1': 8.063228998632866, 'lambda_l2': 72.45739190436906, 'min_gain_to_split': 0.5762479092024473, 'bagging_fraction': 0.643457578597316, 'feature_fraction': 0.6089777241076226, 'importance_type': 'split'}. Best is trial 40 with value: 0.10158636737234253.\n",
      "[I 2024-08-30 19:01:48,566] Trial 65 finished with value: 0.08939838360157921 and parameters: {'num_leaves': 217, 'max_depth': 4, 'learning_rate': 0.15420472578711297, 'n_estimators': 1310, 'min_child_samples': 84, 'lambda_l1': 0.3408108998347483, 'lambda_l2': 81.12883182732381, 'min_gain_to_split': 2.0111893694786183, 'bagging_fraction': 0.6728087196628384, 'feature_fraction': 0.4897090816230879, 'importance_type': 'split'}. Best is trial 40 with value: 0.10158636737234253.\n",
      "[I 2024-08-30 19:01:52,835] Trial 66 finished with value: 0.0844303764270376 and parameters: {'num_leaves': 245, 'max_depth': 6, 'learning_rate': 0.1593941545862758, 'n_estimators': 1241, 'min_child_samples': 44, 'lambda_l1': 11.38763426334876, 'lambda_l2': 85.65588648387515, 'min_gain_to_split': 1.1999197201178828, 'bagging_fraction': 0.7939328409914598, 'feature_fraction': 0.8238589093613715, 'importance_type': 'split'}. Best is trial 40 with value: 0.10158636737234253.\n",
      "[I 2024-08-30 19:02:14,693] Trial 67 finished with value: 0.09928485677564822 and parameters: {'num_leaves': 261, 'max_depth': 7, 'learning_rate': 0.09858932174258994, 'n_estimators': 1793, 'min_child_samples': 52, 'lambda_l1': 3.82309820133369, 'lambda_l2': 89.70329214995836, 'min_gain_to_split': 0.014150552379520787, 'bagging_fraction': 0.7120050865071665, 'feature_fraction': 0.546118466559614, 'importance_type': 'gain'}. Best is trial 40 with value: 0.10158636737234253.\n",
      "[I 2024-08-30 19:02:19,200] Trial 68 finished with value: 0.07696390323144991 and parameters: {'num_leaves': 268, 'max_depth': 7, 'learning_rate': 0.08302825957730389, 'n_estimators': 1623, 'min_child_samples': 69, 'lambda_l1': 34.68434302038705, 'lambda_l2': 90.49780067165207, 'min_gain_to_split': 2.607499852626588, 'bagging_fraction': 0.7134344594126986, 'feature_fraction': 0.5421426765856979, 'importance_type': 'gain'}. Best is trial 40 with value: 0.10158636737234253.\n",
      "[I 2024-08-30 19:02:26,309] Trial 69 finished with value: 0.0891312982004389 and parameters: {'num_leaves': 210, 'max_depth': 8, 'learning_rate': 0.10529288174340644, 'n_estimators': 1871, 'min_child_samples': 40, 'lambda_l1': 2.5900629121431935, 'lambda_l2': 96.13360027348887, 'min_gain_to_split': 1.0684234689456822, 'bagging_fraction': 0.7590529185088317, 'feature_fraction': 0.6433240556589273, 'importance_type': 'split'}. Best is trial 40 with value: 0.10158636737234253.\n",
      "[I 2024-08-30 19:02:31,036] Trial 70 finished with value: 0.08498340030105907 and parameters: {'num_leaves': 172, 'max_depth': 3, 'learning_rate': 0.09988390646600595, 'n_estimators': 1748, 'min_child_samples': 64, 'lambda_l1': 22.539799550710477, 'lambda_l2': 76.46287074595637, 'min_gain_to_split': 0.49585492220647803, 'bagging_fraction': 0.8771536675014157, 'feature_fraction': 0.7128352994742697, 'importance_type': 'gain'}. Best is trial 40 with value: 0.10158636737234253.\n",
      "[I 2024-08-30 19:02:46,123] Trial 71 finished with value: 0.0954694828260895 and parameters: {'num_leaves': 196, 'max_depth': 7, 'learning_rate': 0.11755106448935745, 'n_estimators': 1896, 'min_child_samples': 50, 'lambda_l1': 6.403683894830859, 'lambda_l2': 81.89338258619614, 'min_gain_to_split': 0.03084468536529287, 'bagging_fraction': 0.6366182955454472, 'feature_fraction': 0.5864958364280468, 'importance_type': 'gain'}. Best is trial 40 with value: 0.10158636737234253.\n",
      "[I 2024-08-30 19:02:53,404] Trial 72 finished with value: 0.08858771619723323 and parameters: {'num_leaves': 254, 'max_depth': 6, 'learning_rate': 0.12500504564235865, 'n_estimators': 927, 'min_child_samples': 52, 'lambda_l1': 8.913863189072751, 'lambda_l2': 86.6672531008732, 'min_gain_to_split': 0.45669797561032827, 'bagging_fraction': 0.728252007033715, 'feature_fraction': 0.6244331861030347, 'importance_type': 'gain'}. Best is trial 40 with value: 0.10158636737234253.\n",
      "[I 2024-08-30 19:02:55,642] Trial 73 finished with value: 0.06780588752198259 and parameters: {'num_leaves': 224, 'max_depth': 5, 'learning_rate': 0.14368801858215505, 'n_estimators': 759, 'min_child_samples': 57, 'lambda_l1': 99.51919454996973, 'lambda_l2': 91.13112209643865, 'min_gain_to_split': 1.5311475173994578, 'bagging_fraction': 0.6978139725284163, 'feature_fraction': 0.6564282094275643, 'importance_type': 'gain'}. Best is trial 40 with value: 0.10158636737234253.\n",
      "[I 2024-08-30 19:03:01,300] Trial 74 finished with value: 0.09344937443253472 and parameters: {'num_leaves': 393, 'max_depth': 7, 'learning_rate': 0.1356596421862285, 'n_estimators': 1184, 'min_child_samples': 59, 'lambda_l1': 2.7219550025640995, 'lambda_l2': 75.58943268345321, 'min_gain_to_split': 0.8947758390193066, 'bagging_fraction': 0.5877106682786889, 'feature_fraction': 0.2334397485697453, 'importance_type': 'gain'}. Best is trial 40 with value: 0.10158636737234253.\n",
      "[I 2024-08-30 19:03:10,610] Trial 75 finished with value: 0.08567551514577658 and parameters: {'num_leaves': 153, 'max_depth': 6, 'learning_rate': 0.09413799788059757, 'n_estimators': 1046, 'min_child_samples': 53, 'lambda_l1': 17.2224259533143, 'lambda_l2': 71.469735884807, 'min_gain_to_split': 0.01579735018432949, 'bagging_fraction': 0.6628180796412187, 'feature_fraction': 0.5288163889929549, 'importance_type': 'gain'}. Best is trial 40 with value: 0.10158636737234253.\n",
      "[I 2024-08-30 19:03:14,288] Trial 76 finished with value: 0.08464677495691235 and parameters: {'num_leaves': 198, 'max_depth': 3, 'learning_rate': 0.15686545990293663, 'n_estimators': 618, 'min_child_samples': 49, 'lambda_l1': 11.578616138068522, 'lambda_l2': 67.70893546677922, 'min_gain_to_split': 1.9219605635139922, 'bagging_fraction': 0.6231344688019539, 'feature_fraction': 0.6866847436329139, 'importance_type': 'gain'}. Best is trial 40 with value: 0.10158636737234253.\n",
      "[I 2024-08-30 19:03:18,547] Trial 77 finished with value: 0.08514338653600376 and parameters: {'num_leaves': 212, 'max_depth': 11, 'learning_rate': 0.1120666320279914, 'n_estimators': 1464, 'min_child_samples': 44, 'lambda_l1': 6.397439940954598, 'lambda_l2': 79.89666236195866, 'min_gain_to_split': 3.0965563572172448, 'bagging_fraction': 0.7698189838771281, 'feature_fraction': 0.5755919832156826, 'importance_type': 'gain'}. Best is trial 40 with value: 0.10158636737234253.\n",
      "[I 2024-08-30 19:03:21,439] Trial 78 finished with value: 0.08656491550323016 and parameters: {'num_leaves': 278, 'max_depth': 4, 'learning_rate': 0.1499300280464665, 'n_estimators': 998, 'min_child_samples': 72, 'lambda_l1': 28.04895545586865, 'lambda_l2': 0.022116284560716792, 'min_gain_to_split': 0.40560062555160575, 'bagging_fraction': 0.8188750933554951, 'feature_fraction': 0.7390889121618973, 'importance_type': 'split'}. Best is trial 40 with value: 0.10158636737234253.\n",
      "[I 2024-08-30 19:03:27,011] Trial 79 finished with value: 0.0985130174545361 and parameters: {'num_leaves': 165, 'max_depth': 5, 'learning_rate': 0.17045705844927664, 'n_estimators': 1374, 'min_child_samples': 38, 'lambda_l1': 0.27442807093127275, 'lambda_l2': 83.49308535106252, 'min_gain_to_split': 0.8805599334476584, 'bagging_fraction': 0.9004210899995316, 'feature_fraction': 0.5048898699643641, 'importance_type': 'gain'}. Best is trial 40 with value: 0.10158636737234253.\n",
      "[I 2024-08-30 19:03:32,021] Trial 80 finished with value: 0.09758596944662377 and parameters: {'num_leaves': 164, 'max_depth': 5, 'learning_rate': 0.163674715993705, 'n_estimators': 1747, 'min_child_samples': 36, 'lambda_l1': 2.219609961417019, 'lambda_l2': 83.70697023400916, 'min_gain_to_split': 1.1420285688744227, 'bagging_fraction': 0.8988313361410438, 'feature_fraction': 0.6129345360616143, 'importance_type': 'gain'}. Best is trial 40 with value: 0.10158636737234253.\n",
      "[I 2024-08-30 19:03:37,020] Trial 81 finished with value: 0.09778966480058368 and parameters: {'num_leaves': 166, 'max_depth': 5, 'learning_rate': 0.1723706675654511, 'n_estimators': 1671, 'min_child_samples': 29, 'lambda_l1': 0.40659865167847337, 'lambda_l2': 83.55080465155818, 'min_gain_to_split': 1.1730257602671856, 'bagging_fraction': 0.893093303029284, 'feature_fraction': 0.49903527021468147, 'importance_type': 'gain'}. Best is trial 40 with value: 0.10158636737234253.\n",
      "[I 2024-08-30 19:03:41,814] Trial 82 finished with value: 0.0957739743288263 and parameters: {'num_leaves': 161, 'max_depth': 4, 'learning_rate': 0.17527090821029595, 'n_estimators': 1702, 'min_child_samples': 26, 'lambda_l1': 0.24640021569207962, 'lambda_l2': 83.85331799856884, 'min_gain_to_split': 1.1145310841059899, 'bagging_fraction': 0.9607037091425968, 'feature_fraction': 0.5012942761196709, 'importance_type': 'gain'}. Best is trial 40 with value: 0.10158636737234253.\n",
      "[I 2024-08-30 19:03:46,080] Trial 83 finished with value: 0.09736142541087786 and parameters: {'num_leaves': 143, 'max_depth': 5, 'learning_rate': 0.17114055122694266, 'n_estimators': 1665, 'min_child_samples': 28, 'lambda_l1': 2.676102601026211, 'lambda_l2': 95.4577739087431, 'min_gain_to_split': 1.485719046204842, 'bagging_fraction': 0.9010168777933788, 'feature_fraction': 0.45735090464866185, 'importance_type': 'gain'}. Best is trial 40 with value: 0.10158636737234253.\n",
      "[I 2024-08-30 19:03:49,660] Trial 84 finished with value: 0.09499730300634461 and parameters: {'num_leaves': 141, 'max_depth': 5, 'learning_rate': 0.17306391407535043, 'n_estimators': 1688, 'min_child_samples': 27, 'lambda_l1': 2.3369796800326874, 'lambda_l2': 96.28356499599141, 'min_gain_to_split': 2.4631161420740315, 'bagging_fraction': 0.8572658904916128, 'feature_fraction': 0.4411685862982412, 'importance_type': 'gain'}. Best is trial 40 with value: 0.10158636737234253.\n",
      "[I 2024-08-30 19:03:52,643] Trial 85 finished with value: 0.08793831889477009 and parameters: {'num_leaves': 124, 'max_depth': 4, 'learning_rate': 0.18920585547109242, 'n_estimators': 1762, 'min_child_samples': 36, 'lambda_l1': 8.82498251342809, 'lambda_l2': 88.41431225844619, 'min_gain_to_split': 2.0670729558718204, 'bagging_fraction': 0.892649207814171, 'feature_fraction': 0.4669862882425589, 'importance_type': 'gain'}. Best is trial 40 with value: 0.10158636737234253.\n",
      "[I 2024-08-30 19:03:57,660] Trial 86 finished with value: 0.09492714321465875 and parameters: {'num_leaves': 106, 'max_depth': 5, 'learning_rate': 0.171486705966309, 'n_estimators': 1802, 'min_child_samples': 28, 'lambda_l1': 2.000276472697063, 'lambda_l2': 95.20019952879457, 'min_gain_to_split': 1.583128248764055, 'bagging_fraction': 0.9031217245237478, 'feature_fraction': 0.3978333830189026, 'importance_type': 'gain'}. Best is trial 40 with value: 0.10158636737234253.\n",
      "[I 2024-08-30 19:04:01,285] Trial 87 finished with value: 0.08223378533850098 and parameters: {'num_leaves': 147, 'max_depth': 4, 'learning_rate': 0.1608795995971261, 'n_estimators': 1894, 'min_child_samples': 23, 'lambda_l1': 0.2070032646778346, 'lambda_l2': 90.94019518182297, 'min_gain_to_split': 7.019057180147152, 'bagging_fraction': 0.8450744852317464, 'feature_fraction': 0.5363673300258461, 'importance_type': 'gain'}. Best is trial 40 with value: 0.10158636737234253.\n",
      "[I 2024-08-30 19:04:04,046] Trial 88 finished with value: 0.07519959264639413 and parameters: {'num_leaves': 174, 'max_depth': 5, 'learning_rate': 0.17946948791429948, 'n_estimators': 1639, 'min_child_samples': 34, 'lambda_l1': 57.85880289713684, 'lambda_l2': 83.38515702240598, 'min_gain_to_split': 1.0105750465353802, 'bagging_fraction': 0.9714074051710584, 'feature_fraction': 0.3648895601441448, 'importance_type': 'gain'}. Best is trial 40 with value: 0.10158636737234253.\n",
      "[I 2024-08-30 19:04:08,022] Trial 89 finished with value: 0.08703375973783228 and parameters: {'num_leaves': 162, 'max_depth': 3, 'learning_rate': 0.16810388777235327, 'n_estimators': 1831, 'min_child_samples': 15, 'lambda_l1': 13.959462645918672, 'lambda_l2': 89.49464818348957, 'min_gain_to_split': 1.40413262482815, 'bagging_fraction': 0.9397214186738885, 'feature_fraction': 0.4918274297568876, 'importance_type': 'gain'}. Best is trial 40 with value: 0.10158636737234253.\n",
      "[I 2024-08-30 19:04:12,883] Trial 90 finished with value: 0.09222409549926217 and parameters: {'num_leaves': 374, 'max_depth': 5, 'learning_rate': 0.1911417014384972, 'n_estimators': 1519, 'min_child_samples': 38, 'lambda_l1': 7.040366107274, 'lambda_l2': 98.89238311478175, 'min_gain_to_split': 0.8173073341324802, 'bagging_fraction': 0.9086729525565951, 'feature_fraction': 0.4300035147128762, 'importance_type': 'gain'}. Best is trial 40 with value: 0.10158636737234253.\n",
      "[I 2024-08-30 19:04:18,595] Trial 91 finished with value: 0.09822404942267292 and parameters: {'num_leaves': 182, 'max_depth': 6, 'learning_rate': 0.16502581318306608, 'n_estimators': 1661, 'min_child_samples': 31, 'lambda_l1': 3.7338035723490637, 'lambda_l2': 86.3463246103262, 'min_gain_to_split': 0.5104087752294019, 'bagging_fraction': 0.8831566965270514, 'feature_fraction': 0.5607713169441833, 'importance_type': 'gain'}. Best is trial 40 with value: 0.10158636737234253.\n",
      "[I 2024-08-30 19:04:24,834] Trial 92 finished with value: 0.09914164952346861 and parameters: {'num_leaves': 130, 'max_depth': 4, 'learning_rate': 0.1637389185540361, 'n_estimators': 1668, 'min_child_samples': 33, 'lambda_l1': 2.9227486554597752, 'lambda_l2': 92.50851309507308, 'min_gain_to_split': 0.44785076649715944, 'bagging_fraction': 0.8849451329844015, 'feature_fraction': 0.549095608442756, 'importance_type': 'gain'}. Best is trial 40 with value: 0.10158636737234253.\n",
      "[I 2024-08-30 19:04:29,876] Trial 93 finished with value: 0.09178025898869717 and parameters: {'num_leaves': 179, 'max_depth': 3, 'learning_rate': 0.16302723164243468, 'n_estimators': 1578, 'min_child_samples': 33, 'lambda_l1': 10.084897440996295, 'lambda_l2': 86.29299581774563, 'min_gain_to_split': 0.6375125228754198, 'bagging_fraction': 0.8646493763726762, 'feature_fraction': 0.5521530143763347, 'importance_type': 'gain'}. Best is trial 40 with value: 0.10158636737234253.\n",
      "[I 2024-08-30 19:04:35,952] Trial 94 finished with value: 0.09675827275336797 and parameters: {'num_leaves': 340, 'max_depth': 4, 'learning_rate': 0.15673197321036308, 'n_estimators': 1773, 'min_child_samples': 31, 'lambda_l1': 3.8863064367799467, 'lambda_l2': 82.1950607150382, 'min_gain_to_split': 0.41441512096884653, 'bagging_fraction': 0.9544197906169971, 'feature_fraction': 0.6567466981190194, 'importance_type': 'gain'}. Best is trial 40 with value: 0.10158636737234253.\n",
      "[I 2024-08-30 19:04:40,375] Trial 95 finished with value: 0.09045402044228729 and parameters: {'num_leaves': 126, 'max_depth': 4, 'learning_rate': 0.18032421262054024, 'n_estimators': 1716, 'min_child_samples': 23, 'lambda_l1': 7.569430509367546, 'lambda_l2': 92.57272238805807, 'min_gain_to_split': 1.0065446446805386, 'bagging_fraction': 0.8405552238526248, 'feature_fraction': 0.5169863028439957, 'importance_type': 'gain'}. Best is trial 40 with value: 0.10158636737234253.\n",
      "[I 2024-08-30 19:04:42,465] Trial 96 finished with value: 0.07358017544264608 and parameters: {'num_leaves': 112, 'max_depth': 3, 'learning_rate': 0.16620828045045744, 'n_estimators': 1514, 'min_child_samples': 30, 'lambda_l1': 80.8838221026439, 'lambda_l2': 88.16092679213016, 'min_gain_to_split': 1.7383537009207635, 'bagging_fraction': 0.8783841764146813, 'feature_fraction': 0.5648828105865811, 'importance_type': 'gain'}. Best is trial 40 with value: 0.10158636737234253.\n",
      "[I 2024-08-30 19:04:49,534] Trial 97 finished with value: 0.08911530932630565 and parameters: {'num_leaves': 91, 'max_depth': 4, 'learning_rate': 0.15228683317959313, 'n_estimators': 1627, 'min_child_samples': 5, 'lambda_l1': 3.112854890520547, 'lambda_l2': 85.31707316717709, 'min_gain_to_split': 0.4347696906101426, 'bagging_fraction': 0.37041217109308844, 'feature_fraction': 0.6113847715182726, 'importance_type': 'gain'}. Best is trial 40 with value: 0.10158636737234253.\n",
      "[I 2024-08-30 19:04:53,358] Trial 98 finished with value: 0.09301393615191453 and parameters: {'num_leaves': 316, 'max_depth': 3, 'learning_rate': 0.18553930777548297, 'n_estimators': 1944, 'min_child_samples': 38, 'lambda_l1': 5.389702683777365, 'lambda_l2': 83.65551697347357, 'min_gain_to_split': 1.226610651940266, 'bagging_fraction': 0.9332658335212538, 'feature_fraction': 0.590607904127133, 'importance_type': 'gain'}. Best is trial 40 with value: 0.10158636737234253.\n",
      "[I 2024-08-30 19:04:55,644] Trial 99 finished with value: 0.08518175215952281 and parameters: {'num_leaves': 136, 'max_depth': 6, 'learning_rate': 0.1775705693985227, 'n_estimators': 1814, 'min_child_samples': 40, 'lambda_l1': 10.23946310861604, 'lambda_l2': 74.75645217711183, 'min_gain_to_split': 8.357249939232933, 'bagging_fraction': 0.8060725614485513, 'feature_fraction': 0.4828666334103562, 'importance_type': 'gain'}. Best is trial 40 with value: 0.10158636737234253.\n",
      "[I 2024-08-30 19:05:00,360] Trial 100 finished with value: 0.06967407718126153 and parameters: {'num_leaves': 164, 'max_depth': 5, 'learning_rate': 0.03608315199183093, 'n_estimators': 1381, 'min_child_samples': 18, 'lambda_l1': 72.18978245885282, 'lambda_l2': 78.94889556140424, 'min_gain_to_split': 2.243671049577915, 'bagging_fraction': 0.8901310760003031, 'feature_fraction': 0.5114422834529304, 'importance_type': 'gain'}. Best is trial 40 with value: 0.10158636737234253.\n",
      "[I 2024-08-30 19:05:06,270] Trial 101 finished with value: 0.09713938874294761 and parameters: {'num_leaves': 148, 'max_depth': 5, 'learning_rate': 0.17091077475023705, 'n_estimators': 1711, 'min_child_samples': 30, 'lambda_l1': 1.8360653235089495, 'lambda_l2': 95.16190405853564, 'min_gain_to_split': 0.7752168677383163, 'bagging_fraction': 0.9159981319149328, 'feature_fraction': 0.54838258528209, 'importance_type': 'gain'}. Best is trial 40 with value: 0.10158636737234253.\n",
      "[I 2024-08-30 19:05:13,101] Trial 102 finished with value: 0.09929775900247947 and parameters: {'num_leaves': 182, 'max_depth': 5, 'learning_rate': 0.16362624693053968, 'n_estimators': 1854, 'min_child_samples': 36, 'lambda_l1': 2.5767295049578567, 'lambda_l2': 97.33505932653365, 'min_gain_to_split': 0.4024164820743465, 'bagging_fraction': 0.8502083018088278, 'feature_fraction': 0.4527098042029716, 'importance_type': 'gain'}. Best is trial 40 with value: 0.10158636737234253.\n",
      "[I 2024-08-30 19:05:15,779] Trial 103 finished with value: 0.08490159308438192 and parameters: {'num_leaves': 183, 'max_depth': 5, 'learning_rate': 0.16106662529250934, 'n_estimators': 1855, 'min_child_samples': 35, 'lambda_l1': 6.451961951727787, 'lambda_l2': 97.90773466841472, 'min_gain_to_split': 5.600662805073106, 'bagging_fraction': 0.852395205702882, 'feature_fraction': 0.5805704151239977, 'importance_type': 'gain'}. Best is trial 40 with value: 0.10158636737234253.\n",
      "[I 2024-08-30 19:05:21,711] Trial 104 finished with value: 0.09737866503218771 and parameters: {'num_leaves': 169, 'max_depth': 6, 'learning_rate': 0.1664458412162359, 'n_estimators': 1939, 'min_child_samples': 25, 'lambda_l1': 4.122363281016035, 'lambda_l2': 91.4071087255675, 'min_gain_to_split': 0.32183794911368635, 'bagging_fraction': 0.9735973435276372, 'feature_fraction': 0.5242162559717258, 'importance_type': 'gain'}. Best is trial 40 with value: 0.10158636737234253.\n",
      "[I 2024-08-30 19:05:24,404] Trial 105 finished with value: 0.07799279001147452 and parameters: {'num_leaves': 229, 'max_depth': 4, 'learning_rate': 0.15714332144041862, 'n_estimators': 1778, 'min_child_samples': 46, 'lambda_l1': 42.8444792937028, 'lambda_l2': 89.3169825689804, 'min_gain_to_split': 0.798854087229623, 'bagging_fraction': 0.8299922112176438, 'feature_fraction': 0.41386879711760405, 'importance_type': 'gain'}. Best is trial 40 with value: 0.10158636737234253.\n",
      "[I 2024-08-30 19:05:33,011] Trial 106 finished with value: 0.10135170154571957 and parameters: {'num_leaves': 176, 'max_depth': 5, 'learning_rate': 0.14147878611517922, 'n_estimators': 1461, 'min_child_samples': 42, 'lambda_l1': 0.020083740887651302, 'lambda_l2': 86.89911218159918, 'min_gain_to_split': 0.3339512123132492, 'bagging_fraction': 0.8745426128075499, 'feature_fraction': 0.6438872376451418, 'importance_type': 'gain'}. Best is trial 40 with value: 0.10158636737234253.\n",
      "[I 2024-08-30 19:06:01,831] Trial 107 finished with value: 0.08651756021827292 and parameters: {'num_leaves': 14, 'max_depth': 4, 'learning_rate': 0.016864406554419092, 'n_estimators': 1477, 'min_child_samples': 42, 'lambda_l1': 0.27618170526429164, 'lambda_l2': 93.98949446312187, 'min_gain_to_split': 0.3541047958660915, 'bagging_fraction': 0.7848896649584292, 'feature_fraction': 0.10215277239461806, 'importance_type': 'gain'}. Best is trial 40 with value: 0.10158636737234253.\n",
      "[I 2024-08-30 19:06:04,185] Trial 108 finished with value: 0.08065643311941981 and parameters: {'num_leaves': 201, 'max_depth': 6, 'learning_rate': 0.14696816972224092, 'n_estimators': 222, 'min_child_samples': 39, 'lambda_l1': 8.56080932285155, 'lambda_l2': 82.09765565964913, 'min_gain_to_split': 10.942220700765848, 'bagging_fraction': 0.7380320671672541, 'feature_fraction': 0.6483671844319965, 'importance_type': 'gain'}. Best is trial 40 with value: 0.10158636737234253.\n",
      "[I 2024-08-30 19:06:12,658] Trial 109 finished with value: 0.0896059227473667 and parameters: {'num_leaves': 189, 'max_depth': 6, 'learning_rate': 0.08572906276578898, 'n_estimators': 1339, 'min_child_samples': 47, 'lambda_l1': 12.479711602875769, 'lambda_l2': 86.17662873135623, 'min_gain_to_split': 0.2966693368855788, 'bagging_fraction': 0.8701517096466556, 'feature_fraction': 0.6713541198544826, 'importance_type': 'gain'}. Best is trial 40 with value: 0.10158636737234253.\n",
      "[I 2024-08-30 19:06:21,739] Trial 110 finished with value: 0.09164305976530884 and parameters: {'num_leaves': 234, 'max_depth': 5, 'learning_rate': 0.15041418922284175, 'n_estimators': 1275, 'min_child_samples': 43, 'lambda_l1': 14.986134960409752, 'lambda_l2': 97.74626912392702, 'min_gain_to_split': 0.012635749732193502, 'bagging_fraction': 0.6942510462310624, 'feature_fraction': 0.47296972217844613, 'importance_type': 'gain'}. Best is trial 40 with value: 0.10158636737234253.\n",
      "[I 2024-08-30 19:06:26,563] Trial 111 finished with value: 0.09533155568986286 and parameters: {'num_leaves': 177, 'max_depth': 5, 'learning_rate': 0.1390896394176256, 'n_estimators': 1602, 'min_child_samples': 32, 'lambda_l1': 2.6648175063613477, 'lambda_l2': 47.01379227883136, 'min_gain_to_split': 1.3241099240751604, 'bagging_fraction': 0.889485820843153, 'feature_fraction': 0.6165599894378447, 'importance_type': 'gain'}. Best is trial 40 with value: 0.10158636737234253.\n",
      "[I 2024-08-30 19:06:31,860] Trial 112 finished with value: 0.09396611030358505 and parameters: {'num_leaves': 157, 'max_depth': 5, 'learning_rate': 0.16401653273475944, 'n_estimators': 1656, 'min_child_samples': 35, 'lambda_l1': 5.533517161701373, 'lambda_l2': 87.59056487897013, 'min_gain_to_split': 0.5927885426356222, 'bagging_fraction': 0.9247956821762959, 'feature_fraction': 0.7042825943021753, 'importance_type': 'gain'}. Best is trial 40 with value: 0.10158636737234253.\n",
      "[I 2024-08-30 19:06:37,228] Trial 113 finished with value: 0.09708281079853832 and parameters: {'num_leaves': 183, 'max_depth': 5, 'learning_rate': 0.14183481871399675, 'n_estimators': 1555, 'min_child_samples': 42, 'lambda_l1': 0.011315119863831935, 'lambda_l2': 27.483049094507948, 'min_gain_to_split': 1.012325844074421, 'bagging_fraction': 0.8334265574680364, 'feature_fraction': 0.7269258693938875, 'importance_type': 'gain'}. Best is trial 40 with value: 0.10158636737234253.\n",
      "[I 2024-08-30 19:06:41,138] Trial 114 finished with value: 0.0929934288614027 and parameters: {'num_leaves': 195, 'max_depth': 4, 'learning_rate': 0.1539873034901948, 'n_estimators': 1730, 'min_child_samples': 46, 'lambda_l1': 3.9930605785836217, 'lambda_l2': 77.16295062526753, 'min_gain_to_split': 1.7222864351953109, 'bagging_fraction': 0.9467491766991822, 'feature_fraction': 0.6290536063402857, 'importance_type': 'gain'}. Best is trial 40 with value: 0.10158636737234253.\n",
      "[I 2024-08-30 19:06:47,098] Trial 115 finished with value: 0.0939128291191627 and parameters: {'num_leaves': 172, 'max_depth': 5, 'learning_rate': 0.16915147924503443, 'n_estimators': 1853, 'min_child_samples': 37, 'lambda_l1': 7.321805990635568, 'lambda_l2': 80.59619975119028, 'min_gain_to_split': 0.6643850311935688, 'bagging_fraction': 0.8782171151487156, 'feature_fraction': 0.5889046390312068, 'importance_type': 'gain'}. Best is trial 40 with value: 0.10158636737234253.\n",
      "[I 2024-08-30 19:06:52,340] Trial 116 finished with value: 0.09563456470350516 and parameters: {'num_leaves': 220, 'max_depth': 8, 'learning_rate': 0.14696776965055028, 'n_estimators': 1408, 'min_child_samples': 29, 'lambda_l1': 1.9748415096616267, 'lambda_l2': 92.23503004460507, 'min_gain_to_split': 1.2883012904537257, 'bagging_fraction': 0.9105009585746038, 'feature_fraction': 0.5581531849823337, 'importance_type': 'gain'}. Best is trial 40 with value: 0.10158636737234253.\n",
      "[I 2024-08-30 19:06:57,393] Trial 117 finished with value: 0.09158696908203601 and parameters: {'num_leaves': 209, 'max_depth': 3, 'learning_rate': 0.12920829004149192, 'n_estimators': 1542, 'min_child_samples': 33, 'lambda_l1': 9.916531207899537, 'lambda_l2': 83.9759842883575, 'min_gain_to_split': 0.4454273081876689, 'bagging_fraction': 0.9881619379669832, 'feature_fraction': 0.501913296413512, 'importance_type': 'gain'}. Best is trial 40 with value: 0.10158636737234253.\n",
      "[I 2024-08-30 19:07:02,723] Trial 118 finished with value: 0.09208935584876492 and parameters: {'num_leaves': 248, 'max_depth': 7, 'learning_rate': 0.15791591832139368, 'n_estimators': 1684, 'min_child_samples': 41, 'lambda_l1': 4.97097976795061, 'lambda_l2': 72.9144618748437, 'min_gain_to_split': 0.8603569450915909, 'bagging_fraction': 0.7709482531850206, 'feature_fraction': 0.5350541845074841, 'importance_type': 'gain'}. Best is trial 40 with value: 0.10158636737234253.\n",
      "[I 2024-08-30 19:07:05,536] Trial 119 finished with value: 0.08316466036013496 and parameters: {'num_leaves': 134, 'max_depth': 6, 'learning_rate': 0.0959111011374438, 'n_estimators': 1450, 'min_child_samples': 44, 'lambda_l1': 1.7914878691838907, 'lambda_l2': 89.88363368564795, 'min_gain_to_split': 14.331585991613194, 'bagging_fraction': 0.8139508002074342, 'feature_fraction': 0.7863380210412219, 'importance_type': 'gain'}. Best is trial 40 with value: 0.10158636737234253.\n",
      "[I 2024-08-30 19:07:14,047] Trial 120 finished with value: 0.09476116077613947 and parameters: {'num_leaves': 151, 'max_depth': 5, 'learning_rate': 0.10357777197198047, 'n_estimators': 1598, 'min_child_samples': 54, 'lambda_l1': 7.0081238490109135, 'lambda_l2': 87.18233561632701, 'min_gain_to_split': 0.32379198996357805, 'bagging_fraction': 0.8638026634406559, 'feature_fraction': 0.690263620718373, 'importance_type': 'gain'}. Best is trial 40 with value: 0.10158636737234253.\n",
      "[I 2024-08-30 19:07:29,320] Trial 121 finished with value: 0.10676756483116931 and parameters: {'num_leaves': 169, 'max_depth': 6, 'learning_rate': 0.16425928318076294, 'n_estimators': 1945, 'min_child_samples': 24, 'lambda_l1': 3.868430795025683, 'lambda_l2': 91.5834505530295, 'min_gain_to_split': 0.014830089377118064, 'bagging_fraction': 0.970363185701036, 'feature_fraction': 0.5228547581397347, 'importance_type': 'gain'}. Best is trial 121 with value: 0.10676756483116931.\n",
      "[I 2024-08-30 19:07:37,790] Trial 122 finished with value: 0.10166925635989303 and parameters: {'num_leaves': 168, 'max_depth': 6, 'learning_rate': 0.16161586571530723, 'n_estimators': 1977, 'min_child_samples': 25, 'lambda_l1': 4.767441223218484, 'lambda_l2': 78.85966079403698, 'min_gain_to_split': 0.30042562628786945, 'bagging_fraction': 0.9434749125320767, 'feature_fraction': 0.4435630082897668, 'importance_type': 'gain'}. Best is trial 121 with value: 0.10676756483116931.\n",
      "[I 2024-08-30 19:07:49,043] Trial 123 finished with value: 0.10247799487262617 and parameters: {'num_leaves': 190, 'max_depth': 7, 'learning_rate': 0.1743742460145882, 'n_estimators': 1917, 'min_child_samples': 21, 'lambda_l1': 4.278966653115128, 'lambda_l2': 78.67863223904374, 'min_gain_to_split': 0.06793579101856309, 'bagging_fraction': 0.9620196933344399, 'feature_fraction': 0.4467886924124123, 'importance_type': 'gain'}. Best is trial 121 with value: 0.10676756483116931.\n",
      "[I 2024-08-30 19:08:00,848] Trial 124 finished with value: 0.10295345966764699 and parameters: {'num_leaves': 191, 'max_depth': 7, 'learning_rate': 0.17538046484675995, 'n_estimators': 1993, 'min_child_samples': 20, 'lambda_l1': 4.099297366535322, 'lambda_l2': 78.69415040339368, 'min_gain_to_split': 0.05299453944349815, 'bagging_fraction': 0.9619286243116919, 'feature_fraction': 0.444521443459991, 'importance_type': 'gain'}. Best is trial 121 with value: 0.10676756483116931.\n",
      "[I 2024-08-30 19:08:15,549] Trial 125 finished with value: 0.09717622859592243 and parameters: {'num_leaves': 194, 'max_depth': 7, 'learning_rate': 0.0721616389020684, 'n_estimators': 2000, 'min_child_samples': 18, 'lambda_l1': 8.487122631488523, 'lambda_l2': 74.90497714439417, 'min_gain_to_split': 0.03885416217393281, 'bagging_fraction': 0.9608809473052373, 'feature_fraction': 0.44646528531811797, 'importance_type': 'gain'}. Best is trial 121 with value: 0.10676756483116931.\n",
      "[I 2024-08-30 19:08:19,833] Trial 126 finished with value: 0.08871964767833775 and parameters: {'num_leaves': 216, 'max_depth': 7, 'learning_rate': 0.1757902436000468, 'n_estimators': 1927, 'min_child_samples': 20, 'lambda_l1': 12.047619124610343, 'lambda_l2': 70.16145634968366, 'min_gain_to_split': 0.2970453079070126, 'bagging_fraction': 0.9479399739774689, 'feature_fraction': 0.379576686281637, 'importance_type': 'gain'}. Best is trial 121 with value: 0.10676756483116931.\n",
      "[I 2024-08-30 19:08:24,187] Trial 127 finished with value: 0.09208797661516437 and parameters: {'num_leaves': 202, 'max_depth': 7, 'learning_rate': 0.16195175379665563, 'n_estimators': 1898, 'min_child_samples': 14, 'lambda_l1': 5.411904511532738, 'lambda_l2': 77.11373894979717, 'min_gain_to_split': 0.7057480148822942, 'bagging_fraction': 0.9891607568898289, 'feature_fraction': 0.4608479746657265, 'importance_type': 'gain'}. Best is trial 121 with value: 0.10676756483116931.\n",
      "[I 2024-08-30 19:08:29,439] Trial 128 finished with value: 0.09465212461134194 and parameters: {'num_leaves': 190, 'max_depth': 7, 'learning_rate': 0.18316792329441195, 'n_estimators': 1966, 'min_child_samples': 24, 'lambda_l1': 10.076944689043406, 'lambda_l2': 78.92773985846112, 'min_gain_to_split': 0.27284380137826675, 'bagging_fraction': 0.9693957636234487, 'feature_fraction': 0.3107800591702527, 'importance_type': 'split'}. Best is trial 121 with value: 0.10676756483116931.\n",
      "[I 2024-08-30 19:08:40,112] Trial 129 finished with value: 0.10302363002086246 and parameters: {'num_leaves': 175, 'max_depth': 7, 'learning_rate': 0.1528290865317143, 'n_estimators': 1969, 'min_child_samples': 22, 'lambda_l1': 4.037312837554889, 'lambda_l2': 73.60489312684003, 'min_gain_to_split': 0.04162365060560398, 'bagging_fraction': 0.9369838471314109, 'feature_fraction': 0.42401663595542577, 'importance_type': 'gain'}. Best is trial 121 with value: 0.10676756483116931.\n",
      "[I 2024-08-30 19:08:45,837] Trial 130 finished with value: 0.09419027955818562 and parameters: {'num_leaves': 263, 'max_depth': 8, 'learning_rate': 0.1538736652589235, 'n_estimators': 1922, 'min_child_samples': 20, 'lambda_l1': 6.743920379423775, 'lambda_l2': 39.00052191781831, 'min_gain_to_split': 0.22677926080542316, 'bagging_fraction': 0.9391848094018772, 'feature_fraction': 0.42634910968860906, 'importance_type': 'gain'}. Best is trial 121 with value: 0.10676756483116931.\n",
      "[I 2024-08-30 19:08:55,351] Trial 131 finished with value: 0.10064251481959305 and parameters: {'num_leaves': 176, 'max_depth': 7, 'learning_rate': 0.15921712821388614, 'n_estimators': 1970, 'min_child_samples': 21, 'lambda_l1': 4.098225248016204, 'lambda_l2': 71.87328015145529, 'min_gain_to_split': 0.06023380486009197, 'bagging_fraction': 0.9295372392666376, 'feature_fraction': 0.4026061502935699, 'importance_type': 'gain'}. Best is trial 121 with value: 0.10676756483116931.\n",
      "[I 2024-08-30 19:09:10,694] Trial 132 finished with value: 0.10137821054491296 and parameters: {'num_leaves': 175, 'max_depth': 7, 'learning_rate': 0.1468741415885889, 'n_estimators': 1965, 'min_child_samples': 22, 'lambda_l1': 4.467741960236074, 'lambda_l2': 64.98648814336049, 'min_gain_to_split': 0.004967701674861727, 'bagging_fraction': 0.9263822425993647, 'feature_fraction': 0.3896828523431138, 'importance_type': 'gain'}. Best is trial 121 with value: 0.10676756483116931.\n",
      "[I 2024-08-30 19:09:21,360] Trial 133 finished with value: 0.09602981903242029 and parameters: {'num_leaves': 185, 'max_depth': 8, 'learning_rate': 0.13655353568565465, 'n_estimators': 1973, 'min_child_samples': 21, 'lambda_l1': 4.689557514543652, 'lambda_l2': 60.64762600783787, 'min_gain_to_split': 0.029024347528572997, 'bagging_fraction': 0.9622708175887809, 'feature_fraction': 0.3451235535309076, 'importance_type': 'gain'}. Best is trial 121 with value: 0.10676756483116931.\n",
      "[I 2024-08-30 19:09:26,171] Trial 134 finished with value: 0.09155043364001511 and parameters: {'num_leaves': 174, 'max_depth': 7, 'learning_rate': 0.14462165148477885, 'n_estimators': 1995, 'min_child_samples': 16, 'lambda_l1': 8.245743536123106, 'lambda_l2': 67.06773446725532, 'min_gain_to_split': 0.660271978671183, 'bagging_fraction': 0.929649603073548, 'feature_fraction': 0.37619121239672815, 'importance_type': 'gain'}. Best is trial 121 with value: 0.10676756483116931.\n",
      "[I 2024-08-30 19:09:31,377] Trial 135 finished with value: 0.09133963951206706 and parameters: {'num_leaves': 177, 'max_depth': 7, 'learning_rate': 0.15096745404288434, 'n_estimators': 1893, 'min_child_samples': 17, 'lambda_l1': 11.473156900015853, 'lambda_l2': 73.68052512891818, 'min_gain_to_split': 0.19612095436735688, 'bagging_fraction': 0.9476016753905736, 'feature_fraction': 0.39437516495139263, 'importance_type': 'gain'}. Best is trial 121 with value: 0.10676756483116931.\n",
      "[I 2024-08-30 19:09:43,901] Trial 136 finished with value: 0.10507599065097854 and parameters: {'num_leaves': 207, 'max_depth': 7, 'learning_rate': 0.15858089772671144, 'n_estimators': 1946, 'min_child_samples': 11, 'lambda_l1': 4.005149722702275, 'lambda_l2': 64.66097884833462, 'min_gain_to_split': 0.011078415243156226, 'bagging_fraction': 0.9243282347826792, 'feature_fraction': 0.41712381955132544, 'importance_type': 'gain'}. Best is trial 121 with value: 0.10676756483116931.\n",
      "[I 2024-08-30 19:09:59,382] Trial 137 finished with value: 0.09988777536464828 and parameters: {'num_leaves': 156, 'max_depth': 8, 'learning_rate': 0.15930725686105698, 'n_estimators': 1947, 'min_child_samples': 14, 'lambda_l1': 6.94868718035087, 'lambda_l2': 64.44402245308753, 'min_gain_to_split': 0.0009299065239220111, 'bagging_fraction': 0.9225111547211837, 'feature_fraction': 0.41349545716102887, 'importance_type': 'gain'}. Best is trial 121 with value: 0.10676756483116931.\n",
      "[I 2024-08-30 19:10:09,130] Trial 138 finished with value: 0.1042103193343404 and parameters: {'num_leaves': 160, 'max_depth': 8, 'learning_rate': 0.15907727284893763, 'n_estimators': 1961, 'min_child_samples': 9, 'lambda_l1': 6.167952107207379, 'lambda_l2': 64.67871159556006, 'min_gain_to_split': 0.023475186384902536, 'bagging_fraction': 0.9774887601926092, 'feature_fraction': 0.4226873783724287, 'importance_type': 'split'}. Best is trial 121 with value: 0.10676756483116931.\n",
      "[I 2024-08-30 19:10:13,076] Trial 139 finished with value: 0.08900999905481413 and parameters: {'num_leaves': 153, 'max_depth': 8, 'learning_rate': 0.1591784696700561, 'n_estimators': 1959, 'min_child_samples': 10, 'lambda_l1': 14.366969562010663, 'lambda_l2': 65.09203918275962, 'min_gain_to_split': 0.6194496187819657, 'bagging_fraction': 0.9664476855995268, 'feature_fraction': 0.4134807472202002, 'importance_type': 'split'}. Best is trial 121 with value: 0.10676756483116931.\n",
      "[I 2024-08-30 19:10:19,639] Trial 140 finished with value: 0.09392027828151589 and parameters: {'num_leaves': 204, 'max_depth': 9, 'learning_rate': 0.1491163823376136, 'n_estimators': 1906, 'min_child_samples': 12, 'lambda_l1': 8.963974936913864, 'lambda_l2': 65.47107473389259, 'min_gain_to_split': 0.06037328191702599, 'bagging_fraction': 0.9864315441217895, 'feature_fraction': 0.41665681842357866, 'importance_type': 'split'}. Best is trial 121 with value: 0.10676756483116931.\n",
      "[I 2024-08-30 19:10:24,199] Trial 141 finished with value: 0.09466584582408899 and parameters: {'num_leaves': 157, 'max_depth': 8, 'learning_rate': 0.15636798516016837, 'n_estimators': 1942, 'min_child_samples': 6, 'lambda_l1': 5.565540608599762, 'lambda_l2': 54.451638192857075, 'min_gain_to_split': 0.9231316699195712, 'bagging_fraction': 0.9202291100342515, 'feature_fraction': 0.34409955906422707, 'importance_type': 'split'}. Best is trial 121 with value: 0.10676756483116931.\n",
      "[I 2024-08-30 19:10:29,907] Trial 142 finished with value: 0.09606667383721543 and parameters: {'num_leaves': 172, 'max_depth': 7, 'learning_rate': 0.14217878809147066, 'n_estimators': 1963, 'min_child_samples': 13, 'lambda_l1': 6.976539593103626, 'lambda_l2': 61.76848445658383, 'min_gain_to_split': 0.3065601571456871, 'bagging_fraction': 0.9390933973714417, 'feature_fraction': 0.35960475107724255, 'importance_type': 'split'}. Best is trial 121 with value: 0.10676756483116931.\n",
      "[I 2024-08-30 19:10:39,756] Trial 143 finished with value: 0.10082957800155509 and parameters: {'num_leaves': 190, 'max_depth': 9, 'learning_rate': 0.15349878464003297, 'n_estimators': 1997, 'min_child_samples': 9, 'lambda_l1': 4.134585745122289, 'lambda_l2': 57.085236591890705, 'min_gain_to_split': 0.03784930970614045, 'bagging_fraction': 0.9567301745611215, 'feature_fraction': 0.4089944785998157, 'importance_type': 'split'}. Best is trial 121 with value: 0.10676756483116931.\n",
      "[I 2024-08-30 19:10:53,431] Trial 144 finished with value: 0.10122528493560981 and parameters: {'num_leaves': 193, 'max_depth': 8, 'learning_rate': 0.15303808471204816, 'n_estimators': 1862, 'min_child_samples': 10, 'lambda_l1': 4.065383690378143, 'lambda_l2': 56.67693990359321, 'min_gain_to_split': 0.004915357055431349, 'bagging_fraction': 0.9574029494229401, 'feature_fraction': 0.3941863885634417, 'importance_type': 'split'}. Best is trial 121 with value: 0.10676756483116931.\n",
      "[I 2024-08-30 19:11:00,092] Trial 145 finished with value: 0.09425568907054035 and parameters: {'num_leaves': 214, 'max_depth': 9, 'learning_rate': 0.15410289908672775, 'n_estimators': 1873, 'min_child_samples': 12, 'lambda_l1': 11.091936723806484, 'lambda_l2': 58.49025632167122, 'min_gain_to_split': 0.01125209625539108, 'bagging_fraction': 0.9703263862011751, 'feature_fraction': 0.43507022306041804, 'importance_type': 'split'}. Best is trial 121 with value: 0.10676756483116931.\n",
      "[I 2024-08-30 19:11:05,184] Trial 146 finished with value: 0.09768029243844709 and parameters: {'num_leaves': 195, 'max_depth': 9, 'learning_rate': 0.15978386140071754, 'n_estimators': 1989, 'min_child_samples': 7, 'lambda_l1': 3.9834777034226168, 'lambda_l2': 50.624188205254455, 'min_gain_to_split': 0.5082610602448873, 'bagging_fraction': 0.9538967634678415, 'feature_fraction': 0.39320706701082014, 'importance_type': 'split'}. Best is trial 121 with value: 0.10676756483116931.\n",
      "[I 2024-08-30 19:11:15,522] Trial 147 finished with value: 0.10164316712474313 and parameters: {'num_leaves': 189, 'max_depth': 8, 'learning_rate': 0.1475220050385871, 'n_estimators': 1829, 'min_child_samples': 8, 'lambda_l1': 6.537076763920462, 'lambda_l2': 55.932704938545335, 'min_gain_to_split': 0.00678965438837929, 'bagging_fraction': 0.9338434992341552, 'feature_fraction': 0.3738357802485256, 'importance_type': 'split'}. Best is trial 121 with value: 0.10676756483116931.\n",
      "[I 2024-08-30 19:11:25,563] Trial 148 finished with value: 0.09841038522984699 and parameters: {'num_leaves': 189, 'max_depth': 8, 'learning_rate': 0.14879520356347525, 'n_estimators': 1920, 'min_child_samples': 8, 'lambda_l1': 6.908260523549032, 'lambda_l2': 55.776051911409, 'min_gain_to_split': 0.014881975818190354, 'bagging_fraction': 0.9252270858877303, 'feature_fraction': 0.2892647138115976, 'importance_type': 'split'}. Best is trial 121 with value: 0.10676756483116931.\n",
      "[I 2024-08-30 19:11:29,365] Trial 149 finished with value: 0.09575362371971105 and parameters: {'num_leaves': 159, 'max_depth': 8, 'learning_rate': 0.15237015634584106, 'n_estimators': 1846, 'min_child_samples': 8, 'lambda_l1': 9.092606943975174, 'lambda_l2': 59.559293679229256, 'min_gain_to_split': 0.8942257229770292, 'bagging_fraction': 0.9789274138003927, 'feature_fraction': 0.373274819829267, 'importance_type': 'split'}. Best is trial 121 with value: 0.10676756483116931.\n",
      "[I 2024-08-30 19:11:35,281] Trial 150 finished with value: 0.09805400410583966 and parameters: {'num_leaves': 207, 'max_depth': 8, 'learning_rate': 0.14610153110583693, 'n_estimators': 1997, 'min_child_samples': 11, 'lambda_l1': 1.8624068661340267, 'lambda_l2': 56.201036083969065, 'min_gain_to_split': 0.6301857492789722, 'bagging_fraction': 0.9527183892672326, 'feature_fraction': 0.3162898761800422, 'importance_type': 'split'}. Best is trial 121 with value: 0.10676756483116931.\n",
      "[I 2024-08-30 19:11:40,992] Trial 151 finished with value: 0.09338772199614712 and parameters: {'num_leaves': 199, 'max_depth': 10, 'learning_rate': 0.15756004901752027, 'n_estimators': 1945, 'min_child_samples': 15, 'lambda_l1': 5.297782252267757, 'lambda_l2': 63.60275801098278, 'min_gain_to_split': 0.34103004491080885, 'bagging_fraction': 0.9323692756093019, 'feature_fraction': 0.40019510986778184, 'importance_type': 'split'}. Best is trial 121 with value: 0.10676756483116931.\n",
      "[I 2024-08-30 19:11:46,835] Trial 152 finished with value: 0.10078287330332732 and parameters: {'num_leaves': 169, 'max_depth': 7, 'learning_rate': 0.15503468664099335, 'n_estimators': 1820, 'min_child_samples': 9, 'lambda_l1': 3.7256208527699, 'lambda_l2': 52.287712360003034, 'min_gain_to_split': 0.3151098034323235, 'bagging_fraction': 0.9581220583748647, 'feature_fraction': 0.42595868157486183, 'importance_type': 'split'}. Best is trial 121 with value: 0.10676756483116931.\n",
      "[I 2024-08-30 19:11:49,902] Trial 153 finished with value: 0.07076634963487158 and parameters: {'num_leaves': 168, 'max_depth': 7, 'learning_rate': 0.16808390137336715, 'n_estimators': 1823, 'min_child_samples': 9, 'lambda_l1': 87.90247137056217, 'lambda_l2': 52.52481252656258, 'min_gain_to_split': 0.013547812690736476, 'bagging_fraction': 0.9142494304410415, 'feature_fraction': 0.4360268629867691, 'importance_type': 'split'}. Best is trial 121 with value: 0.10676756483116931.\n",
      "[I 2024-08-30 19:11:54,509] Trial 154 finished with value: 0.09528834671620963 and parameters: {'num_leaves': 177, 'max_depth': 8, 'learning_rate': 0.15276894706374228, 'n_estimators': 1882, 'min_child_samples': 10, 'lambda_l1': 6.350831629227466, 'lambda_l2': 48.44856279242131, 'min_gain_to_split': 0.5892372457638209, 'bagging_fraction': 0.9721715702274775, 'feature_fraction': 0.4153442348033346, 'importance_type': 'split'}. Best is trial 121 with value: 0.10676756483116931.\n",
      "[I 2024-08-30 19:11:59,055] Trial 155 finished with value: 0.09362672341831561 and parameters: {'num_leaves': 144, 'max_depth': 7, 'learning_rate': 0.16059703456531566, 'n_estimators': 1915, 'min_child_samples': 5, 'lambda_l1': 3.8345396080494742, 'lambda_l2': 58.37955751796935, 'min_gain_to_split': 1.0123350644764315, 'bagging_fraction': 0.9427042769037723, 'feature_fraction': 0.38912357780103146, 'importance_type': 'split'}. Best is trial 121 with value: 0.10676756483116931.\n",
      "[I 2024-08-30 19:12:03,782] Trial 156 finished with value: 0.08974324850804352 and parameters: {'num_leaves': 164, 'max_depth': 7, 'learning_rate': 0.14788199676690775, 'n_estimators': 1955, 'min_child_samples': 22, 'lambda_l1': 8.26381213647388, 'lambda_l2': 56.80467026402068, 'min_gain_to_split': 0.348428331179919, 'bagging_fraction': 0.989815890487679, 'feature_fraction': 0.44977510598700826, 'importance_type': 'split'}. Best is trial 121 with value: 0.10676756483116931.\n",
      "[I 2024-08-30 19:12:09,687] Trial 157 finished with value: 0.09540953332081956 and parameters: {'num_leaves': 189, 'max_depth': 9, 'learning_rate': 0.1404888376395218, 'n_estimators': 1812, 'min_child_samples': 19, 'lambda_l1': 1.2120840227584986, 'lambda_l2': 69.34389177717215, 'min_gain_to_split': 0.7081684363802703, 'bagging_fraction': 0.9516251610959341, 'feature_fraction': 0.35278691149261227, 'importance_type': 'split'}. Best is trial 121 with value: 0.10676756483116931.\n",
      "[I 2024-08-30 19:12:14,336] Trial 158 finished with value: 0.09117405369317877 and parameters: {'num_leaves': 179, 'max_depth': 8, 'learning_rate': 0.16715658544962314, 'n_estimators': 1874, 'min_child_samples': 14, 'lambda_l1': 12.998154305269834, 'lambda_l2': 63.14419707952489, 'min_gain_to_split': 0.31871955860041756, 'bagging_fraction': 0.9068134827708374, 'feature_fraction': 0.2645041714398667, 'importance_type': 'split'}. Best is trial 121 with value: 0.10676756483116931.\n",
      "[I 2024-08-30 19:12:18,582] Trial 159 finished with value: 0.09633807266494049 and parameters: {'num_leaves': 168, 'max_depth': 7, 'learning_rate': 0.1728744878270132, 'n_estimators': 1927, 'min_child_samples': 16, 'lambda_l1': 3.032047947187791, 'lambda_l2': 71.4105475743814, 'min_gain_to_split': 1.1636933611332287, 'bagging_fraction': 0.9268090557184282, 'feature_fraction': 0.4088749971561289, 'importance_type': 'split'}. Best is trial 121 with value: 0.10676756483116931.\n",
      "[I 2024-08-30 19:12:29,035] Trial 160 finished with value: 0.1020960800033176 and parameters: {'num_leaves': 159, 'max_depth': 8, 'learning_rate': 0.15650190915531959, 'n_estimators': 1996, 'min_child_samples': 24, 'lambda_l1': 5.900653292360386, 'lambda_l2': 52.40451557837047, 'min_gain_to_split': 0.0023326069632986918, 'bagging_fraction': 0.9634789935435704, 'feature_fraction': 0.3273636785828786, 'importance_type': 'split'}. Best is trial 121 with value: 0.10676756483116931.\n",
      "[I 2024-08-30 19:12:34,215] Trial 161 finished with value: 0.09921777831519163 and parameters: {'num_leaves': 159, 'max_depth': 8, 'learning_rate': 0.1543972336622455, 'n_estimators': 1999, 'min_child_samples': 26, 'lambda_l1': 6.635817387887791, 'lambda_l2': 51.48289317125294, 'min_gain_to_split': 0.3400898028624224, 'bagging_fraction': 0.9653252578584103, 'feature_fraction': 0.33438191850826016, 'importance_type': 'split'}. Best is trial 121 with value: 0.10676756483116931.\n",
      "[I 2024-08-30 19:12:39,157] Trial 162 finished with value: 0.09648070936844892 and parameters: {'num_leaves': 149, 'max_depth': 8, 'learning_rate': 0.16067220076091196, 'n_estimators': 1966, 'min_child_samples': 24, 'lambda_l1': 4.735561092508081, 'lambda_l2': 53.4013631472151, 'min_gain_to_split': 0.5696537873715549, 'bagging_fraction': 0.9364104394733468, 'feature_fraction': 0.36898181077810976, 'importance_type': 'split'}. Best is trial 121 with value: 0.10676756483116931.\n",
      "[I 2024-08-30 19:12:48,238] Trial 163 finished with value: 0.10252632250347397 and parameters: {'num_leaves': 173, 'max_depth': 7, 'learning_rate': 0.15011320405443745, 'n_estimators': 1900, 'min_child_samples': 21, 'lambda_l1': 0.09053967913187844, 'lambda_l2': 61.62692941084091, 'min_gain_to_split': 0.21721070806355114, 'bagging_fraction': 0.9677490810139939, 'feature_fraction': 0.4251443224645375, 'importance_type': 'split'}. Best is trial 121 with value: 0.10676756483116931.\n",
      "[I 2024-08-30 19:13:03,409] Trial 164 finished with value: 0.10289656975570502 and parameters: {'num_leaves': 188, 'max_depth': 7, 'learning_rate': 0.14597104464813915, 'n_estimators': 1837, 'min_child_samples': 20, 'lambda_l1': 0.15267124600407733, 'lambda_l2': 47.04660879418948, 'min_gain_to_split': 0.009536937712815441, 'bagging_fraction': 0.9594797855414908, 'feature_fraction': 0.4304642641050264, 'importance_type': 'split'}. Best is trial 121 with value: 0.10676756483116931.\n",
      "[I 2024-08-30 19:13:08,530] Trial 165 finished with value: 0.09599326339714541 and parameters: {'num_leaves': 189, 'max_depth': 7, 'learning_rate': 0.14413472501796146, 'n_estimators': 1834, 'min_child_samples': 22, 'lambda_l1': 1.0006301630885006, 'lambda_l2': 45.23768014277323, 'min_gain_to_split': 0.8319490865489869, 'bagging_fraction': 0.9745496195814036, 'feature_fraction': 0.4741570770992542, 'importance_type': 'split'}. Best is trial 121 with value: 0.10676756483116931.\n",
      "[I 2024-08-30 19:13:15,249] Trial 166 finished with value: 0.09943065448188174 and parameters: {'num_leaves': 199, 'max_depth': 7, 'learning_rate': 0.13784043854199543, 'n_estimators': 1888, 'min_child_samples': 19, 'lambda_l1': 2.0040656048880976, 'lambda_l2': 48.65567258666422, 'min_gain_to_split': 0.40878710117802186, 'bagging_fraction': 0.9569606030285892, 'feature_fraction': 0.4335572504761034, 'importance_type': 'split'}. Best is trial 121 with value: 0.10676756483116931.\n",
      "[I 2024-08-30 19:13:37,661] Trial 167 finished with value: 0.10206009757219073 and parameters: {'num_leaves': 170, 'max_depth': 7, 'learning_rate': 0.1496842601307288, 'n_estimators': 1867, 'min_child_samples': 9, 'lambda_l1': 0.8024959315081075, 'lambda_l2': 60.85056256866159, 'min_gain_to_split': 0.0020141752933320366, 'bagging_fraction': 0.9578090629379412, 'feature_fraction': 0.3135501298327671, 'importance_type': 'split'}. Best is trial 121 with value: 0.10676756483116931.\n",
      "[I 2024-08-30 19:13:43,587] Trial 168 finished with value: 0.1035688613999836 and parameters: {'num_leaves': 186, 'max_depth': 7, 'learning_rate': 0.1485216777631071, 'n_estimators': 1909, 'min_child_samples': 25, 'lambda_l1': 0.30006101973888377, 'lambda_l2': 61.29555873622127, 'min_gain_to_split': 0.6403635224198853, 'bagging_fraction': 0.9887715884500772, 'feature_fraction': 0.2702400274670236, 'importance_type': 'split'}. Best is trial 121 with value: 0.10676756483116931.\n",
      "[I 2024-08-30 19:13:49,705] Trial 169 finished with value: 0.10584215935625148 and parameters: {'num_leaves': 177, 'max_depth': 7, 'learning_rate': 0.14891119454664736, 'n_estimators': 1872, 'min_child_samples': 26, 'lambda_l1': 0.23921970681624138, 'lambda_l2': 61.04652921734596, 'min_gain_to_split': 0.6359188577499654, 'bagging_fraction': 0.9817006165859173, 'feature_fraction': 0.218416450373048, 'importance_type': 'split'}. Best is trial 121 with value: 0.10676756483116931.\n",
      "[I 2024-08-30 19:13:55,071] Trial 170 finished with value: 0.09245071433198951 and parameters: {'num_leaves': 183, 'max_depth': 7, 'learning_rate': 0.146965454687981, 'n_estimators': 1790, 'min_child_samples': 23, 'lambda_l1': 0.49017208356380537, 'lambda_l2': 60.56703921626616, 'min_gain_to_split': 0.9860016685845733, 'bagging_fraction': 0.9861146887648138, 'feature_fraction': 0.2806879081987029, 'importance_type': 'split'}. Best is trial 121 with value: 0.10676756483116931.\n",
      "[I 2024-08-30 19:14:01,056] Trial 171 finished with value: 0.10337755895188541 and parameters: {'num_leaves': 174, 'max_depth': 7, 'learning_rate': 0.14943367464441995, 'n_estimators': 1866, 'min_child_samples': 26, 'lambda_l1': 0.5018491125376433, 'lambda_l2': 61.8125716001, 'min_gain_to_split': 0.6060516236788012, 'bagging_fraction': 0.9893698991155161, 'feature_fraction': 0.21400496954068587, 'importance_type': 'split'}. Best is trial 121 with value: 0.10676756483116931.\n",
      "[I 2024-08-30 19:14:08,262] Trial 172 finished with value: 0.09805304950457247 and parameters: {'num_leaves': 173, 'max_depth': 7, 'learning_rate': 0.14384414177065563, 'n_estimators': 1912, 'min_child_samples': 26, 'lambda_l1': 0.03602740044589581, 'lambda_l2': 62.704253782762365, 'min_gain_to_split': 0.6762056904714029, 'bagging_fraction': 0.9881842371496014, 'feature_fraction': 0.18601841747498182, 'importance_type': 'split'}. Best is trial 121 with value: 0.10676756483116931.\n",
      "[I 2024-08-30 19:14:13,435] Trial 173 finished with value: 0.09468253599532621 and parameters: {'num_leaves': 164, 'max_depth': 7, 'learning_rate': 0.13190134212517288, 'n_estimators': 1898, 'min_child_samples': 25, 'lambda_l1': 1.729134602099434, 'lambda_l2': 67.96759723081921, 'min_gain_to_split': 1.40038464395818, 'bagging_fraction': 0.9714183376077561, 'feature_fraction': 0.2374671741361302, 'importance_type': 'split'}. Best is trial 121 with value: 0.10676756483116931.\n",
      "[I 2024-08-30 19:14:19,329] Trial 174 finished with value: 0.09883915229077192 and parameters: {'num_leaves': 182, 'max_depth': 7, 'learning_rate': 0.1491123681046396, 'n_estimators': 1859, 'min_child_samples': 28, 'lambda_l1': 1.5656256407231117, 'lambda_l2': 61.11558047393476, 'min_gain_to_split': 0.626935062750457, 'bagging_fraction': 0.989889013756841, 'feature_fraction': 0.21060129227920257, 'importance_type': 'split'}. Best is trial 121 with value: 0.10676756483116931.\n",
      "[I 2024-08-30 19:14:22,748] Trial 175 finished with value: 0.09184609668274143 and parameters: {'num_leaves': 175, 'max_depth': 7, 'learning_rate': 0.14016718217677718, 'n_estimators': 1934, 'min_child_samples': 22, 'lambda_l1': 0.046362486422993475, 'lambda_l2': 66.31991046474842, 'min_gain_to_split': 4.86238511848472, 'bagging_fraction': 0.9436491677655736, 'feature_fraction': 0.24262974946807092, 'importance_type': 'split'}. Best is trial 121 with value: 0.10676756483116931.\n",
      "[I 2024-08-30 19:14:29,421] Trial 176 finished with value: 0.0985129025520525 and parameters: {'num_leaves': 206, 'max_depth': 7, 'learning_rate': 0.14989419808238214, 'n_estimators': 1767, 'min_child_samples': 17, 'lambda_l1': 2.390629082165617, 'lambda_l2': 59.81787295128488, 'min_gain_to_split': 0.342016421842141, 'bagging_fraction': 0.9739321962009919, 'feature_fraction': 0.30697526391936764, 'importance_type': 'split'}. Best is trial 121 with value: 0.10676756483116931.\n",
      "[I 2024-08-30 19:14:35,265] Trial 177 finished with value: 0.0956819226314599 and parameters: {'num_leaves': 164, 'max_depth': 7, 'learning_rate': 0.14670114464578204, 'n_estimators': 1917, 'min_child_samples': 24, 'lambda_l1': 0.13328213466682604, 'lambda_l2': 61.623963768815436, 'min_gain_to_split': 1.0014692524533158, 'bagging_fraction': 0.9102391764931456, 'feature_fraction': 0.17910815183054868, 'importance_type': 'split'}. Best is trial 121 with value: 0.10676756483116931.\n",
      "[I 2024-08-30 19:14:41,207] Trial 178 finished with value: 0.09895019873073402 and parameters: {'num_leaves': 183, 'max_depth': 7, 'learning_rate': 0.14331226685900475, 'n_estimators': 1853, 'min_child_samples': 20, 'lambda_l1': 5.6083716916638355, 'lambda_l2': 64.11856994745877, 'min_gain_to_split': 0.5379462059014934, 'bagging_fraction': 0.9398834126254044, 'feature_fraction': 0.25609897899453304, 'importance_type': 'split'}. Best is trial 121 with value: 0.10676756483116931.\n",
      "[I 2024-08-30 19:14:44,508] Trial 179 finished with value: 0.09015025945427688 and parameters: {'num_leaves': 153, 'max_depth': 7, 'learning_rate': 0.13654006920011721, 'n_estimators': 1954, 'min_child_samples': 27, 'lambda_l1': 2.770632891448724, 'lambda_l2': 42.062178656574524, 'min_gain_to_split': 4.117962525900538, 'bagging_fraction': 0.9632478855074891, 'feature_fraction': 0.2645624353052249, 'importance_type': 'split'}. Best is trial 121 with value: 0.10676756483116931.\n",
      "[I 2024-08-30 19:14:47,567] Trial 180 finished with value: 0.07477020175070193 and parameters: {'num_leaves': 174, 'max_depth': 6, 'learning_rate': 0.15053111408901818, 'n_estimators': 1886, 'min_child_samples': 24, 'lambda_l1': 45.07801142176171, 'lambda_l2': 58.7940654751371, 'min_gain_to_split': 0.28970789543199293, 'bagging_fraction': 0.9440955366361178, 'feature_fraction': 0.3216917232520913, 'importance_type': 'split'}. Best is trial 121 with value: 0.10676756483116931.\n",
      "[I 2024-08-30 19:15:02,018] Trial 181 finished with value: 0.09712793454677138 and parameters: {'num_leaves': 195, 'max_depth': 8, 'learning_rate': 0.15571257215563078, 'n_estimators': 1837, 'min_child_samples': 18, 'lambda_l1': 3.0115331274523527, 'lambda_l2': 54.34863788374189, 'min_gain_to_split': 0.00710465257925032, 'bagging_fraction': 0.9620104894572028, 'feature_fraction': 0.190568992458957, 'importance_type': 'split'}. Best is trial 121 with value: 0.10676756483116931.\n",
      "[I 2024-08-30 19:15:08,325] Trial 182 finished with value: 0.09432747378362302 and parameters: {'num_leaves': 192, 'max_depth': 8, 'learning_rate': 0.1454770371879381, 'n_estimators': 1877, 'min_child_samples': 20, 'lambda_l1': 5.807955496950207, 'lambda_l2': 56.799536178415714, 'min_gain_to_split': 0.29019525373244015, 'bagging_fraction': 0.9749133552218964, 'feature_fraction': 0.301201140741637, 'importance_type': 'split'}. Best is trial 121 with value: 0.10676756483116931.\n",
      "[I 2024-08-30 19:15:23,154] Trial 183 finished with value: 0.09284548988389629 and parameters: {'num_leaves': 186, 'max_depth': 7, 'learning_rate': 0.05695641174932662, 'n_estimators': 1932, 'min_child_samples': 26, 'lambda_l1': 0.07662253702610045, 'lambda_l2': 60.86767459593395, 'min_gain_to_split': 0.760398758029297, 'bagging_fraction': 0.2312456959019818, 'feature_fraction': 0.21592389235771847, 'importance_type': 'split'}. Best is trial 121 with value: 0.10676756483116931.\n",
      "[I 2024-08-30 19:15:28,679] Trial 184 finished with value: 0.09395039324128021 and parameters: {'num_leaves': 203, 'max_depth': 7, 'learning_rate': 0.14964245288408823, 'n_estimators': 1799, 'min_child_samples': 22, 'lambda_l1': 4.9216206293326525, 'lambda_l2': 65.72579367152244, 'min_gain_to_split': 0.49770900751987707, 'bagging_fraction': 0.9507368358684845, 'feature_fraction': 0.33266467460948407, 'importance_type': 'split'}. Best is trial 121 with value: 0.10676756483116931.\n",
      "[I 2024-08-30 19:15:37,448] Trial 185 finished with value: 0.10180697698506076 and parameters: {'num_leaves': 169, 'max_depth': 7, 'learning_rate': 0.15159732777995982, 'n_estimators': 1969, 'min_child_samples': 11, 'lambda_l1': 2.952530683838133, 'lambda_l2': 54.859390623642895, 'min_gain_to_split': 0.04307818122734845, 'bagging_fraction': 0.36802946608511655, 'feature_fraction': 0.46058725059510564, 'importance_type': 'split'}. Best is trial 121 with value: 0.10676756483116931.\n",
      "[I 2024-08-30 19:15:45,686] Trial 186 finished with value: 0.09502498794972078 and parameters: {'num_leaves': 165, 'max_depth': 7, 'learning_rate': 0.14156638026689872, 'n_estimators': 1961, 'min_child_samples': 12, 'lambda_l1': 2.295191808996757, 'lambda_l2': 49.59922715532613, 'min_gain_to_split': 0.2775879443913803, 'bagging_fraction': 0.522876332081731, 'feature_fraction': 0.14801549003480138, 'importance_type': 'split'}. Best is trial 121 with value: 0.10676756483116931.\n",
      "[I 2024-08-30 19:15:50,237] Trial 187 finished with value: 0.08456198280365602 and parameters: {'num_leaves': 170, 'max_depth': 7, 'learning_rate': 0.15711673605461707, 'n_estimators': 1907, 'min_child_samples': 7, 'lambda_l1': 9.026576161039888, 'lambda_l2': 62.44873540891914, 'min_gain_to_split': 0.8768241886899583, 'bagging_fraction': 0.19174681383270553, 'feature_fraction': 0.47569507270821554, 'importance_type': 'split'}. Best is trial 121 with value: 0.10676756483116931.\n",
      "[I 2024-08-30 19:15:56,000] Trial 188 finished with value: 0.09332338305117825 and parameters: {'num_leaves': 159, 'max_depth': 7, 'learning_rate': 0.1515938274901058, 'n_estimators': 1991, 'min_child_samples': 25, 'lambda_l1': 2.3109751281799094, 'lambda_l2': 54.17311411894125, 'min_gain_to_split': 0.5268757715412931, 'bagging_fraction': 0.3489508492715548, 'feature_fraction': 0.4529113215311122, 'importance_type': 'split'}. Best is trial 121 with value: 0.10676756483116931.\n",
      "[I 2024-08-30 19:15:59,374] Trial 189 finished with value: 0.08192131677716948 and parameters: {'num_leaves': 179, 'max_depth': 6, 'learning_rate': 0.17718043425146293, 'n_estimators': 1961, 'min_child_samples': 28, 'lambda_l1': 7.579490152912834, 'lambda_l2': 68.48876540007986, 'min_gain_to_split': 1.2112966086966106, 'bagging_fraction': 0.30849448269247515, 'feature_fraction': 0.45337447560282274, 'importance_type': 'split'}. Best is trial 121 with value: 0.10676756483116931.\n",
      "[I 2024-08-30 19:16:02,722] Trial 190 finished with value: 0.07763551835770288 and parameters: {'num_leaves': 144, 'max_depth': 7, 'learning_rate': 0.1628691988167934, 'n_estimators': 1920, 'min_child_samples': 17, 'lambda_l1': 35.32658417752397, 'lambda_l2': 59.25201616108177, 'min_gain_to_split': 0.25473117627912756, 'bagging_fraction': 0.90856709541615, 'feature_fraction': 0.28239690743786944, 'importance_type': 'split'}. Best is trial 121 with value: 0.10676756483116931.\n",
      "[I 2024-08-30 19:16:11,515] Trial 191 finished with value: 0.10086291593221404 and parameters: {'num_leaves': 196, 'max_depth': 8, 'learning_rate': 0.14559280464097685, 'n_estimators': 1872, 'min_child_samples': 21, 'lambda_l1': 4.257673103435556, 'lambda_l2': 56.41960642622437, 'min_gain_to_split': 0.055858734140896996, 'bagging_fraction': 0.9896159953424293, 'feature_fraction': 0.38917705766599286, 'importance_type': 'split'}. Best is trial 121 with value: 0.10676756483116931.\n",
      "[I 2024-08-30 19:16:21,047] Trial 192 finished with value: 0.09664011510272515 and parameters: {'num_leaves': 181, 'max_depth': 8, 'learning_rate': 0.1530558189453182, 'n_estimators': 2000, 'min_child_samples': 11, 'lambda_l1': 3.659778538521906, 'lambda_l2': 57.73828964264121, 'min_gain_to_split': 0.06906403053141481, 'bagging_fraction': 0.4799308094280915, 'feature_fraction': 0.43127384040311795, 'importance_type': 'split'}. Best is trial 121 with value: 0.10676756483116931.\n",
      "[I 2024-08-30 19:16:26,003] Trial 193 finished with value: 0.09492092724424661 and parameters: {'num_leaves': 172, 'max_depth': 7, 'learning_rate': 0.15110652545193395, 'n_estimators': 1849, 'min_child_samples': 5, 'lambda_l1': 5.303293614505088, 'lambda_l2': 64.14109163000558, 'min_gain_to_split': 0.5210173812503626, 'bagging_fraction': 0.9682381758899935, 'feature_fraction': 0.46518601090469214, 'importance_type': 'split'}. Best is trial 121 with value: 0.10676756483116931.\n",
      "[I 2024-08-30 19:16:37,875] Trial 194 finished with value: 0.1035185791120928 and parameters: {'num_leaves': 212, 'max_depth': 8, 'learning_rate': 0.15630622678706782, 'n_estimators': 1939, 'min_child_samples': 7, 'lambda_l1': 2.0907422143338095, 'lambda_l2': 54.706386863310044, 'min_gain_to_split': 0.024595712671844943, 'bagging_fraction': 0.9320099119950656, 'feature_fraction': 0.36819989919264307, 'importance_type': 'split'}. Best is trial 121 with value: 0.10676756483116931.\n",
      "[I 2024-08-30 19:16:39,795] Trial 195 finished with value: 0.08244395511387335 and parameters: {'num_leaves': 224, 'max_depth': 7, 'learning_rate': 0.1580154003898555, 'n_estimators': 1940, 'min_child_samples': 7, 'lambda_l1': 53.55087969984569, 'lambda_l2': 51.96546471051982, 'min_gain_to_split': 0.7282011950771649, 'bagging_fraction': 0.11597283380809192, 'feature_fraction': 0.35830871946091725, 'importance_type': 'split'}. Best is trial 121 with value: 0.10676756483116931.\n",
      "[I 2024-08-30 19:16:53,936] Trial 196 finished with value: 0.10240029158308812 and parameters: {'num_leaves': 212, 'max_depth': 7, 'learning_rate': 0.1666317547295739, 'n_estimators': 1902, 'min_child_samples': 23, 'lambda_l1': 1.8568409644121773, 'lambda_l2': 55.14495352118827, 'min_gain_to_split': 0.01842317685355921, 'bagging_fraction': 0.9342948277191977, 'feature_fraction': 0.4268939227358201, 'importance_type': 'split'}. Best is trial 121 with value: 0.10676756483116931.\n",
      "[I 2024-08-30 19:17:07,257] Trial 197 finished with value: 0.10435040268134439 and parameters: {'num_leaves': 234, 'max_depth': 7, 'learning_rate': 0.16498953244248332, 'n_estimators': 1904, 'min_child_samples': 19, 'lambda_l1': 2.0267546054772954, 'lambda_l2': 55.116187160950304, 'min_gain_to_split': 0.018595352192461265, 'bagging_fraction': 0.9288866076518465, 'feature_fraction': 0.4457461400341164, 'importance_type': 'split'}. Best is trial 121 with value: 0.10676756483116931.\n",
      "[I 2024-08-30 19:17:18,757] Trial 198 finished with value: 0.10505606811772603 and parameters: {'num_leaves': 242, 'max_depth': 7, 'learning_rate': 0.16906005109175665, 'n_estimators': 1891, 'min_child_samples': 23, 'lambda_l1': 2.488728621701727, 'lambda_l2': 47.0101855340949, 'min_gain_to_split': 0.013403712175872683, 'bagging_fraction': 0.9334456810678432, 'feature_fraction': 0.4430860023173973, 'importance_type': 'split'}. Best is trial 121 with value: 0.10676756483116931.\n",
      "[I 2024-08-30 19:17:25,104] Trial 199 finished with value: 0.10324841365825192 and parameters: {'num_leaves': 250, 'max_depth': 7, 'learning_rate': 0.1685934356220503, 'n_estimators': 1898, 'min_child_samples': 24, 'lambda_l1': 2.2346794976833975, 'lambda_l2': 45.783411990223854, 'min_gain_to_split': 0.317329995921271, 'bagging_fraction': 0.9378195965141932, 'feature_fraction': 0.48869462915436074, 'importance_type': 'split'}. Best is trial 121 with value: 0.10676756483116931.\n"
     ]
    },
    {
     "name": "stdout",
     "output_type": "stream",
     "text": [
      "Best parameters: {'num_leaves': 169, 'max_depth': 6, 'learning_rate': 0.16425928318076294, 'n_estimators': 1945, 'min_child_samples': 24, 'lambda_l1': 3.868430795025683, 'lambda_l2': 91.5834505530295, 'min_gain_to_split': 0.014830089377118064, 'bagging_fraction': 0.970363185701036, 'feature_fraction': 0.5228547581397347, 'importance_type': 'gain'}\n",
      "Best score: 0.10676756483116931\n"
     ]
    }
   ],
   "source": [
    "def objective(trial, X, y, object_features):            # train set smote la eşitlendi model eğitildi test set üzerinden f1 skor belirlendi\n",
    "    param = {\n",
    "        'objective': 'binary',\n",
    "        'metric': 'binary_logloss',\n",
    "        'num_leaves': trial.suggest_int('num_leaves', 10, 400),              \n",
    "        'max_depth': trial.suggest_int('max_depth', 3, 12),\n",
    "        'learning_rate': trial.suggest_float('learning_rate', 0.01, 0.2),\n",
    "        'n_estimators': trial.suggest_int('n_estimators', 100, 2000),\n",
    "        'min_child_samples': trial.suggest_int('min_child_samples', 5, 100),\n",
    "        'lambda_l1': trial.suggest_float('lambda_l1', 0, 100),                         \n",
    "        'lambda_l2': trial.suggest_float('lambda_l2', 0, 100),\n",
    "        'min_gain_to_split': trial.suggest_float('min_gain_to_split', 0, 15),\n",
    "        'bagging_fraction': trial.suggest_float('bagging_fraction', 0.1, 0.99),\n",
    "        'bagging_freq': 1,\n",
    "        'feature_fraction': trial.suggest_float('feature_fraction', 0.1, 0.99),\n",
    "        'importance_type': trial.suggest_categorical('importance_type', ['split', 'gain']),\n",
    "        'early_stopping_rounds': 10,\n",
    "        'verbose': -1\n",
    "    }\n",
    "    cv = StratifiedKFold(n_splits=5, shuffle=True, random_state=34)   # StratifiedKFold classification problemler için\n",
    "    cv_scores = []\n",
    "\n",
    "    for train_idx, test_idx in cv.split(X,y):                            # BURADA X, y VERMEK YERİNE X_TRAIN DİYE AYIRIP SONRASINDA YAPMAK LAZIM OLABİLİR\n",
    "        X_train, X_test = X.iloc[train_idx], X.iloc[test_idx]\n",
    "        y_train, y_test = y.iloc[train_idx], y.iloc[test_idx]\n",
    "\n",
    "        # LightGBM Dataset oluşturma, categorical_feature parametresini kullan\n",
    "        lgb_train = lgb.Dataset(X_train, label=y_train, categorical_feature=object_features)\n",
    "        lgb_test = lgb.Dataset(X_test, label=y_test, reference=lgb_train, categorical_feature=object_features)\n",
    "\n",
    "        # Model eğitimi\n",
    "        model = lgb.train(\n",
    "            param, \n",
    "            lgb_train,\n",
    "            valid_sets=[lgb_train, lgb_test],\n",
    "            valid_names=['train', 'eval'],\n",
    "            num_boost_round=1000,\n",
    "        )\n",
    "\n",
    "        y_pred = model.predict(X_test_14, num_iteration=model.best_iteration)\n",
    "        y_pred = np.round(y_pred)  # Tahminleri 0 veya 1 olacak şekilde yuvarla\n",
    "\n",
    "        score = f1_score(y_test_14, y_pred)  # F1 skoru kullan\n",
    "        cv_scores.append(score)\n",
    "\n",
    "    return np.mean(cv_scores)\n",
    "\n",
    "# Optuna çalıştırma\n",
    "study = optuna.create_study(direction='maximize', sampler=optuna.samplers.TPESampler())      # 123123213123123123\n",
    "categorical_columns = object_features  # Burada kategorik sütunları belirtin\n",
    "study.optimize(lambda trial: objective(trial, X_train_dict[15], y_train_dict[15], object_features), n_trials=200)\n",
    "\n",
    "# En iyi hiperparametreleri ve sonuçları yazdırma\n",
    "print('Best parameters:', study.best_params)\n",
    "print('Best score:', study.best_value)"
   ]
  },
  {
   "cell_type": "code",
   "execution_count": 289,
   "metadata": {},
   "outputs": [
    {
     "data": {
      "text/plain": [
       "{'num_leaves': 169,\n",
       " 'max_depth': 6,\n",
       " 'learning_rate': 0.16425928318076294,\n",
       " 'n_estimators': 1945,\n",
       " 'min_child_samples': 24,\n",
       " 'lambda_l1': 3.868430795025683,\n",
       " 'lambda_l2': 91.5834505530295,\n",
       " 'min_gain_to_split': 0.014830089377118064,\n",
       " 'bagging_fraction': 0.970363185701036,\n",
       " 'feature_fraction': 0.5228547581397347,\n",
       " 'importance_type': 'gain'}"
      ]
     },
     "execution_count": 289,
     "metadata": {},
     "output_type": "execute_result"
    }
   ],
   "source": [
    "study.best_params"
   ]
  },
  {
   "cell_type": "code",
   "execution_count": 379,
   "metadata": {},
   "outputs": [],
   "source": [
    "params = {'objective': 'binary',\n",
    "          'metric': 'binary_logloss',\n",
    "          'num_leaves': 169,\n",
    "          'max_depth': 6,\n",
    "          'learning_rate': 0.16425928318076294,\n",
    "          'n_estimators': 1945,\n",
    "          'min_child_samples': 24,\n",
    "          'lambda_l1': 3.868430795025683,\n",
    "          'lambda_l2': 91.5834505530295,\n",
    "          'min_gain_to_split': 0.014830089377118064,\n",
    "          'bagging_fraction': 0.970363185701036,\n",
    "          'feature_fraction': 0.5228547581397347,\n",
    "          'importance_type': 'gain',\n",
    "          'early_stopping_rounds': 10,\n",
    "          'verbose': -1\n",
    "          }               # 0.199528672427337 aldık i=14 için # log10 yaptım 0.20325138143669416 # 0.22384428223844283 mayıs haziran ua sildim(log10suz log10 202 yaptı)"
   ]
  },
  {
   "cell_type": "code",
   "execution_count": 404,
   "metadata": {},
   "outputs": [],
   "source": [
    "params = {'objective': 'binary',\n",
    "          'metric': 'binary_logloss',\n",
    "          'num_leaves': 180,\n",
    "          'max_depth': 11,\n",
    "          'learning_rate': 0.19076832918997969,\n",
    "          'n_estimators': 485,\n",
    "          'min_child_samples': 7,\n",
    "          'lambda_l1': 98.33810166213875,\n",
    "          'lambda_l2': 0.1450191516440431,\n",
    "          'min_gain_to_split': 13.486477122576348,\n",
    "          'bagging_fraction': 0.9228659159955044,\n",
    "          'feature_fraction': 0.7162173291525694,\n",
    "          'importance_type': 'gain',\n",
    "          'early_stopping_rounds': 10,\n",
    "          'verbose': -1\n",
    "          }"
   ]
  },
  {
   "cell_type": "code",
   "execution_count": 406,
   "metadata": {},
   "outputs": [],
   "source": [
    "params = {'objective': 'binary',\n",
    "          'metric': 'binary_logloss',\n",
    "          'num_leaves': 40,\n",
    "          'max_depth': 5,\n",
    "          'learning_rate': 0.15,\n",
    "          'n_estimators': 715,\n",
    "          'min_child_samples': 80,\n",
    "          'lambda_l1': 0.17107936110243693,\n",
    "          'lambda_l2': 15.779856945032417,\n",
    "          'min_gain_to_split': 0.06905326228765873,\n",
    "          'bagging_fraction': 0.5131543673879683,\n",
    "          'feature_fraction': 0.22587145096193556,\n",
    "          'importance_type': 'split',\n",
    "          'early_stopping_rounds': 10,\n",
    "          'verbose': -1\n",
    "          }"
   ]
  },
  {
   "cell_type": "markdown",
   "metadata": {},
   "source": [
    "# MODEL"
   ]
  },
  {
   "cell_type": "code",
   "execution_count": 407,
   "metadata": {},
   "outputs": [
    {
     "name": "stdout",
     "output_type": "stream",
     "text": [
      "F1 Score for i=6: 0.03618844882639628\n",
      "F1 Score for i=7: 0.08126550868486353\n",
      "F1 Score for i=11: 0.028392484342379957\n",
      "F1 Score for i=12: 0.026625249611715113\n",
      "F1 Score for i=14: 0.20455883589872992\n",
      "F1 Score for i=15: 0.04050355774493705\n",
      "F1 Score for i=19: 0.03974826101358066\n",
      "[0.03618844882639628, 0.08126550868486353, 0.028392484342379957, 0.026625249611715113, 0.20455883589872992, 0.04050355774493705, 0.03974826101358066]\n"
     ]
    }
   ],
   "source": [
    "f1_scores = []\n",
    "\n",
    "thresholds = np.linspace(0, 1, 200)\n",
    "\n",
    "for i in [6, 7, 11, 12, 14, 15, 19]:\n",
    "    \n",
    "    # LightGBM Dataset oluşturma, categorical_feature parametresini kullan\n",
    "    lgb_train = lgb.Dataset(X_train_dict[i], label=y_train_dict[i], categorical_feature=object_features)\n",
    "    lgb_test = lgb.Dataset(X_test_dict[i], label=y_test_dict[i], reference=lgb_train, categorical_feature=object_features)\n",
    "\n",
    "    # Model eğitimi\n",
    "    model = lgb.train(\n",
    "        params, \n",
    "        lgb_train,\n",
    "        valid_sets=[lgb_train, lgb_test],\n",
    "        valid_names=['train', 'eval'],\n",
    "        num_boost_round=1000,\n",
    "    )\n",
    "\n",
    "    y_pred = model.predict(X_test_dict[i], num_iteration=model.best_iteration)\n",
    "    y_pred = np.round(y_pred)  # Tahminleri 0 veya 1 olacak şekilde yuvarla\n",
    "\n",
    "    score_f1 = f1_score(y_test_dict[i], y_pred)  \n",
    "    f1_scores.append(score_f1)\n",
    "\n",
    "    print(f\"F1 Score for i={i}: {score_f1}\")\n",
    "    \n",
    "# Tüm F1 skorlarını yazdır\n",
    "print(f1_scores)"
   ]
  },
  {
   "cell_type": "markdown",
   "metadata": {},
   "source": [
    "sample ı value_counta eşitledim :\n",
    "F1 Score for i=6: 0.03717472118959108\n",
    "F1 Score for i=7: 0.07267740829619472\n",
    "F1 Score for i=11: 0.011722141823444283\n",
    "F1 Score for i=12: 0.009344875073775329\n",
    "F1 Score for i=14: 0.1710150447533803\n",
    "F1 Score for i=15: 0.010128719139058873\n",
    "F1 Score for i=19: 0.0207244212098581\n",
    "\n",
    "bir tane paramda bu yukardaki geliyor\n",
    "başka paramda da \n",
    "\n",
    "F1 Score for i=6: 0.02682307745077862\n",
    "F1 Score for i=7: 0.06110283159463487\n",
    "F1 Score for i=11: 0.008288871951219511\n",
    "F1 Score for i=12: 0.0\n",
    "F1 Score for i=14: 0.1558587881822734\n",
    "F1 Score for i=15: 0.5932203389830507\n",
    "F1 Score for i=19: 0.010498687664041995 :D"
   ]
  },
  {
   "cell_type": "code",
   "execution_count": 119,
   "metadata": {},
   "outputs": [
    {
     "data": {
      "text/plain": [
       "Index([   139,   2875,   4331,  14005,  15931,  18034,  29047,  31248,  36944,\n",
       "        37114,\n",
       "       ...\n",
       "       765878, 770522, 770569, 796048, 799066, 802275, 814233, 816696, 827658,\n",
       "       850574],\n",
       "      dtype='int64', length=251)"
      ]
     },
     "execution_count": 119,
     "metadata": {},
     "output_type": "execute_result"
    }
   ],
   "source": [
    "X_train_dict[15][X_train_dict[15]['HU15'] == 1].index"
   ]
  },
  {
   "cell_type": "code",
   "execution_count": 121,
   "metadata": {},
   "outputs": [
    {
     "data": {
      "text/plain": [
       "LABEL\n",
       "1    251\n",
       "Name: count, dtype: int64"
      ]
     },
     "execution_count": 121,
     "metadata": {},
     "output_type": "execute_result"
    }
   ],
   "source": [
    "y_train_dict[15][X_train_dict[15][X_train_dict[15]['HU15'] == 1].index].value_counts()"
   ]
  },
  {
   "cell_type": "code",
   "execution_count": 121,
   "metadata": {},
   "outputs": [
    {
     "name": "stdout",
     "output_type": "stream",
     "text": [
      "[[ 99  15]\n",
      " [ 27 112]]\n",
      "F1 Score for i=19: 0.8421052631578947\n"
     ]
    }
   ],
   "source": [
    "lgb_train = lgb.Dataset(X_train, label=y_train, categorical_feature=object_features)\n",
    "lgb_test = lgb.Dataset(X_test, label=y_test, reference=lgb_train, categorical_feature=object_features)\n",
    "\n",
    "    # Model eğitimi\n",
    "model_i = lgb.train(\n",
    "    params, \n",
    "    lgb_train,\n",
    "    valid_sets=[lgb_train, lgb_test],\n",
    "    valid_names=['train', 'eval'],\n",
    "    num_boost_round=1000,\n",
    "    )\n",
    "\n",
    "y_pred_i = model_i.predict(X_test, num_iteration=model_i.best_iteration)\n",
    "y_pred_i = np.round(y_pred_i)  # Tahminleri 0 veya 1 olacak şekilde yuvarla\n",
    "\n",
    "score_f1_i = f1_score(y_test, y_pred_i)  \n",
    "f1_scores.append(score_f1_i)\n",
    "print(confusion_matrix(y_test, y_pred_i))\n",
    "\n",
    "print(f\"F1 Score for i={i}: {score_f1_i}\")"
   ]
  },
  {
   "cell_type": "code",
   "execution_count": 108,
   "metadata": {},
   "outputs": [
    {
     "data": {
      "text/html": [
       "<div>\n",
       "<style scoped>\n",
       "    .dataframe tbody tr th:only-of-type {\n",
       "        vertical-align: middle;\n",
       "    }\n",
       "\n",
       "    .dataframe tbody tr th {\n",
       "        vertical-align: top;\n",
       "    }\n",
       "\n",
       "    .dataframe thead th {\n",
       "        text-align: right;\n",
       "    }\n",
       "</style>\n",
       "<table border=\"1\" class=\"dataframe\">\n",
       "  <thead>\n",
       "    <tr style=\"text-align: right;\">\n",
       "      <th></th>\n",
       "      <th>FLAG</th>\n",
       "      <th>PP_CINSIYET</th>\n",
       "      <th>PP_YAS</th>\n",
       "      <th>PP_MESLEK</th>\n",
       "      <th>PP_MUSTERI_SEGMENTI</th>\n",
       "      <th>PP_UYRUK</th>\n",
       "      <th>IL</th>\n",
       "      <th>SORU_MEDENI_HAL_CVP</th>\n",
       "      <th>SORU_EGITIM_CVP</th>\n",
       "      <th>SORU_GELIR_CVP</th>\n",
       "      <th>...</th>\n",
       "      <th>HU13</th>\n",
       "      <th>HU14</th>\n",
       "      <th>HU15</th>\n",
       "      <th>HU16</th>\n",
       "      <th>HU17</th>\n",
       "      <th>HU18</th>\n",
       "      <th>HU19</th>\n",
       "      <th>AKTIF_ILK_POLICE_RG</th>\n",
       "      <th>EGITIM_RG</th>\n",
       "      <th>BU_TOPLAM</th>\n",
       "    </tr>\n",
       "  </thead>\n",
       "  <tbody>\n",
       "    <tr>\n",
       "      <th>145957</th>\n",
       "      <td>1</td>\n",
       "      <td>2</td>\n",
       "      <td>386</td>\n",
       "      <td>43</td>\n",
       "      <td>103</td>\n",
       "      <td>1</td>\n",
       "      <td>33</td>\n",
       "      <td>3</td>\n",
       "      <td>4.0</td>\n",
       "      <td>3500.0</td>\n",
       "      <td>...</td>\n",
       "      <td>0</td>\n",
       "      <td>0</td>\n",
       "      <td>0</td>\n",
       "      <td>0</td>\n",
       "      <td>0</td>\n",
       "      <td>0</td>\n",
       "      <td>0</td>\n",
       "      <td>99</td>\n",
       "      <td>0</td>\n",
       "      <td>2</td>\n",
       "    </tr>\n",
       "    <tr>\n",
       "      <th>792969</th>\n",
       "      <td>0</td>\n",
       "      <td>2</td>\n",
       "      <td>452</td>\n",
       "      <td>54</td>\n",
       "      <td>102</td>\n",
       "      <td>1</td>\n",
       "      <td>38</td>\n",
       "      <td>3</td>\n",
       "      <td>5.0</td>\n",
       "      <td>3000.0</td>\n",
       "      <td>...</td>\n",
       "      <td>0</td>\n",
       "      <td>0</td>\n",
       "      <td>0</td>\n",
       "      <td>0</td>\n",
       "      <td>0</td>\n",
       "      <td>1</td>\n",
       "      <td>0</td>\n",
       "      <td>101</td>\n",
       "      <td>0</td>\n",
       "      <td>2</td>\n",
       "    </tr>\n",
       "    <tr>\n",
       "      <th>160584</th>\n",
       "      <td>1</td>\n",
       "      <td>2</td>\n",
       "      <td>587</td>\n",
       "      <td>54</td>\n",
       "      <td>103</td>\n",
       "      <td>1</td>\n",
       "      <td>6</td>\n",
       "      <td>0</td>\n",
       "      <td>4.0</td>\n",
       "      <td>5000.0</td>\n",
       "      <td>...</td>\n",
       "      <td>0</td>\n",
       "      <td>0</td>\n",
       "      <td>0</td>\n",
       "      <td>0</td>\n",
       "      <td>0</td>\n",
       "      <td>0</td>\n",
       "      <td>0</td>\n",
       "      <td>24</td>\n",
       "      <td>0</td>\n",
       "      <td>0</td>\n",
       "    </tr>\n",
       "    <tr>\n",
       "      <th>172220</th>\n",
       "      <td>0</td>\n",
       "      <td>2</td>\n",
       "      <td>450</td>\n",
       "      <td>33</td>\n",
       "      <td>105</td>\n",
       "      <td>1</td>\n",
       "      <td>4</td>\n",
       "      <td>3</td>\n",
       "      <td>2.0</td>\n",
       "      <td>1000.0</td>\n",
       "      <td>...</td>\n",
       "      <td>0</td>\n",
       "      <td>0</td>\n",
       "      <td>0</td>\n",
       "      <td>0</td>\n",
       "      <td>0</td>\n",
       "      <td>0</td>\n",
       "      <td>0</td>\n",
       "      <td>10</td>\n",
       "      <td>1</td>\n",
       "      <td>1</td>\n",
       "    </tr>\n",
       "    <tr>\n",
       "      <th>435813</th>\n",
       "      <td>3</td>\n",
       "      <td>2</td>\n",
       "      <td>607</td>\n",
       "      <td>33</td>\n",
       "      <td>104</td>\n",
       "      <td>1</td>\n",
       "      <td>16</td>\n",
       "      <td>3</td>\n",
       "      <td>1.0</td>\n",
       "      <td>2000.0</td>\n",
       "      <td>...</td>\n",
       "      <td>0</td>\n",
       "      <td>0</td>\n",
       "      <td>0</td>\n",
       "      <td>0</td>\n",
       "      <td>0</td>\n",
       "      <td>0</td>\n",
       "      <td>0</td>\n",
       "      <td>45</td>\n",
       "      <td>0</td>\n",
       "      <td>2</td>\n",
       "    </tr>\n",
       "    <tr>\n",
       "      <th>...</th>\n",
       "      <td>...</td>\n",
       "      <td>...</td>\n",
       "      <td>...</td>\n",
       "      <td>...</td>\n",
       "      <td>...</td>\n",
       "      <td>...</td>\n",
       "      <td>...</td>\n",
       "      <td>...</td>\n",
       "      <td>...</td>\n",
       "      <td>...</td>\n",
       "      <td>...</td>\n",
       "      <td>...</td>\n",
       "      <td>...</td>\n",
       "      <td>...</td>\n",
       "      <td>...</td>\n",
       "      <td>...</td>\n",
       "      <td>...</td>\n",
       "      <td>...</td>\n",
       "      <td>...</td>\n",
       "      <td>...</td>\n",
       "      <td>...</td>\n",
       "    </tr>\n",
       "    <tr>\n",
       "      <th>44936</th>\n",
       "      <td>5</td>\n",
       "      <td>2</td>\n",
       "      <td>598</td>\n",
       "      <td>33</td>\n",
       "      <td>105</td>\n",
       "      <td>1</td>\n",
       "      <td>45</td>\n",
       "      <td>3</td>\n",
       "      <td>1.0</td>\n",
       "      <td>7000.0</td>\n",
       "      <td>...</td>\n",
       "      <td>0</td>\n",
       "      <td>1</td>\n",
       "      <td>0</td>\n",
       "      <td>0</td>\n",
       "      <td>0</td>\n",
       "      <td>0</td>\n",
       "      <td>0</td>\n",
       "      <td>6</td>\n",
       "      <td>0</td>\n",
       "      <td>1</td>\n",
       "    </tr>\n",
       "    <tr>\n",
       "      <th>852242</th>\n",
       "      <td>3</td>\n",
       "      <td>2</td>\n",
       "      <td>638</td>\n",
       "      <td>102</td>\n",
       "      <td>105</td>\n",
       "      <td>1</td>\n",
       "      <td>35</td>\n",
       "      <td>0</td>\n",
       "      <td>4.0</td>\n",
       "      <td>6000.0</td>\n",
       "      <td>...</td>\n",
       "      <td>0</td>\n",
       "      <td>0</td>\n",
       "      <td>0</td>\n",
       "      <td>0</td>\n",
       "      <td>0</td>\n",
       "      <td>0</td>\n",
       "      <td>0</td>\n",
       "      <td>19</td>\n",
       "      <td>0</td>\n",
       "      <td>1</td>\n",
       "    </tr>\n",
       "    <tr>\n",
       "      <th>186150</th>\n",
       "      <td>1</td>\n",
       "      <td>2</td>\n",
       "      <td>540</td>\n",
       "      <td>33</td>\n",
       "      <td>105</td>\n",
       "      <td>1</td>\n",
       "      <td>63</td>\n",
       "      <td>3</td>\n",
       "      <td>2.0</td>\n",
       "      <td>3000.0</td>\n",
       "      <td>...</td>\n",
       "      <td>0</td>\n",
       "      <td>0</td>\n",
       "      <td>0</td>\n",
       "      <td>0</td>\n",
       "      <td>0</td>\n",
       "      <td>0</td>\n",
       "      <td>0</td>\n",
       "      <td>90</td>\n",
       "      <td>0</td>\n",
       "      <td>1</td>\n",
       "    </tr>\n",
       "    <tr>\n",
       "      <th>476272</th>\n",
       "      <td>3</td>\n",
       "      <td>2</td>\n",
       "      <td>532</td>\n",
       "      <td>110</td>\n",
       "      <td>103</td>\n",
       "      <td>1</td>\n",
       "      <td>61</td>\n",
       "      <td>3</td>\n",
       "      <td>0.0</td>\n",
       "      <td>6000.0</td>\n",
       "      <td>...</td>\n",
       "      <td>0</td>\n",
       "      <td>0</td>\n",
       "      <td>0</td>\n",
       "      <td>0</td>\n",
       "      <td>0</td>\n",
       "      <td>0</td>\n",
       "      <td>0</td>\n",
       "      <td>62</td>\n",
       "      <td>0</td>\n",
       "      <td>0</td>\n",
       "    </tr>\n",
       "    <tr>\n",
       "      <th>185819</th>\n",
       "      <td>1</td>\n",
       "      <td>2</td>\n",
       "      <td>617</td>\n",
       "      <td>43</td>\n",
       "      <td>103</td>\n",
       "      <td>1</td>\n",
       "      <td>7</td>\n",
       "      <td>0</td>\n",
       "      <td>4.0</td>\n",
       "      <td>6000.0</td>\n",
       "      <td>...</td>\n",
       "      <td>0</td>\n",
       "      <td>0</td>\n",
       "      <td>0</td>\n",
       "      <td>0</td>\n",
       "      <td>0</td>\n",
       "      <td>0</td>\n",
       "      <td>0</td>\n",
       "      <td>117</td>\n",
       "      <td>0</td>\n",
       "      <td>0</td>\n",
       "    </tr>\n",
       "  </tbody>\n",
       "</table>\n",
       "<p>1419 rows × 63 columns</p>\n",
       "</div>"
      ],
      "text/plain": [
       "        FLAG  PP_CINSIYET  PP_YAS  PP_MESLEK  PP_MUSTERI_SEGMENTI  PP_UYRUK  \\\n",
       "145957     1            2     386         43                  103         1   \n",
       "792969     0            2     452         54                  102         1   \n",
       "160584     1            2     587         54                  103         1   \n",
       "172220     0            2     450         33                  105         1   \n",
       "435813     3            2     607         33                  104         1   \n",
       "...      ...          ...     ...        ...                  ...       ...   \n",
       "44936      5            2     598         33                  105         1   \n",
       "852242     3            2     638        102                  105         1   \n",
       "186150     1            2     540         33                  105         1   \n",
       "476272     3            2     532        110                  103         1   \n",
       "185819     1            2     617         43                  103         1   \n",
       "\n",
       "        IL  SORU_MEDENI_HAL_CVP  SORU_EGITIM_CVP  SORU_GELIR_CVP  ...  HU13  \\\n",
       "145957  33                    3              4.0          3500.0  ...     0   \n",
       "792969  38                    3              5.0          3000.0  ...     0   \n",
       "160584   6                    0              4.0          5000.0  ...     0   \n",
       "172220   4                    3              2.0          1000.0  ...     0   \n",
       "435813  16                    3              1.0          2000.0  ...     0   \n",
       "...     ..                  ...              ...             ...  ...   ...   \n",
       "44936   45                    3              1.0          7000.0  ...     0   \n",
       "852242  35                    0              4.0          6000.0  ...     0   \n",
       "186150  63                    3              2.0          3000.0  ...     0   \n",
       "476272  61                    3              0.0          6000.0  ...     0   \n",
       "185819   7                    0              4.0          6000.0  ...     0   \n",
       "\n",
       "        HU14  HU15  HU16  HU17  HU18  HU19  AKTIF_ILK_POLICE_RG  EGITIM_RG  \\\n",
       "145957     0     0     0     0     0     0                   99          0   \n",
       "792969     0     0     0     0     1     0                  101          0   \n",
       "160584     0     0     0     0     0     0                   24          0   \n",
       "172220     0     0     0     0     0     0                   10          1   \n",
       "435813     0     0     0     0     0     0                   45          0   \n",
       "...      ...   ...   ...   ...   ...   ...                  ...        ...   \n",
       "44936      1     0     0     0     0     0                    6          0   \n",
       "852242     0     0     0     0     0     0                   19          0   \n",
       "186150     0     0     0     0     0     0                   90          0   \n",
       "476272     0     0     0     0     0     0                   62          0   \n",
       "185819     0     0     0     0     0     0                  117          0   \n",
       "\n",
       "        BU_TOPLAM  \n",
       "145957          2  \n",
       "792969          2  \n",
       "160584          0  \n",
       "172220          1  \n",
       "435813          2  \n",
       "...           ...  \n",
       "44936           1  \n",
       "852242          1  \n",
       "186150          1  \n",
       "476272          0  \n",
       "185819          0  \n",
       "\n",
       "[1419 rows x 63 columns]"
      ]
     },
     "execution_count": 108,
     "metadata": {},
     "output_type": "execute_result"
    }
   ],
   "source": [
    "X_test"
   ]
  },
  {
   "cell_type": "code",
   "execution_count": 120,
   "metadata": {},
   "outputs": [],
   "source": [
    "y_train.replace({7:0, 0:0, 6:0, 3:1, 2:0, 5:0, 4:0, 1:0}, inplace= True)\n",
    "y_test.replace({7:0, 0:0, 6:0, 3:1, 2:0, 5:0, 4:0, 1:0}, inplace= True)"
   ]
  },
  {
   "cell_type": "code",
   "execution_count": 78,
   "metadata": {},
   "outputs": [
    {
     "ename": "NameError",
     "evalue": "name 'X_test' is not defined",
     "output_type": "error",
     "traceback": [
      "\u001b[1;31m---------------------------------------------------------------------------\u001b[0m",
      "\u001b[1;31mNameError\u001b[0m                                 Traceback (most recent call last)",
      "Cell \u001b[1;32mIn[78], line 1\u001b[0m\n\u001b[1;32m----> 1\u001b[0m X_test\n",
      "\u001b[1;31mNameError\u001b[0m: name 'X_test' is not defined"
     ]
    }
   ],
   "source": [
    "X_test"
   ]
  },
  {
   "cell_type": "code",
   "execution_count": 85,
   "metadata": {},
   "outputs": [
    {
     "data": {
      "text/plain": [
       "0.06546494781143768"
      ]
     },
     "execution_count": 85,
     "metadata": {},
     "output_type": "execute_result"
    }
   ],
   "source": [
    "ürün_agirliklari = [0.0385, 0.0328, 0.2791, 0.1812, 0.0113, 0.2952, 0.1614]\n",
    "\n",
    "agirlikli_f1_score = 0\n",
    "\n",
    "for i in range(0,7):\n",
    "    agirlikli_f1_score_i = f1_scores[i] * ürün_agirliklari[i]\n",
    "    agirlikli_f1_score = agirlikli_f1_score + agirlikli_f1_score_i\n",
    "agirlikli_f1_score"
   ]
  },
  {
   "cell_type": "code",
   "execution_count": null,
   "metadata": {},
   "outputs": [],
   "source": [
    "F1 Score for i=6: 0.028212083847102346\n",
    "F1 Score for i=7: 0.05316540347748551\n",
    "F1 Score for i=11: 0.028092922744462453\n",
    "F1 Score for i=12: 0.02835203780271707\n",
    "F1 Score for i=14: 0.14236090668236678\n",
    "F1 Score for i=15: 0.13186813186813184\n",
    "F1 Score for i=19: 0.056497175141242945"
   ]
  },
  {
   "cell_type": "code",
   "execution_count": 159,
   "metadata": {},
   "outputs": [],
   "source": [
    "X_test['pred'] = y_pred     # 18-69"
   ]
  },
  {
   "cell_type": "code",
   "execution_count": 74,
   "metadata": {},
   "outputs": [],
   "source": [
    "yaşa_takılanlar = X_test[((X_test['PP_YAS'] / 12) < 18) | ((X_test['PP_YAS'] / 12) > 69)].index "
   ]
  },
  {
   "cell_type": "code",
   "execution_count": 75,
   "metadata": {},
   "outputs": [],
   "source": [
    "X_test.loc[yaşa_takılanlar, 'pred'] = X_test.loc[yaşa_takılanlar, 'pred'].replace({1.0: 0.0})"
   ]
  },
  {
   "cell_type": "code",
   "execution_count": 76,
   "metadata": {},
   "outputs": [
    {
     "data": {
      "text/plain": [
       "pred\n",
       "0.0    18693\n",
       "Name: count, dtype: int64"
      ]
     },
     "execution_count": 76,
     "metadata": {},
     "output_type": "execute_result"
    }
   ],
   "source": [
    "X_test.loc[yaşa_takılanlar, 'pred'].value_counts()"
   ]
  },
  {
   "cell_type": "code",
   "execution_count": 77,
   "metadata": {},
   "outputs": [],
   "source": [
    "score_f1 = f1_score(y_test, X_test['pred']) "
   ]
  },
  {
   "cell_type": "code",
   "execution_count": 171,
   "metadata": {},
   "outputs": [
    {
     "data": {
      "text/plain": [
       "0.1168594035301278"
      ]
     },
     "execution_count": 171,
     "metadata": {},
     "output_type": "execute_result"
    }
   ],
   "source": [
    "score_f1"
   ]
  },
  {
   "cell_type": "code",
   "execution_count": 87,
   "metadata": {},
   "outputs": [
    {
     "data": {
      "image/png": "[encoded data removed]",
      "text/plain": [
       "<Figure size 2500x1200 with 1 Axes>"
      ]
     },
     "metadata": {},
     "output_type": "display_data"
    }
   ],
   "source": [
    "lgb_train_14 = lgb.Dataset(X_train_14, label=y_train_14, categorical_feature=object_features)\n",
    "lgb_test_14 = lgb.Dataset(X_test_14, label=y_test_14, reference=lgb_train_14, categorical_feature=object_features)\n",
    "\n",
    "model = lgb.train(\n",
    "        params, \n",
    "        lgb_train_14,\n",
    "        valid_sets=[lgb_train_14, lgb_test_14],\n",
    "        valid_names=['train', 'eval'],\n",
    "        num_boost_round=1000,\n",
    "    )\n",
    "\n",
    "importance = model.feature_importance()\n",
    "importance_df = pd.DataFrame({'Features': X_train_14.columns, 'Importance': importance})\n",
    "\n",
    "# Değişken önemlerini azalan sıraya göre sıralayın\n",
    "importance_df = importance_df.sort_values(by='Importance', ascending=False).head(20)\n",
    "# Değişken önemlerini çubuk grafikle gösterin\n",
    "plt.figure(figsize=(25, 12))\n",
    "plt.bar(importance_df['Features'], importance_df['Importance'])\n",
    "plt.xlabel('Features')\n",
    "plt.ylabel('Importance')\n",
    "plt.title('Feature Importances')\n",
    "plt.xticks(rotation=45)\n",
    "plt.show()"
   ]
  },
  {
   "cell_type": "code",
   "execution_count": 88,
   "metadata": {},
   "outputs": [],
   "source": [
    "import shap   ['PP_MESLEK', 'SORU_GELIR_CVP'] ['PP_YAS', 'SORU_COCUK_SAYISI']"
   ]
  },
  {
   "cell_type": "code",
   "execution_count": 89,
   "metadata": {},
   "outputs": [
    {
     "data": {
      "image/png": "[encoded data removed]",
      "text/plain": [
       "<Figure size 800x950 with 2 Axes>"
      ]
     },
     "metadata": {},
     "output_type": "display_data"
    }
   ],
   "source": [
    "# SHAP değerlerini hesapla\n",
    "explainer = shap.Explainer(model)\n",
    "shap_values = explainer(X_test_14)\n",
    "\n",
    "# SHAP değerlerini görselleştir\n",
    "shap.summary_plot(shap_values, X_test_14)"
   ]
  },
  {
   "cell_type": "code",
   "execution_count": null,
   "metadata": {},
   "outputs": [],
   "source": [
    "from sklearn.neighbors import NearestNeighbors\n",
    "import numpy as np\n",
    "import pandas as pd\n",
    "\n",
    "# Veri setini yükleme ve öznitelikleri seçme\n",
    "df = pd.read_csv('veri_seti.csv')\n",
    "features = df[['sütun1', 'sütun2', 'sütun3']]  # Kullanmak istediğiniz sütunları seçin\n",
    "\n",
    "# KNN modelini oluşturma\n",
    "knn = NearestNeighbors(n_neighbors=5)  # Burada n_neighbors parametresi komşu sayısını belirler\n",
    "knn.fit(features)\n",
    "\n",
    "# Her veri noktasının komşuluk uzaklıklarını hesaplama\n",
    "distances, _ = knn.kneighbors(features)\n",
    "\n",
    "# Outlier tespiti için uzaklıkları kullanma\n",
    "# Burada, örneğin, uzaklıkların 95. persentilinin üzerinde olanları outlier olarak kabul edebiliriz\n",
    "threshold = np.percentile(distances[:, -1], 95)  # Son komşunun uzaklığını kullanarak eşik belirleme\n",
    "outliers = distances[:, -1] > threshold\n",
    "\n",
    "# Outlier olan veri noktalarını yazdırma\n",
    "outlier_df = df[outliers]\n",
    "print(outlier_df)"
   ]
  }
 ],
 "metadata": {
  "kernelspec": {
   "display_name": "base",
   "language": "python",
   "name": "python3"
  },
  "language_info": {
   "codemirror_mode": {
    "name": "ipython",
    "version": 3
   },
   "file_extension": ".py",
   "mimetype": "text/x-python",
   "name": "python",
   "nbconvert_exporter": "python",
   "pygments_lexer": "ipython3",
   "version": "3.11.5"
  }
 },
 "nbformat": 4,
 "nbformat_minor": 2
}
